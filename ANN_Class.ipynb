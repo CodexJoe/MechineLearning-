{
  "nbformat": 4,
  "nbformat_minor": 0,
  "metadata": {
    "colab": {
      "provenance": [],
      "authorship_tag": "ABX9TyOTdZ20TQf2cwUMvwtSJSJH",
      "include_colab_link": true
    },
    "kernelspec": {
      "name": "python3",
      "display_name": "Python 3"
    },
    "language_info": {
      "name": "python"
    }
  },
  "cells": [
    {
      "cell_type": "markdown",
      "metadata": {
        "id": "view-in-github",
        "colab_type": "text"
      },
      "source": [
        "<a href=\"https://colab.research.google.com/github/CodexJoe/MechineLearning-/blob/main/ANN_Class.ipynb\" target=\"_parent\"><img src=\"https://colab.research.google.com/assets/colab-badge.svg\" alt=\"Open In Colab\"/></a>"
      ]
    },
    {
      "cell_type": "code",
      "execution_count": 1,
      "metadata": {
        "id": "Dc3QNLkKz5VU"
      },
      "outputs": [],
      "source": [
        "import pandas as pd\n",
        "from sklearn import datasets\n",
        "from sklearn.model_selection import train_test_split\n",
        "from keras.models import Sequential\n",
        "from keras.layers import Dense\n",
        "import matplotlib.pyplot as plt\n",
        "from sklearn.preprocessing import LabelEncoder\n",
        "from keras.utils import to_categorical\n"
      ]
    },
    {
      "cell_type": "code",
      "source": [
        "# load dataset\n",
        "iris = datasets.load_iris()\n",
        "# features\n",
        "X = iris.data[:, :]  \n",
        "# target\n",
        "y = iris.target"
      ],
      "metadata": {
        "id": "0vVjYQui0Mmr"
      },
      "execution_count": 2,
      "outputs": []
    },
    {
      "cell_type": "code",
      "source": [
        "y"
      ],
      "metadata": {
        "colab": {
          "base_uri": "https://localhost:8080/"
        },
        "id": "7apC6AJS0zLk",
        "outputId": "f02ab83c-4a47-4b8d-ba87-b96dc7a5d125"
      },
      "execution_count": 4,
      "outputs": [
        {
          "output_type": "execute_result",
          "data": {
            "text/plain": [
              "array([0, 0, 0, 0, 0, 0, 0, 0, 0, 0, 0, 0, 0, 0, 0, 0, 0, 0, 0, 0, 0, 0,\n",
              "       0, 0, 0, 0, 0, 0, 0, 0, 0, 0, 0, 0, 0, 0, 0, 0, 0, 0, 0, 0, 0, 0,\n",
              "       0, 0, 0, 0, 0, 0, 1, 1, 1, 1, 1, 1, 1, 1, 1, 1, 1, 1, 1, 1, 1, 1,\n",
              "       1, 1, 1, 1, 1, 1, 1, 1, 1, 1, 1, 1, 1, 1, 1, 1, 1, 1, 1, 1, 1, 1,\n",
              "       1, 1, 1, 1, 1, 1, 1, 1, 1, 1, 1, 1, 2, 2, 2, 2, 2, 2, 2, 2, 2, 2,\n",
              "       2, 2, 2, 2, 2, 2, 2, 2, 2, 2, 2, 2, 2, 2, 2, 2, 2, 2, 2, 2, 2, 2,\n",
              "       2, 2, 2, 2, 2, 2, 2, 2, 2, 2, 2, 2, 2, 2, 2, 2, 2, 2])"
            ]
          },
          "metadata": {},
          "execution_count": 4
        }
      ]
    },
    {
      "cell_type": "code",
      "source": [
        "# encode class values as integers\n",
        "encoder = LabelEncoder()\n",
        "encoder.fit(y)\n",
        "encoded_Y = encoder.transform(y)\n",
        "encoded_Y"
      ],
      "metadata": {
        "colab": {
          "base_uri": "https://localhost:8080/"
        },
        "id": "8x-1ncw21EWn",
        "outputId": "62d51de7-ec5c-484c-d570-034e8b9045e2"
      },
      "execution_count": 5,
      "outputs": [
        {
          "output_type": "execute_result",
          "data": {
            "text/plain": [
              "array([0, 0, 0, 0, 0, 0, 0, 0, 0, 0, 0, 0, 0, 0, 0, 0, 0, 0, 0, 0, 0, 0,\n",
              "       0, 0, 0, 0, 0, 0, 0, 0, 0, 0, 0, 0, 0, 0, 0, 0, 0, 0, 0, 0, 0, 0,\n",
              "       0, 0, 0, 0, 0, 0, 1, 1, 1, 1, 1, 1, 1, 1, 1, 1, 1, 1, 1, 1, 1, 1,\n",
              "       1, 1, 1, 1, 1, 1, 1, 1, 1, 1, 1, 1, 1, 1, 1, 1, 1, 1, 1, 1, 1, 1,\n",
              "       1, 1, 1, 1, 1, 1, 1, 1, 1, 1, 1, 1, 2, 2, 2, 2, 2, 2, 2, 2, 2, 2,\n",
              "       2, 2, 2, 2, 2, 2, 2, 2, 2, 2, 2, 2, 2, 2, 2, 2, 2, 2, 2, 2, 2, 2,\n",
              "       2, 2, 2, 2, 2, 2, 2, 2, 2, 2, 2, 2, 2, 2, 2, 2, 2, 2])"
            ]
          },
          "metadata": {},
          "execution_count": 5
        }
      ]
    },
    {
      "cell_type": "code",
      "source": [
        "#convert intergers to dummy variables\n",
        "Y = to_categorical(encoded_Y)\n",
        "Y"
      ],
      "metadata": {
        "colab": {
          "base_uri": "https://localhost:8080/"
        },
        "id": "bX7A92N62chX",
        "outputId": "8e315725-a96b-4ef3-e88c-637def3b025b"
      },
      "execution_count": 6,
      "outputs": [
        {
          "output_type": "execute_result",
          "data": {
            "text/plain": [
              "array([[1., 0., 0.],\n",
              "       [1., 0., 0.],\n",
              "       [1., 0., 0.],\n",
              "       [1., 0., 0.],\n",
              "       [1., 0., 0.],\n",
              "       [1., 0., 0.],\n",
              "       [1., 0., 0.],\n",
              "       [1., 0., 0.],\n",
              "       [1., 0., 0.],\n",
              "       [1., 0., 0.],\n",
              "       [1., 0., 0.],\n",
              "       [1., 0., 0.],\n",
              "       [1., 0., 0.],\n",
              "       [1., 0., 0.],\n",
              "       [1., 0., 0.],\n",
              "       [1., 0., 0.],\n",
              "       [1., 0., 0.],\n",
              "       [1., 0., 0.],\n",
              "       [1., 0., 0.],\n",
              "       [1., 0., 0.],\n",
              "       [1., 0., 0.],\n",
              "       [1., 0., 0.],\n",
              "       [1., 0., 0.],\n",
              "       [1., 0., 0.],\n",
              "       [1., 0., 0.],\n",
              "       [1., 0., 0.],\n",
              "       [1., 0., 0.],\n",
              "       [1., 0., 0.],\n",
              "       [1., 0., 0.],\n",
              "       [1., 0., 0.],\n",
              "       [1., 0., 0.],\n",
              "       [1., 0., 0.],\n",
              "       [1., 0., 0.],\n",
              "       [1., 0., 0.],\n",
              "       [1., 0., 0.],\n",
              "       [1., 0., 0.],\n",
              "       [1., 0., 0.],\n",
              "       [1., 0., 0.],\n",
              "       [1., 0., 0.],\n",
              "       [1., 0., 0.],\n",
              "       [1., 0., 0.],\n",
              "       [1., 0., 0.],\n",
              "       [1., 0., 0.],\n",
              "       [1., 0., 0.],\n",
              "       [1., 0., 0.],\n",
              "       [1., 0., 0.],\n",
              "       [1., 0., 0.],\n",
              "       [1., 0., 0.],\n",
              "       [1., 0., 0.],\n",
              "       [1., 0., 0.],\n",
              "       [0., 1., 0.],\n",
              "       [0., 1., 0.],\n",
              "       [0., 1., 0.],\n",
              "       [0., 1., 0.],\n",
              "       [0., 1., 0.],\n",
              "       [0., 1., 0.],\n",
              "       [0., 1., 0.],\n",
              "       [0., 1., 0.],\n",
              "       [0., 1., 0.],\n",
              "       [0., 1., 0.],\n",
              "       [0., 1., 0.],\n",
              "       [0., 1., 0.],\n",
              "       [0., 1., 0.],\n",
              "       [0., 1., 0.],\n",
              "       [0., 1., 0.],\n",
              "       [0., 1., 0.],\n",
              "       [0., 1., 0.],\n",
              "       [0., 1., 0.],\n",
              "       [0., 1., 0.],\n",
              "       [0., 1., 0.],\n",
              "       [0., 1., 0.],\n",
              "       [0., 1., 0.],\n",
              "       [0., 1., 0.],\n",
              "       [0., 1., 0.],\n",
              "       [0., 1., 0.],\n",
              "       [0., 1., 0.],\n",
              "       [0., 1., 0.],\n",
              "       [0., 1., 0.],\n",
              "       [0., 1., 0.],\n",
              "       [0., 1., 0.],\n",
              "       [0., 1., 0.],\n",
              "       [0., 1., 0.],\n",
              "       [0., 1., 0.],\n",
              "       [0., 1., 0.],\n",
              "       [0., 1., 0.],\n",
              "       [0., 1., 0.],\n",
              "       [0., 1., 0.],\n",
              "       [0., 1., 0.],\n",
              "       [0., 1., 0.],\n",
              "       [0., 1., 0.],\n",
              "       [0., 1., 0.],\n",
              "       [0., 1., 0.],\n",
              "       [0., 1., 0.],\n",
              "       [0., 1., 0.],\n",
              "       [0., 1., 0.],\n",
              "       [0., 1., 0.],\n",
              "       [0., 1., 0.],\n",
              "       [0., 1., 0.],\n",
              "       [0., 1., 0.],\n",
              "       [0., 1., 0.],\n",
              "       [0., 0., 1.],\n",
              "       [0., 0., 1.],\n",
              "       [0., 0., 1.],\n",
              "       [0., 0., 1.],\n",
              "       [0., 0., 1.],\n",
              "       [0., 0., 1.],\n",
              "       [0., 0., 1.],\n",
              "       [0., 0., 1.],\n",
              "       [0., 0., 1.],\n",
              "       [0., 0., 1.],\n",
              "       [0., 0., 1.],\n",
              "       [0., 0., 1.],\n",
              "       [0., 0., 1.],\n",
              "       [0., 0., 1.],\n",
              "       [0., 0., 1.],\n",
              "       [0., 0., 1.],\n",
              "       [0., 0., 1.],\n",
              "       [0., 0., 1.],\n",
              "       [0., 0., 1.],\n",
              "       [0., 0., 1.],\n",
              "       [0., 0., 1.],\n",
              "       [0., 0., 1.],\n",
              "       [0., 0., 1.],\n",
              "       [0., 0., 1.],\n",
              "       [0., 0., 1.],\n",
              "       [0., 0., 1.],\n",
              "       [0., 0., 1.],\n",
              "       [0., 0., 1.],\n",
              "       [0., 0., 1.],\n",
              "       [0., 0., 1.],\n",
              "       [0., 0., 1.],\n",
              "       [0., 0., 1.],\n",
              "       [0., 0., 1.],\n",
              "       [0., 0., 1.],\n",
              "       [0., 0., 1.],\n",
              "       [0., 0., 1.],\n",
              "       [0., 0., 1.],\n",
              "       [0., 0., 1.],\n",
              "       [0., 0., 1.],\n",
              "       [0., 0., 1.],\n",
              "       [0., 0., 1.],\n",
              "       [0., 0., 1.],\n",
              "       [0., 0., 1.],\n",
              "       [0., 0., 1.],\n",
              "       [0., 0., 1.],\n",
              "       [0., 0., 1.],\n",
              "       [0., 0., 1.],\n",
              "       [0., 0., 1.],\n",
              "       [0., 0., 1.],\n",
              "       [0., 0., 1.]], dtype=float32)"
            ]
          },
          "metadata": {},
          "execution_count": 6
        }
      ]
    },
    {
      "cell_type": "code",
      "source": [
        "#Spliting\n",
        "\n",
        "X_train, X_test, y_train,y_test = train_test_split(X, Y, test_size = 0.1)\n",
        "X_model, X_valid, y_model, y_valid = train_test_split(X_train, y_train, test_size = 0.2) # splitingthe training data into another training and validation"
      ],
      "metadata": {
        "id": "A_6Zuw1J3Jm8"
      },
      "execution_count": 8,
      "outputs": []
    },
    {
      "cell_type": "code",
      "source": [
        "from keras.layers.activation.relu import ReLU\n",
        "# Defining the model\n",
        "model = Sequential()\n",
        "model.add(Dense(16, input_dim = 4, activation = 'relu'))\n"
      ],
      "metadata": {
        "id": "H-shp1uG33zD"
      },
      "execution_count": 9,
      "outputs": []
    },
    {
      "cell_type": "code",
      "source": [
        "model.add(Dense(3, activation = 'softmax'))"
      ],
      "metadata": {
        "id": "kJFPeMlE5qpn"
      },
      "execution_count": 10,
      "outputs": []
    },
    {
      "cell_type": "code",
      "source": [
        "# compile the model\n",
        "model.compile(loss='categorical_crossentropy', optimizer='adam', metrics=[\"accuracy\"]) # WE USED CROSSENTROPY INSTEAD OF COST FUNCTION"
      ],
      "metadata": {
        "id": "4UXwVmSy6Ui_"
      },
      "execution_count": 11,
      "outputs": []
    },
    {
      "cell_type": "code",
      "source": [
        "  history = model.fit(X_model, y_model, validation_data = (X_valid, y_valid), epochs=150)"
      ],
      "metadata": {
        "colab": {
          "base_uri": "https://localhost:8080/"
        },
        "id": "BxdPQtw_324t",
        "outputId": "205e640c-c797-4340-c1a4-b7fe52b131fe"
      },
      "execution_count": 19,
      "outputs": [
        {
          "output_type": "stream",
          "name": "stdout",
          "text": [
            "Epoch 1/150\n",
            "4/4 [==============================] - 0s 25ms/step - loss: 0.1571 - accuracy: 0.9722 - val_loss: 0.1342 - val_accuracy: 0.9630\n",
            "Epoch 2/150\n",
            "4/4 [==============================] - 0s 13ms/step - loss: 0.1574 - accuracy: 0.9722 - val_loss: 0.1338 - val_accuracy: 0.9630\n",
            "Epoch 3/150\n",
            "4/4 [==============================] - 0s 12ms/step - loss: 0.1561 - accuracy: 0.9722 - val_loss: 0.1344 - val_accuracy: 0.9630\n",
            "Epoch 4/150\n",
            "4/4 [==============================] - 0s 13ms/step - loss: 0.1567 - accuracy: 0.9722 - val_loss: 0.1359 - val_accuracy: 0.9630\n",
            "Epoch 5/150\n",
            "4/4 [==============================] - 0s 9ms/step - loss: 0.1548 - accuracy: 0.9722 - val_loss: 0.1346 - val_accuracy: 0.9630\n",
            "Epoch 6/150\n",
            "4/4 [==============================] - 0s 9ms/step - loss: 0.1542 - accuracy: 0.9722 - val_loss: 0.1338 - val_accuracy: 0.9630\n",
            "Epoch 7/150\n",
            "4/4 [==============================] - 0s 11ms/step - loss: 0.1537 - accuracy: 0.9722 - val_loss: 0.1334 - val_accuracy: 0.9630\n",
            "Epoch 8/150\n",
            "4/4 [==============================] - 0s 10ms/step - loss: 0.1532 - accuracy: 0.9722 - val_loss: 0.1327 - val_accuracy: 0.9630\n",
            "Epoch 9/150\n",
            "4/4 [==============================] - 0s 9ms/step - loss: 0.1531 - accuracy: 0.9722 - val_loss: 0.1312 - val_accuracy: 0.9630\n",
            "Epoch 10/150\n",
            "4/4 [==============================] - 0s 10ms/step - loss: 0.1527 - accuracy: 0.9722 - val_loss: 0.1306 - val_accuracy: 0.9630\n",
            "Epoch 11/150\n",
            "4/4 [==============================] - 0s 10ms/step - loss: 0.1528 - accuracy: 0.9722 - val_loss: 0.1303 - val_accuracy: 0.9630\n",
            "Epoch 12/150\n",
            "4/4 [==============================] - 0s 9ms/step - loss: 0.1526 - accuracy: 0.9722 - val_loss: 0.1313 - val_accuracy: 0.9630\n",
            "Epoch 13/150\n",
            "4/4 [==============================] - 0s 9ms/step - loss: 0.1507 - accuracy: 0.9722 - val_loss: 0.1321 - val_accuracy: 0.9630\n",
            "Epoch 14/150\n",
            "4/4 [==============================] - 0s 9ms/step - loss: 0.1503 - accuracy: 0.9722 - val_loss: 0.1325 - val_accuracy: 0.9630\n",
            "Epoch 15/150\n",
            "4/4 [==============================] - 0s 10ms/step - loss: 0.1503 - accuracy: 0.9722 - val_loss: 0.1321 - val_accuracy: 0.9630\n",
            "Epoch 16/150\n",
            "4/4 [==============================] - 0s 9ms/step - loss: 0.1498 - accuracy: 0.9722 - val_loss: 0.1333 - val_accuracy: 0.9630\n",
            "Epoch 17/150\n",
            "4/4 [==============================] - 0s 10ms/step - loss: 0.1494 - accuracy: 0.9815 - val_loss: 0.1324 - val_accuracy: 0.9630\n",
            "Epoch 18/150\n",
            "4/4 [==============================] - 0s 10ms/step - loss: 0.1485 - accuracy: 0.9722 - val_loss: 0.1296 - val_accuracy: 0.9630\n",
            "Epoch 19/150\n",
            "4/4 [==============================] - 0s 10ms/step - loss: 0.1481 - accuracy: 0.9722 - val_loss: 0.1277 - val_accuracy: 0.9630\n",
            "Epoch 20/150\n",
            "4/4 [==============================] - 0s 9ms/step - loss: 0.1492 - accuracy: 0.9722 - val_loss: 0.1269 - val_accuracy: 0.9630\n",
            "Epoch 21/150\n",
            "4/4 [==============================] - 0s 9ms/step - loss: 0.1489 - accuracy: 0.9722 - val_loss: 0.1269 - val_accuracy: 0.9630\n",
            "Epoch 22/150\n",
            "4/4 [==============================] - 0s 9ms/step - loss: 0.1476 - accuracy: 0.9722 - val_loss: 0.1268 - val_accuracy: 0.9630\n",
            "Epoch 23/150\n",
            "4/4 [==============================] - 0s 9ms/step - loss: 0.1468 - accuracy: 0.9722 - val_loss: 0.1268 - val_accuracy: 0.9630\n",
            "Epoch 24/150\n",
            "4/4 [==============================] - 0s 16ms/step - loss: 0.1461 - accuracy: 0.9722 - val_loss: 0.1274 - val_accuracy: 0.9630\n",
            "Epoch 25/150\n",
            "4/4 [==============================] - 0s 11ms/step - loss: 0.1452 - accuracy: 0.9722 - val_loss: 0.1274 - val_accuracy: 0.9630\n",
            "Epoch 26/150\n",
            "4/4 [==============================] - 0s 10ms/step - loss: 0.1450 - accuracy: 0.9722 - val_loss: 0.1282 - val_accuracy: 0.9630\n",
            "Epoch 27/150\n",
            "4/4 [==============================] - 0s 9ms/step - loss: 0.1451 - accuracy: 0.9722 - val_loss: 0.1299 - val_accuracy: 0.9630\n",
            "Epoch 28/150\n",
            "4/4 [==============================] - 0s 13ms/step - loss: 0.1441 - accuracy: 0.9722 - val_loss: 0.1292 - val_accuracy: 0.9630\n",
            "Epoch 29/150\n",
            "4/4 [==============================] - 0s 10ms/step - loss: 0.1436 - accuracy: 0.9722 - val_loss: 0.1278 - val_accuracy: 0.9630\n",
            "Epoch 30/150\n",
            "4/4 [==============================] - 0s 10ms/step - loss: 0.1432 - accuracy: 0.9722 - val_loss: 0.1258 - val_accuracy: 0.9630\n",
            "Epoch 31/150\n",
            "4/4 [==============================] - 0s 9ms/step - loss: 0.1425 - accuracy: 0.9722 - val_loss: 0.1254 - val_accuracy: 0.9630\n",
            "Epoch 32/150\n",
            "4/4 [==============================] - 0s 10ms/step - loss: 0.1421 - accuracy: 0.9722 - val_loss: 0.1249 - val_accuracy: 0.9630\n",
            "Epoch 33/150\n",
            "4/4 [==============================] - 0s 10ms/step - loss: 0.1419 - accuracy: 0.9722 - val_loss: 0.1251 - val_accuracy: 0.9630\n",
            "Epoch 34/150\n",
            "4/4 [==============================] - 0s 10ms/step - loss: 0.1412 - accuracy: 0.9722 - val_loss: 0.1252 - val_accuracy: 0.9630\n",
            "Epoch 35/150\n",
            "4/4 [==============================] - 0s 12ms/step - loss: 0.1409 - accuracy: 0.9722 - val_loss: 0.1252 - val_accuracy: 0.9630\n",
            "Epoch 36/150\n",
            "4/4 [==============================] - 0s 9ms/step - loss: 0.1410 - accuracy: 0.9722 - val_loss: 0.1245 - val_accuracy: 0.9630\n",
            "Epoch 37/150\n",
            "4/4 [==============================] - 0s 10ms/step - loss: 0.1400 - accuracy: 0.9722 - val_loss: 0.1265 - val_accuracy: 0.9630\n",
            "Epoch 38/150\n",
            "4/4 [==============================] - 0s 9ms/step - loss: 0.1397 - accuracy: 0.9722 - val_loss: 0.1267 - val_accuracy: 0.9630\n",
            "Epoch 39/150\n",
            "4/4 [==============================] - 0s 10ms/step - loss: 0.1393 - accuracy: 0.9722 - val_loss: 0.1260 - val_accuracy: 0.9630\n",
            "Epoch 40/150\n",
            "4/4 [==============================] - 0s 11ms/step - loss: 0.1387 - accuracy: 0.9722 - val_loss: 0.1244 - val_accuracy: 0.9630\n",
            "Epoch 41/150\n",
            "4/4 [==============================] - 0s 10ms/step - loss: 0.1388 - accuracy: 0.9722 - val_loss: 0.1230 - val_accuracy: 0.9630\n",
            "Epoch 42/150\n",
            "4/4 [==============================] - 0s 10ms/step - loss: 0.1379 - accuracy: 0.9722 - val_loss: 0.1231 - val_accuracy: 0.9630\n",
            "Epoch 43/150\n",
            "4/4 [==============================] - 0s 11ms/step - loss: 0.1379 - accuracy: 0.9722 - val_loss: 0.1227 - val_accuracy: 0.9630\n",
            "Epoch 44/150\n",
            "4/4 [==============================] - 0s 12ms/step - loss: 0.1367 - accuracy: 0.9722 - val_loss: 0.1239 - val_accuracy: 0.9630\n",
            "Epoch 45/150\n",
            "4/4 [==============================] - 0s 10ms/step - loss: 0.1366 - accuracy: 0.9722 - val_loss: 0.1243 - val_accuracy: 0.9630\n",
            "Epoch 46/150\n",
            "4/4 [==============================] - 0s 10ms/step - loss: 0.1367 - accuracy: 0.9722 - val_loss: 0.1252 - val_accuracy: 0.9630\n",
            "Epoch 47/150\n",
            "4/4 [==============================] - 0s 11ms/step - loss: 0.1371 - accuracy: 0.9722 - val_loss: 0.1259 - val_accuracy: 0.9630\n",
            "Epoch 48/150\n",
            "4/4 [==============================] - 0s 10ms/step - loss: 0.1360 - accuracy: 0.9815 - val_loss: 0.1236 - val_accuracy: 0.9630\n",
            "Epoch 49/150\n",
            "4/4 [==============================] - 0s 10ms/step - loss: 0.1350 - accuracy: 0.9722 - val_loss: 0.1223 - val_accuracy: 0.9630\n",
            "Epoch 50/150\n",
            "4/4 [==============================] - 0s 10ms/step - loss: 0.1347 - accuracy: 0.9722 - val_loss: 0.1216 - val_accuracy: 0.9630\n",
            "Epoch 51/150\n",
            "4/4 [==============================] - 0s 10ms/step - loss: 0.1338 - accuracy: 0.9722 - val_loss: 0.1198 - val_accuracy: 0.9630\n",
            "Epoch 52/150\n",
            "4/4 [==============================] - 0s 10ms/step - loss: 0.1341 - accuracy: 0.9722 - val_loss: 0.1186 - val_accuracy: 0.9630\n",
            "Epoch 53/150\n",
            "4/4 [==============================] - 0s 13ms/step - loss: 0.1350 - accuracy: 0.9722 - val_loss: 0.1179 - val_accuracy: 0.9630\n",
            "Epoch 54/150\n",
            "4/4 [==============================] - 0s 12ms/step - loss: 0.1345 - accuracy: 0.9722 - val_loss: 0.1188 - val_accuracy: 0.9630\n",
            "Epoch 55/150\n",
            "4/4 [==============================] - 0s 14ms/step - loss: 0.1326 - accuracy: 0.9722 - val_loss: 0.1208 - val_accuracy: 0.9630\n",
            "Epoch 56/150\n",
            "4/4 [==============================] - 0s 14ms/step - loss: 0.1321 - accuracy: 0.9722 - val_loss: 0.1233 - val_accuracy: 0.9630\n",
            "Epoch 57/150\n",
            "4/4 [==============================] - 0s 13ms/step - loss: 0.1325 - accuracy: 0.9722 - val_loss: 0.1241 - val_accuracy: 0.9630\n",
            "Epoch 58/150\n",
            "4/4 [==============================] - 0s 13ms/step - loss: 0.1324 - accuracy: 0.9815 - val_loss: 0.1233 - val_accuracy: 0.9630\n",
            "Epoch 59/150\n",
            "4/4 [==============================] - 0s 13ms/step - loss: 0.1319 - accuracy: 0.9722 - val_loss: 0.1224 - val_accuracy: 0.9630\n",
            "Epoch 60/150\n",
            "4/4 [==============================] - 0s 13ms/step - loss: 0.1313 - accuracy: 0.9722 - val_loss: 0.1216 - val_accuracy: 0.9630\n",
            "Epoch 61/150\n",
            "4/4 [==============================] - 0s 13ms/step - loss: 0.1309 - accuracy: 0.9722 - val_loss: 0.1213 - val_accuracy: 0.9630\n",
            "Epoch 62/150\n",
            "4/4 [==============================] - 0s 13ms/step - loss: 0.1302 - accuracy: 0.9722 - val_loss: 0.1189 - val_accuracy: 0.9630\n",
            "Epoch 63/150\n",
            "4/4 [==============================] - 0s 14ms/step - loss: 0.1306 - accuracy: 0.9722 - val_loss: 0.1172 - val_accuracy: 0.9630\n",
            "Epoch 64/150\n",
            "4/4 [==============================] - 0s 12ms/step - loss: 0.1298 - accuracy: 0.9722 - val_loss: 0.1185 - val_accuracy: 0.9630\n",
            "Epoch 65/150\n",
            "4/4 [==============================] - 0s 12ms/step - loss: 0.1291 - accuracy: 0.9722 - val_loss: 0.1191 - val_accuracy: 0.9630\n",
            "Epoch 66/150\n",
            "4/4 [==============================] - 0s 12ms/step - loss: 0.1287 - accuracy: 0.9722 - val_loss: 0.1191 - val_accuracy: 0.9630\n",
            "Epoch 67/150\n",
            "4/4 [==============================] - 0s 13ms/step - loss: 0.1283 - accuracy: 0.9722 - val_loss: 0.1187 - val_accuracy: 0.9630\n",
            "Epoch 68/150\n",
            "4/4 [==============================] - 0s 14ms/step - loss: 0.1280 - accuracy: 0.9722 - val_loss: 0.1182 - val_accuracy: 0.9630\n",
            "Epoch 69/150\n",
            "4/4 [==============================] - 0s 14ms/step - loss: 0.1277 - accuracy: 0.9722 - val_loss: 0.1180 - val_accuracy: 0.9630\n",
            "Epoch 70/150\n",
            "4/4 [==============================] - 0s 13ms/step - loss: 0.1275 - accuracy: 0.9722 - val_loss: 0.1184 - val_accuracy: 0.9630\n",
            "Epoch 71/150\n",
            "4/4 [==============================] - 0s 12ms/step - loss: 0.1290 - accuracy: 0.9722 - val_loss: 0.1162 - val_accuracy: 0.9630\n",
            "Epoch 72/150\n",
            "4/4 [==============================] - 0s 26ms/step - loss: 0.1264 - accuracy: 0.9722 - val_loss: 0.1175 - val_accuracy: 0.9630\n",
            "Epoch 73/150\n",
            "4/4 [==============================] - 0s 11ms/step - loss: 0.1261 - accuracy: 0.9722 - val_loss: 0.1180 - val_accuracy: 0.9630\n",
            "Epoch 74/150\n",
            "4/4 [==============================] - 0s 12ms/step - loss: 0.1259 - accuracy: 0.9722 - val_loss: 0.1182 - val_accuracy: 0.9630\n",
            "Epoch 75/150\n",
            "4/4 [==============================] - 0s 11ms/step - loss: 0.1256 - accuracy: 0.9722 - val_loss: 0.1183 - val_accuracy: 0.9630\n",
            "Epoch 76/150\n",
            "4/4 [==============================] - 0s 12ms/step - loss: 0.1253 - accuracy: 0.9722 - val_loss: 0.1177 - val_accuracy: 0.9630\n",
            "Epoch 77/150\n",
            "4/4 [==============================] - 0s 12ms/step - loss: 0.1249 - accuracy: 0.9722 - val_loss: 0.1157 - val_accuracy: 0.9630\n",
            "Epoch 78/150\n",
            "4/4 [==============================] - 0s 12ms/step - loss: 0.1244 - accuracy: 0.9722 - val_loss: 0.1146 - val_accuracy: 0.9630\n",
            "Epoch 79/150\n",
            "4/4 [==============================] - 0s 13ms/step - loss: 0.1247 - accuracy: 0.9722 - val_loss: 0.1144 - val_accuracy: 0.9630\n",
            "Epoch 80/150\n",
            "4/4 [==============================] - 0s 14ms/step - loss: 0.1240 - accuracy: 0.9722 - val_loss: 0.1132 - val_accuracy: 0.9630\n",
            "Epoch 81/150\n",
            "4/4 [==============================] - 0s 19ms/step - loss: 0.1241 - accuracy: 0.9722 - val_loss: 0.1131 - val_accuracy: 0.9630\n",
            "Epoch 82/150\n",
            "4/4 [==============================] - 0s 12ms/step - loss: 0.1236 - accuracy: 0.9722 - val_loss: 0.1144 - val_accuracy: 0.9630\n",
            "Epoch 83/150\n",
            "4/4 [==============================] - 0s 14ms/step - loss: 0.1228 - accuracy: 0.9722 - val_loss: 0.1158 - val_accuracy: 0.9630\n",
            "Epoch 84/150\n",
            "4/4 [==============================] - 0s 12ms/step - loss: 0.1228 - accuracy: 0.9722 - val_loss: 0.1181 - val_accuracy: 0.9630\n",
            "Epoch 85/150\n",
            "4/4 [==============================] - 0s 12ms/step - loss: 0.1226 - accuracy: 0.9722 - val_loss: 0.1175 - val_accuracy: 0.9630\n",
            "Epoch 86/150\n",
            "4/4 [==============================] - 0s 12ms/step - loss: 0.1223 - accuracy: 0.9722 - val_loss: 0.1153 - val_accuracy: 0.9630\n",
            "Epoch 87/150\n",
            "4/4 [==============================] - 0s 14ms/step - loss: 0.1214 - accuracy: 0.9722 - val_loss: 0.1141 - val_accuracy: 0.9630\n",
            "Epoch 88/150\n",
            "4/4 [==============================] - 0s 11ms/step - loss: 0.1213 - accuracy: 0.9722 - val_loss: 0.1124 - val_accuracy: 0.9630\n",
            "Epoch 89/150\n",
            "4/4 [==============================] - 0s 13ms/step - loss: 0.1215 - accuracy: 0.9722 - val_loss: 0.1118 - val_accuracy: 0.9630\n",
            "Epoch 90/150\n",
            "4/4 [==============================] - 0s 13ms/step - loss: 0.1211 - accuracy: 0.9722 - val_loss: 0.1115 - val_accuracy: 0.9630\n",
            "Epoch 91/150\n",
            "4/4 [==============================] - 0s 15ms/step - loss: 0.1210 - accuracy: 0.9722 - val_loss: 0.1124 - val_accuracy: 0.9630\n",
            "Epoch 92/150\n",
            "4/4 [==============================] - 0s 14ms/step - loss: 0.1206 - accuracy: 0.9722 - val_loss: 0.1135 - val_accuracy: 0.9630\n",
            "Epoch 93/150\n",
            "4/4 [==============================] - 0s 15ms/step - loss: 0.1197 - accuracy: 0.9722 - val_loss: 0.1130 - val_accuracy: 0.9630\n",
            "Epoch 94/150\n",
            "4/4 [==============================] - 0s 13ms/step - loss: 0.1193 - accuracy: 0.9722 - val_loss: 0.1133 - val_accuracy: 0.9630\n",
            "Epoch 95/150\n",
            "4/4 [==============================] - 0s 20ms/step - loss: 0.1193 - accuracy: 0.9722 - val_loss: 0.1129 - val_accuracy: 0.9630\n",
            "Epoch 96/150\n",
            "4/4 [==============================] - 0s 14ms/step - loss: 0.1189 - accuracy: 0.9722 - val_loss: 0.1136 - val_accuracy: 0.9630\n",
            "Epoch 97/150\n",
            "4/4 [==============================] - 0s 13ms/step - loss: 0.1184 - accuracy: 0.9722 - val_loss: 0.1124 - val_accuracy: 0.9630\n",
            "Epoch 98/150\n",
            "4/4 [==============================] - 0s 13ms/step - loss: 0.1181 - accuracy: 0.9722 - val_loss: 0.1117 - val_accuracy: 0.9630\n",
            "Epoch 99/150\n",
            "4/4 [==============================] - 0s 13ms/step - loss: 0.1179 - accuracy: 0.9722 - val_loss: 0.1117 - val_accuracy: 0.9630\n",
            "Epoch 100/150\n",
            "4/4 [==============================] - 0s 14ms/step - loss: 0.1181 - accuracy: 0.9722 - val_loss: 0.1120 - val_accuracy: 0.9630\n",
            "Epoch 101/150\n",
            "4/4 [==============================] - 0s 15ms/step - loss: 0.1184 - accuracy: 0.9722 - val_loss: 0.1096 - val_accuracy: 0.9630\n",
            "Epoch 102/150\n",
            "4/4 [==============================] - 0s 14ms/step - loss: 0.1175 - accuracy: 0.9722 - val_loss: 0.1093 - val_accuracy: 0.9630\n",
            "Epoch 103/150\n",
            "4/4 [==============================] - 0s 13ms/step - loss: 0.1173 - accuracy: 0.9722 - val_loss: 0.1101 - val_accuracy: 0.9630\n",
            "Epoch 104/150\n",
            "4/4 [==============================] - 0s 13ms/step - loss: 0.1165 - accuracy: 0.9722 - val_loss: 0.1123 - val_accuracy: 0.9630\n",
            "Epoch 105/150\n",
            "4/4 [==============================] - 0s 13ms/step - loss: 0.1161 - accuracy: 0.9722 - val_loss: 0.1145 - val_accuracy: 0.9630\n",
            "Epoch 106/150\n",
            "4/4 [==============================] - 0s 13ms/step - loss: 0.1161 - accuracy: 0.9722 - val_loss: 0.1149 - val_accuracy: 0.9630\n",
            "Epoch 107/150\n",
            "4/4 [==============================] - 0s 13ms/step - loss: 0.1158 - accuracy: 0.9722 - val_loss: 0.1158 - val_accuracy: 0.9630\n",
            "Epoch 108/150\n",
            "4/4 [==============================] - 0s 12ms/step - loss: 0.1163 - accuracy: 0.9815 - val_loss: 0.1160 - val_accuracy: 0.9630\n",
            "Epoch 109/150\n",
            "4/4 [==============================] - 0s 12ms/step - loss: 0.1171 - accuracy: 0.9722 - val_loss: 0.1115 - val_accuracy: 0.9630\n",
            "Epoch 110/150\n",
            "4/4 [==============================] - 0s 10ms/step - loss: 0.1146 - accuracy: 0.9722 - val_loss: 0.1108 - val_accuracy: 0.9630\n",
            "Epoch 111/150\n",
            "4/4 [==============================] - 0s 12ms/step - loss: 0.1151 - accuracy: 0.9722 - val_loss: 0.1115 - val_accuracy: 0.9630\n",
            "Epoch 112/150\n",
            "4/4 [==============================] - 0s 10ms/step - loss: 0.1140 - accuracy: 0.9722 - val_loss: 0.1098 - val_accuracy: 0.9630\n",
            "Epoch 113/150\n",
            "4/4 [==============================] - 0s 11ms/step - loss: 0.1141 - accuracy: 0.9722 - val_loss: 0.1087 - val_accuracy: 0.9630\n",
            "Epoch 114/150\n",
            "4/4 [==============================] - 0s 10ms/step - loss: 0.1138 - accuracy: 0.9722 - val_loss: 0.1082 - val_accuracy: 0.9630\n",
            "Epoch 115/150\n",
            "4/4 [==============================] - 0s 10ms/step - loss: 0.1135 - accuracy: 0.9722 - val_loss: 0.1086 - val_accuracy: 0.9630\n",
            "Epoch 116/150\n",
            "4/4 [==============================] - 0s 10ms/step - loss: 0.1129 - accuracy: 0.9722 - val_loss: 0.1104 - val_accuracy: 0.9630\n",
            "Epoch 117/150\n",
            "4/4 [==============================] - 0s 10ms/step - loss: 0.1124 - accuracy: 0.9722 - val_loss: 0.1119 - val_accuracy: 0.9630\n",
            "Epoch 118/150\n",
            "4/4 [==============================] - 0s 11ms/step - loss: 0.1134 - accuracy: 0.9722 - val_loss: 0.1147 - val_accuracy: 0.9630\n",
            "Epoch 119/150\n",
            "4/4 [==============================] - 0s 10ms/step - loss: 0.1128 - accuracy: 0.9815 - val_loss: 0.1142 - val_accuracy: 0.9630\n",
            "Epoch 120/150\n",
            "4/4 [==============================] - 0s 10ms/step - loss: 0.1125 - accuracy: 0.9722 - val_loss: 0.1127 - val_accuracy: 0.9630\n",
            "Epoch 121/150\n",
            "4/4 [==============================] - 0s 10ms/step - loss: 0.1115 - accuracy: 0.9722 - val_loss: 0.1100 - val_accuracy: 0.9630\n",
            "Epoch 122/150\n",
            "4/4 [==============================] - 0s 10ms/step - loss: 0.1110 - accuracy: 0.9722 - val_loss: 0.1083 - val_accuracy: 0.9630\n",
            "Epoch 123/150\n",
            "4/4 [==============================] - 0s 10ms/step - loss: 0.1111 - accuracy: 0.9722 - val_loss: 0.1077 - val_accuracy: 0.9630\n",
            "Epoch 124/150\n",
            "4/4 [==============================] - 0s 10ms/step - loss: 0.1109 - accuracy: 0.9722 - val_loss: 0.1080 - val_accuracy: 0.9630\n",
            "Epoch 125/150\n",
            "4/4 [==============================] - 0s 10ms/step - loss: 0.1105 - accuracy: 0.9722 - val_loss: 0.1091 - val_accuracy: 0.9630\n",
            "Epoch 126/150\n",
            "4/4 [==============================] - 0s 9ms/step - loss: 0.1102 - accuracy: 0.9722 - val_loss: 0.1117 - val_accuracy: 0.9630\n",
            "Epoch 127/150\n",
            "4/4 [==============================] - 0s 10ms/step - loss: 0.1113 - accuracy: 0.9815 - val_loss: 0.1137 - val_accuracy: 0.9630\n",
            "Epoch 128/150\n",
            "4/4 [==============================] - 0s 10ms/step - loss: 0.1102 - accuracy: 0.9815 - val_loss: 0.1109 - val_accuracy: 0.9630\n",
            "Epoch 129/150\n",
            "4/4 [==============================] - 0s 10ms/step - loss: 0.1093 - accuracy: 0.9722 - val_loss: 0.1095 - val_accuracy: 0.9630\n",
            "Epoch 130/150\n",
            "4/4 [==============================] - 0s 11ms/step - loss: 0.1092 - accuracy: 0.9722 - val_loss: 0.1071 - val_accuracy: 0.9630\n",
            "Epoch 131/150\n",
            "4/4 [==============================] - 0s 12ms/step - loss: 0.1094 - accuracy: 0.9722 - val_loss: 0.1059 - val_accuracy: 0.9630\n",
            "Epoch 132/150\n",
            "4/4 [==============================] - 0s 12ms/step - loss: 0.1090 - accuracy: 0.9722 - val_loss: 0.1065 - val_accuracy: 0.9630\n",
            "Epoch 133/150\n",
            "4/4 [==============================] - 0s 16ms/step - loss: 0.1089 - accuracy: 0.9722 - val_loss: 0.1079 - val_accuracy: 0.9630\n",
            "Epoch 134/150\n",
            "4/4 [==============================] - 0s 14ms/step - loss: 0.1081 - accuracy: 0.9722 - val_loss: 0.1074 - val_accuracy: 0.9630\n",
            "Epoch 135/150\n",
            "4/4 [==============================] - 0s 12ms/step - loss: 0.1081 - accuracy: 0.9722 - val_loss: 0.1070 - val_accuracy: 0.9630\n",
            "Epoch 136/150\n",
            "4/4 [==============================] - 0s 13ms/step - loss: 0.1078 - accuracy: 0.9722 - val_loss: 0.1058 - val_accuracy: 0.9630\n",
            "Epoch 137/150\n",
            "4/4 [==============================] - 0s 12ms/step - loss: 0.1078 - accuracy: 0.9722 - val_loss: 0.1053 - val_accuracy: 0.9630\n",
            "Epoch 138/150\n",
            "4/4 [==============================] - 0s 11ms/step - loss: 0.1075 - accuracy: 0.9722 - val_loss: 0.1062 - val_accuracy: 0.9630\n",
            "Epoch 139/150\n",
            "4/4 [==============================] - 0s 11ms/step - loss: 0.1070 - accuracy: 0.9722 - val_loss: 0.1068 - val_accuracy: 0.9630\n",
            "Epoch 140/150\n",
            "4/4 [==============================] - 0s 13ms/step - loss: 0.1070 - accuracy: 0.9722 - val_loss: 0.1089 - val_accuracy: 0.9630\n",
            "Epoch 141/150\n",
            "4/4 [==============================] - 0s 15ms/step - loss: 0.1067 - accuracy: 0.9722 - val_loss: 0.1074 - val_accuracy: 0.9630\n",
            "Epoch 142/150\n",
            "4/4 [==============================] - 0s 12ms/step - loss: 0.1062 - accuracy: 0.9722 - val_loss: 0.1080 - val_accuracy: 0.9630\n",
            "Epoch 143/150\n",
            "4/4 [==============================] - 0s 12ms/step - loss: 0.1059 - accuracy: 0.9722 - val_loss: 0.1079 - val_accuracy: 0.9630\n",
            "Epoch 144/150\n",
            "4/4 [==============================] - 0s 12ms/step - loss: 0.1056 - accuracy: 0.9722 - val_loss: 0.1072 - val_accuracy: 0.9630\n",
            "Epoch 145/150\n",
            "4/4 [==============================] - 0s 13ms/step - loss: 0.1057 - accuracy: 0.9722 - val_loss: 0.1059 - val_accuracy: 0.9630\n",
            "Epoch 146/150\n",
            "4/4 [==============================] - 0s 14ms/step - loss: 0.1052 - accuracy: 0.9722 - val_loss: 0.1067 - val_accuracy: 0.9630\n",
            "Epoch 147/150\n",
            "4/4 [==============================] - 0s 17ms/step - loss: 0.1048 - accuracy: 0.9722 - val_loss: 0.1065 - val_accuracy: 0.9630\n",
            "Epoch 148/150\n",
            "4/4 [==============================] - 0s 14ms/step - loss: 0.1046 - accuracy: 0.9722 - val_loss: 0.1061 - val_accuracy: 0.9630\n",
            "Epoch 149/150\n",
            "4/4 [==============================] - 0s 12ms/step - loss: 0.1046 - accuracy: 0.9722 - val_loss: 0.1054 - val_accuracy: 0.9630\n",
            "Epoch 150/150\n",
            "4/4 [==============================] - 0s 12ms/step - loss: 0.1042 - accuracy: 0.9722 - val_loss: 0.1065 - val_accuracy: 0.9630\n"
          ]
        }
      ]
    },
    {
      "cell_type": "code",
      "source": [
        "model.summary()"
      ],
      "metadata": {
        "colab": {
          "base_uri": "https://localhost:8080/"
        },
        "id": "hh8SCYm78Z45",
        "outputId": "69f4ce52-c4f3-46cf-ed71-1bf6043412ce"
      },
      "execution_count": 20,
      "outputs": [
        {
          "output_type": "stream",
          "name": "stdout",
          "text": [
            "Model: \"sequential\"\n",
            "_________________________________________________________________\n",
            " Layer (type)                Output Shape              Param #   \n",
            "=================================================================\n",
            " dense (Dense)               (None, 16)                80        \n",
            "                                                                 \n",
            " dense_1 (Dense)             (None, 3)                 51        \n",
            "                                                                 \n",
            "=================================================================\n",
            "Total params: 131\n",
            "Trainable params: 131\n",
            "Non-trainable params: 0\n",
            "_________________________________________________________________\n"
          ]
        }
      ]
    },
    {
      "cell_type": "code",
      "source": [
        "# summarize history for accuracy\n",
        "plt.plot(history.history['accuracy'])\n",
        "plt.plot(history.history['val_accuracy'])\n",
        "plt.title('model accuracy')\n",
        "plt.ylabel('accuracy')\n",
        "plt.xlabel('epoch')\n",
        "plt.legend(['train', 'validate'], loc='upper left')\n",
        "plt.show()\n",
        "# summarize history for loss\n",
        "plt.plot(history.history['loss'])\n",
        "plt.plot(history.history['val_loss'])\n",
        "plt.title('model loss')\n",
        "plt.ylabel('loss')\n",
        "plt.xlabel('epoch')\n",
        "plt.legend(['train', 'validate'], loc='upper right')\n",
        "plt.show()"
      ],
      "metadata": {
        "colab": {
          "base_uri": "https://localhost:8080/",
          "height": 573
        },
        "id": "UCcs_fio9Rs1",
        "outputId": "389881ea-d5b6-4aac-f77c-c1b5c8bd7a6b"
      },
      "execution_count": 23,
      "outputs": [
        {
          "output_type": "display_data",
          "data": {
            "text/plain": [
              "<Figure size 432x288 with 1 Axes>"
            ],
            "image/png": "[encoded data removed]"
          },
          "metadata": {
            "needs_background": "light"
          }
        },
        {
          "output_type": "display_data",
          "data": {
            "text/plain": [
              "<Figure size 432x288 with 1 Axes>"
            ],
            "image/png": "[encoded data removed]"
          },
          "metadata": {
            "needs_background": "light"
          }
        }
      ]
    },
    {
      "cell_type": "code",
      "source": [
        "model.evaluate(X_test, y_test)"
      ],
      "metadata": {
        "colab": {
          "base_uri": "https://localhost:8080/"
        },
        "id": "WWNskvPQ_AqC",
        "outputId": "0c9035c6-b3d4-4776-a4b2-6bd78ec40af9"
      },
      "execution_count": 22,
      "outputs": [
        {
          "output_type": "stream",
          "name": "stdout",
          "text": [
            "1/1 [==============================] - 0s 21ms/step - loss: 0.1279 - accuracy: 0.9333\n"
          ]
        },
        {
          "output_type": "execute_result",
          "data": {
            "text/plain": [
              "[0.1278744488954544, 0.9333333373069763]"
            ]
          },
          "metadata": {},
          "execution_count": 22
        }
      ]
    }
  ]
}
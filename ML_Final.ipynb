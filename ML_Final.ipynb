{
 "cells": [
  {
   "cell_type": "markdown",
   "id": "d6148e32",
   "metadata": {},
   "source": [
    "## Objective\n",
    "\n",
    "In this checkpoint, we are going to predict if a patient has chronic kidney disease or not using several classification algorithms of supervised learning. Then we will identify the inherent clusters within our data using clustering algorithms of unsupervised learning.\n",
    "Instructions\n",
    "\n",
    "Part1: supervised learning\n",
    "\n",
    "    Load the dataset of kidney disease.\n",
    "    Use this command to rename the columns:  data.rename(columns={'bp': 'blood_pressure', 'sg': 'specific gravity','al':'albumin','su':'sugar','rbc':'red blood cells','pc':'pus cell','pcc':'pus cell clumps','ba':'bacteria','bgr':'blood glucose random','bu':'blood urea','sc':'serum creatinine','sod':'sodium','pot':'potassium','hemo':'hemoglobin','pcv':'packed cell volume','wc':'white blood cell count','rc':'red blood cell count','htn':'hypertension','dm':'diabetes mellitus','cad':'coronary artery disease','appet':'appetite','pe':'pedal edema','ane':'anemia','classification':'class'},inplace=True)\n",
    "     Apply logistic regression, and print the confusion matrix to validate your model. \n",
    "     Apply KNN and choose the optimal number of neighbors\n",
    "    Apply decision tree, plot it and calculate the accuracy.\n",
    "    Apply random forest, calculate the new accuracy and compare it with the previous result.\n",
    "\n",
    "Part2: unsupervised learning\n",
    "\n",
    "    Drop out the target variable (named “classification”)\n",
    "     Use hierarchical clustering to identify the inherent groupings within your data.\n",
    "     Plot the clusters. \n",
    "     Plot the dendrogram. Use k-means clustering and select the optimal k.\n",
    "     Plot the clusters. "
   ]
  },
  {
   "cell_type": "code",
   "execution_count": 135,
   "id": "47099214",
   "metadata": {},
   "outputs": [],
   "source": [
    "import pandas as pd\n",
    "\n",
    "data = pd.read_csv('kidney_disease.csv')"
   ]
  },
  {
   "cell_type": "code",
   "execution_count": 136,
   "id": "f6cd252e",
   "metadata": {},
   "outputs": [
    {
     "data": {
      "text/html": [
       "<div>\n",
       "<style scoped>\n",
       "    .dataframe tbody tr th:only-of-type {\n",
       "        vertical-align: middle;\n",
       "    }\n",
       "\n",
       "    .dataframe tbody tr th {\n",
       "        vertical-align: top;\n",
       "    }\n",
       "\n",
       "    .dataframe thead th {\n",
       "        text-align: right;\n",
       "    }\n",
       "</style>\n",
       "<table border=\"1\" class=\"dataframe\">\n",
       "  <thead>\n",
       "    <tr style=\"text-align: right;\">\n",
       "      <th></th>\n",
       "      <th>id</th>\n",
       "      <th>age</th>\n",
       "      <th>bp</th>\n",
       "      <th>sg</th>\n",
       "      <th>al</th>\n",
       "      <th>su</th>\n",
       "      <th>rbc</th>\n",
       "      <th>pc</th>\n",
       "      <th>pcc</th>\n",
       "      <th>ba</th>\n",
       "      <th>...</th>\n",
       "      <th>pcv</th>\n",
       "      <th>wc</th>\n",
       "      <th>rc</th>\n",
       "      <th>htn</th>\n",
       "      <th>dm</th>\n",
       "      <th>cad</th>\n",
       "      <th>appet</th>\n",
       "      <th>pe</th>\n",
       "      <th>ane</th>\n",
       "      <th>classification</th>\n",
       "    </tr>\n",
       "  </thead>\n",
       "  <tbody>\n",
       "    <tr>\n",
       "      <th>0</th>\n",
       "      <td>0</td>\n",
       "      <td>48.0</td>\n",
       "      <td>80.0</td>\n",
       "      <td>1.020</td>\n",
       "      <td>1.0</td>\n",
       "      <td>0.0</td>\n",
       "      <td>NaN</td>\n",
       "      <td>normal</td>\n",
       "      <td>notpresent</td>\n",
       "      <td>notpresent</td>\n",
       "      <td>...</td>\n",
       "      <td>44</td>\n",
       "      <td>7800</td>\n",
       "      <td>5.2</td>\n",
       "      <td>yes</td>\n",
       "      <td>yes</td>\n",
       "      <td>no</td>\n",
       "      <td>good</td>\n",
       "      <td>no</td>\n",
       "      <td>no</td>\n",
       "      <td>ckd</td>\n",
       "    </tr>\n",
       "    <tr>\n",
       "      <th>1</th>\n",
       "      <td>1</td>\n",
       "      <td>7.0</td>\n",
       "      <td>50.0</td>\n",
       "      <td>1.020</td>\n",
       "      <td>4.0</td>\n",
       "      <td>0.0</td>\n",
       "      <td>NaN</td>\n",
       "      <td>normal</td>\n",
       "      <td>notpresent</td>\n",
       "      <td>notpresent</td>\n",
       "      <td>...</td>\n",
       "      <td>38</td>\n",
       "      <td>6000</td>\n",
       "      <td>NaN</td>\n",
       "      <td>no</td>\n",
       "      <td>no</td>\n",
       "      <td>no</td>\n",
       "      <td>good</td>\n",
       "      <td>no</td>\n",
       "      <td>no</td>\n",
       "      <td>ckd</td>\n",
       "    </tr>\n",
       "    <tr>\n",
       "      <th>2</th>\n",
       "      <td>2</td>\n",
       "      <td>62.0</td>\n",
       "      <td>80.0</td>\n",
       "      <td>1.010</td>\n",
       "      <td>2.0</td>\n",
       "      <td>3.0</td>\n",
       "      <td>normal</td>\n",
       "      <td>normal</td>\n",
       "      <td>notpresent</td>\n",
       "      <td>notpresent</td>\n",
       "      <td>...</td>\n",
       "      <td>31</td>\n",
       "      <td>7500</td>\n",
       "      <td>NaN</td>\n",
       "      <td>no</td>\n",
       "      <td>yes</td>\n",
       "      <td>no</td>\n",
       "      <td>poor</td>\n",
       "      <td>no</td>\n",
       "      <td>yes</td>\n",
       "      <td>ckd</td>\n",
       "    </tr>\n",
       "    <tr>\n",
       "      <th>3</th>\n",
       "      <td>3</td>\n",
       "      <td>48.0</td>\n",
       "      <td>70.0</td>\n",
       "      <td>1.005</td>\n",
       "      <td>4.0</td>\n",
       "      <td>0.0</td>\n",
       "      <td>normal</td>\n",
       "      <td>abnormal</td>\n",
       "      <td>present</td>\n",
       "      <td>notpresent</td>\n",
       "      <td>...</td>\n",
       "      <td>32</td>\n",
       "      <td>6700</td>\n",
       "      <td>3.9</td>\n",
       "      <td>yes</td>\n",
       "      <td>no</td>\n",
       "      <td>no</td>\n",
       "      <td>poor</td>\n",
       "      <td>yes</td>\n",
       "      <td>yes</td>\n",
       "      <td>ckd</td>\n",
       "    </tr>\n",
       "    <tr>\n",
       "      <th>4</th>\n",
       "      <td>4</td>\n",
       "      <td>51.0</td>\n",
       "      <td>80.0</td>\n",
       "      <td>1.010</td>\n",
       "      <td>2.0</td>\n",
       "      <td>0.0</td>\n",
       "      <td>normal</td>\n",
       "      <td>normal</td>\n",
       "      <td>notpresent</td>\n",
       "      <td>notpresent</td>\n",
       "      <td>...</td>\n",
       "      <td>35</td>\n",
       "      <td>7300</td>\n",
       "      <td>4.6</td>\n",
       "      <td>no</td>\n",
       "      <td>no</td>\n",
       "      <td>no</td>\n",
       "      <td>good</td>\n",
       "      <td>no</td>\n",
       "      <td>no</td>\n",
       "      <td>ckd</td>\n",
       "    </tr>\n",
       "  </tbody>\n",
       "</table>\n",
       "<p>5 rows × 26 columns</p>\n",
       "</div>"
      ],
      "text/plain": [
       "   id   age    bp     sg   al   su     rbc        pc         pcc          ba  \\\n",
       "0   0  48.0  80.0  1.020  1.0  0.0     NaN    normal  notpresent  notpresent   \n",
       "1   1   7.0  50.0  1.020  4.0  0.0     NaN    normal  notpresent  notpresent   \n",
       "2   2  62.0  80.0  1.010  2.0  3.0  normal    normal  notpresent  notpresent   \n",
       "3   3  48.0  70.0  1.005  4.0  0.0  normal  abnormal     present  notpresent   \n",
       "4   4  51.0  80.0  1.010  2.0  0.0  normal    normal  notpresent  notpresent   \n",
       "\n",
       "   ...  pcv    wc   rc  htn   dm  cad appet   pe  ane classification  \n",
       "0  ...   44  7800  5.2  yes  yes   no  good   no   no            ckd  \n",
       "1  ...   38  6000  NaN   no   no   no  good   no   no            ckd  \n",
       "2  ...   31  7500  NaN   no  yes   no  poor   no  yes            ckd  \n",
       "3  ...   32  6700  3.9  yes   no   no  poor  yes  yes            ckd  \n",
       "4  ...   35  7300  4.6   no   no   no  good   no   no            ckd  \n",
       "\n",
       "[5 rows x 26 columns]"
      ]
     },
     "execution_count": 136,
     "metadata": {},
     "output_type": "execute_result"
    }
   ],
   "source": [
    "data.head()"
   ]
  },
  {
   "cell_type": "code",
   "execution_count": 138,
   "id": "0e5ba3bd",
   "metadata": {},
   "outputs": [],
   "source": [
    "data.rename(columns={'bp': 'blood_pressure', 'sg': 'specific_gravity','al':'albumin','su':'sugar',\n",
    "                     'rbc':'red_blood_cells','pc':'pus_cell','pcc':'pus_cell_clumps','ba':'bacteria',\n",
    "                     'bgr':'blood_glucose_random','bu':'blood_urea','sc':'serum_creatinine','sod':'sodium',\n",
    "                     'pot':'potassium','hemo':'hemoglobin','pcv':'packed_cell_volume','wc':'white_blood_cell_count',\n",
    "                     'rc':'red_blood_cell_count','htn':'hypertension','dm':'diabetes_mellitus',\n",
    "                     'cad':'coronary_artery_disease','appet':'appetite','pe':'pedal_edema','ane':'anemia','classification':'class'},inplace=True)"
   ]
  },
  {
   "cell_type": "markdown",
   "id": "1f8b112c",
   "metadata": {},
   "source": [
    "## Data Exploration\n",
    "\n",
    "\n"
   ]
  },
  {
   "cell_type": "code",
   "execution_count": 139,
   "id": "45c8f3cd",
   "metadata": {},
   "outputs": [
    {
     "name": "stdout",
     "output_type": "stream",
     "text": [
      "<class 'pandas.core.frame.DataFrame'>\n",
      "RangeIndex: 400 entries, 0 to 399\n",
      "Data columns (total 26 columns):\n",
      " #   Column                   Non-Null Count  Dtype  \n",
      "---  ------                   --------------  -----  \n",
      " 0   id                       400 non-null    int64  \n",
      " 1   age                      391 non-null    float64\n",
      " 2   blood_pressure           388 non-null    float64\n",
      " 3   specific_gravity         353 non-null    float64\n",
      " 4   albumin                  354 non-null    float64\n",
      " 5   sugar                    351 non-null    float64\n",
      " 6   red_blood_cells          248 non-null    object \n",
      " 7   pus_cell                 335 non-null    object \n",
      " 8   pus_cell_clumps          396 non-null    object \n",
      " 9   bacteria                 396 non-null    object \n",
      " 10  blood_glucose_random     356 non-null    float64\n",
      " 11  blood_urea               381 non-null    float64\n",
      " 12  serum_creatinine         383 non-null    float64\n",
      " 13  sodium                   313 non-null    float64\n",
      " 14  potassium                312 non-null    float64\n",
      " 15  hemoglobin               348 non-null    float64\n",
      " 16  packed_cell_volume       330 non-null    object \n",
      " 17  white_blood_cell_count   295 non-null    object \n",
      " 18  red_blood_cell_count     270 non-null    object \n",
      " 19  hypertension             398 non-null    object \n",
      " 20  diabetes_mellitus        398 non-null    object \n",
      " 21  coronary_artery_disease  398 non-null    object \n",
      " 22  appetite                 399 non-null    object \n",
      " 23  pedal_edema              399 non-null    object \n",
      " 24  anemia                   399 non-null    object \n",
      " 25  class                    400 non-null    object \n",
      "dtypes: float64(11), int64(1), object(14)\n",
      "memory usage: 81.4+ KB\n"
     ]
    }
   ],
   "source": [
    "data.info()"
   ]
  },
  {
   "cell_type": "code",
   "execution_count": 140,
   "id": "6dd37ff2",
   "metadata": {},
   "outputs": [
    {
     "data": {
      "text/plain": [
       "0"
      ]
     },
     "execution_count": 140,
     "metadata": {},
     "output_type": "execute_result"
    }
   ],
   "source": [
    "data.duplicated().sum()"
   ]
  },
  {
   "cell_type": "code",
   "execution_count": 141,
   "id": "3b3cad5e",
   "metadata": {},
   "outputs": [
    {
     "data": {
      "text/plain": [
       "id                           0\n",
       "age                          9\n",
       "blood_pressure              12\n",
       "specific_gravity            47\n",
       "albumin                     46\n",
       "sugar                       49\n",
       "red_blood_cells            152\n",
       "pus_cell                    65\n",
       "pus_cell_clumps              4\n",
       "bacteria                     4\n",
       "blood_glucose_random        44\n",
       "blood_urea                  19\n",
       "serum_creatinine            17\n",
       "sodium                      87\n",
       "potassium                   88\n",
       "hemoglobin                  52\n",
       "packed_cell_volume          70\n",
       "white_blood_cell_count     105\n",
       "red_blood_cell_count       130\n",
       "hypertension                 2\n",
       "diabetes_mellitus            2\n",
       "coronary_artery_disease      2\n",
       "appetite                     1\n",
       "pedal_edema                  1\n",
       "anemia                       1\n",
       "class                        0\n",
       "dtype: int64"
      ]
     },
     "execution_count": 141,
     "metadata": {},
     "output_type": "execute_result"
    }
   ],
   "source": [
    "data.isnull().sum()"
   ]
  },
  {
   "cell_type": "markdown",
   "id": "fb4416a7",
   "metadata": {},
   "source": [
    "## Preprocessing and Cleaning"
   ]
  },
  {
   "cell_type": "code",
   "execution_count": 142,
   "id": "c0a3f62f",
   "metadata": {},
   "outputs": [],
   "source": [
    "#Removing null values \n",
    "\n",
    "data['age'].fillna(data['age'].mean(), inplace = True)\n",
    "data['blood_pressure'].fillna(data['blood_pressure'].mean(), inplace = True)\n",
    "data['specific_gravity'].fillna(data['specific_gravity'].mean(), inplace = True)\n",
    "data['albumin'].fillna(data['albumin'].mean(), inplace = True)\n",
    "data['sugar'].fillna(data['sugar'].mean(), inplace = True)\n",
    "data['blood_glucose_random'].fillna(data['blood_glucose_random'].mean(), inplace = True)\n",
    "data['blood_urea'].fillna(data['blood_urea'].mean(), inplace = True)\n",
    "data['serum_creatinine'].fillna(data['serum_creatinine'].mean(), inplace = True)\n",
    "data['sodium'].fillna(data['sodium'].mean(), inplace = True)\n",
    "data['potassium'].fillna(data['potassium'].mean(), inplace = True)\n",
    "data['hemoglobin'].fillna(data['hemoglobin'].mean(), inplace = True)"
   ]
  },
  {
   "cell_type": "code",
   "execution_count": 143,
   "id": "9ba3dce9",
   "metadata": {},
   "outputs": [],
   "source": [
    "# Filling Null value for White blood cel and red blood cell count\n",
    "\n",
    "data['white_blood_cell_count'] = data['white_blood_cell_count'].replace('\\t?') # Removing the ? item\n",
    "data['red_blood_cell_count'] = data['red_blood_cell_count'].replace('\\t?')\n",
    "data['white_blood_cell_count'].fillna(-1, inplace = True) # First replace the null values with -1\n",
    "data['red_blood_cell_count'].fillna(-1, inplace = True)\n",
    "data['white_blood_cell_count'] = data['white_blood_cell_count'].astype(float) # converting the object data type to float\n",
    "data['red_blood_cell_count'] = data['red_blood_cell_count'].astype(float)\n",
    "data['white_blood_cell_count'].replace(-1, data['white_blood_cell_count'].mean(), inplace = True)\n",
    "data['red_blood_cell_count'].replace(-1, data['red_blood_cell_count'].mean(), inplace = True)# Replace the initial -1 with mean value"
   ]
  },
  {
   "cell_type": "code",
   "execution_count": 167,
   "id": "0e1e4052",
   "metadata": {},
   "outputs": [],
   "source": [
    "data['coronary_artery_disease'].fillna('yes', inplace = True)\n",
    "\n",
    "data['coronary_artery_disease'] = data['coronary_artery_disease'].replace('\\tno', 'no')\n",
    "\n",
    "data['class'] = data['class'].replace('ckd\\t', 'ckd')"
   ]
  },
  {
   "cell_type": "code",
   "execution_count": 168,
   "id": "b2f5b562",
   "metadata": {},
   "outputs": [
    {
     "data": {
      "text/html": [
       "<div>\n",
       "<style scoped>\n",
       "    .dataframe tbody tr th:only-of-type {\n",
       "        vertical-align: middle;\n",
       "    }\n",
       "\n",
       "    .dataframe tbody tr th {\n",
       "        vertical-align: top;\n",
       "    }\n",
       "\n",
       "    .dataframe thead th {\n",
       "        text-align: right;\n",
       "    }\n",
       "</style>\n",
       "<table border=\"1\" class=\"dataframe\">\n",
       "  <thead>\n",
       "    <tr style=\"text-align: right;\">\n",
       "      <th></th>\n",
       "      <th>id</th>\n",
       "      <th>age</th>\n",
       "      <th>blood_pressure</th>\n",
       "      <th>specific_gravity</th>\n",
       "      <th>albumin</th>\n",
       "      <th>sugar</th>\n",
       "      <th>blood_glucose_random</th>\n",
       "      <th>blood_urea</th>\n",
       "      <th>serum_creatinine</th>\n",
       "      <th>sodium</th>\n",
       "      <th>potassium</th>\n",
       "      <th>hemoglobin</th>\n",
       "      <th>white_blood_cell_count</th>\n",
       "      <th>red_blood_cell_count</th>\n",
       "    </tr>\n",
       "  </thead>\n",
       "  <tbody>\n",
       "    <tr>\n",
       "      <th>id</th>\n",
       "      <td>1.000000</td>\n",
       "      <td>-0.184043</td>\n",
       "      <td>-0.243732</td>\n",
       "      <td>0.613623</td>\n",
       "      <td>-0.520040</td>\n",
       "      <td>-0.271330</td>\n",
       "      <td>-0.319937</td>\n",
       "      <td>-0.300943</td>\n",
       "      <td>-0.264695</td>\n",
       "      <td>0.323064</td>\n",
       "      <td>-0.081524</td>\n",
       "      <td>0.609503</td>\n",
       "      <td>-0.048019</td>\n",
       "      <td>0.617235</td>\n",
       "    </tr>\n",
       "    <tr>\n",
       "      <th>age</th>\n",
       "      <td>-0.184043</td>\n",
       "      <td>1.000000</td>\n",
       "      <td>0.148004</td>\n",
       "      <td>-0.180570</td>\n",
       "      <td>0.114764</td>\n",
       "      <td>0.207857</td>\n",
       "      <td>0.214410</td>\n",
       "      <td>0.187544</td>\n",
       "      <td>0.127316</td>\n",
       "      <td>-0.085949</td>\n",
       "      <td>0.050148</td>\n",
       "      <td>-0.175380</td>\n",
       "      <td>0.064812</td>\n",
       "      <td>-0.112667</td>\n",
       "    </tr>\n",
       "    <tr>\n",
       "      <th>blood_pressure</th>\n",
       "      <td>-0.243732</td>\n",
       "      <td>0.148004</td>\n",
       "      <td>1.000000</td>\n",
       "      <td>-0.182463</td>\n",
       "      <td>0.146593</td>\n",
       "      <td>0.200784</td>\n",
       "      <td>0.149100</td>\n",
       "      <td>0.183970</td>\n",
       "      <td>0.144359</td>\n",
       "      <td>-0.103220</td>\n",
       "      <td>0.066648</td>\n",
       "      <td>-0.279535</td>\n",
       "      <td>0.002001</td>\n",
       "      <td>-0.164298</td>\n",
       "    </tr>\n",
       "    <tr>\n",
       "      <th>specific_gravity</th>\n",
       "      <td>0.613623</td>\n",
       "      <td>-0.180570</td>\n",
       "      <td>-0.182463</td>\n",
       "      <td>1.000000</td>\n",
       "      <td>-0.466698</td>\n",
       "      <td>-0.287993</td>\n",
       "      <td>-0.326339</td>\n",
       "      <td>-0.278568</td>\n",
       "      <td>-0.213513</td>\n",
       "      <td>0.242841</td>\n",
       "      <td>-0.061821</td>\n",
       "      <td>0.531755</td>\n",
       "      <td>-0.114237</td>\n",
       "      <td>0.505660</td>\n",
       "    </tr>\n",
       "    <tr>\n",
       "      <th>albumin</th>\n",
       "      <td>-0.520040</td>\n",
       "      <td>0.114764</td>\n",
       "      <td>0.146593</td>\n",
       "      <td>-0.466698</td>\n",
       "      <td>1.000000</td>\n",
       "      <td>0.268070</td>\n",
       "      <td>0.326400</td>\n",
       "      <td>0.405778</td>\n",
       "      <td>0.230479</td>\n",
       "      <td>-0.271316</td>\n",
       "      <td>0.114427</td>\n",
       "      <td>-0.549697</td>\n",
       "      <td>0.142297</td>\n",
       "      <td>-0.437674</td>\n",
       "    </tr>\n",
       "    <tr>\n",
       "      <th>sugar</th>\n",
       "      <td>-0.271330</td>\n",
       "      <td>0.207857</td>\n",
       "      <td>0.200784</td>\n",
       "      <td>-0.287993</td>\n",
       "      <td>0.268070</td>\n",
       "      <td>1.000000</td>\n",
       "      <td>0.639186</td>\n",
       "      <td>0.152186</td>\n",
       "      <td>0.130122</td>\n",
       "      <td>-0.073715</td>\n",
       "      <td>0.181015</td>\n",
       "      <td>-0.191518</td>\n",
       "      <td>0.117577</td>\n",
       "      <td>-0.176794</td>\n",
       "    </tr>\n",
       "    <tr>\n",
       "      <th>blood_glucose_random</th>\n",
       "      <td>-0.319937</td>\n",
       "      <td>0.214410</td>\n",
       "      <td>0.149100</td>\n",
       "      <td>-0.326339</td>\n",
       "      <td>0.326400</td>\n",
       "      <td>0.639186</td>\n",
       "      <td>1.000000</td>\n",
       "      <td>0.127489</td>\n",
       "      <td>0.082242</td>\n",
       "      <td>-0.154393</td>\n",
       "      <td>0.056695</td>\n",
       "      <td>-0.269149</td>\n",
       "      <td>0.084005</td>\n",
       "      <td>-0.206556</td>\n",
       "    </tr>\n",
       "    <tr>\n",
       "      <th>blood_urea</th>\n",
       "      <td>-0.300943</td>\n",
       "      <td>0.187544</td>\n",
       "      <td>0.183970</td>\n",
       "      <td>-0.278568</td>\n",
       "      <td>0.405778</td>\n",
       "      <td>0.152186</td>\n",
       "      <td>0.127489</td>\n",
       "      <td>1.000000</td>\n",
       "      <td>0.581222</td>\n",
       "      <td>-0.307360</td>\n",
       "      <td>0.336979</td>\n",
       "      <td>-0.540641</td>\n",
       "      <td>0.018717</td>\n",
       "      <td>-0.344391</td>\n",
       "    </tr>\n",
       "    <tr>\n",
       "      <th>serum_creatinine</th>\n",
       "      <td>-0.264695</td>\n",
       "      <td>0.127316</td>\n",
       "      <td>0.144359</td>\n",
       "      <td>-0.213513</td>\n",
       "      <td>0.230479</td>\n",
       "      <td>0.130122</td>\n",
       "      <td>0.082242</td>\n",
       "      <td>0.581222</td>\n",
       "      <td>1.000000</td>\n",
       "      <td>-0.624491</td>\n",
       "      <td>0.205347</td>\n",
       "      <td>-0.342079</td>\n",
       "      <td>-0.040243</td>\n",
       "      <td>-0.272844</td>\n",
       "    </tr>\n",
       "    <tr>\n",
       "      <th>sodium</th>\n",
       "      <td>0.323064</td>\n",
       "      <td>-0.085949</td>\n",
       "      <td>-0.103220</td>\n",
       "      <td>0.242841</td>\n",
       "      <td>-0.271316</td>\n",
       "      <td>-0.073715</td>\n",
       "      <td>-0.154393</td>\n",
       "      <td>-0.307360</td>\n",
       "      <td>-0.624491</td>\n",
       "      <td>1.000000</td>\n",
       "      <td>0.067449</td>\n",
       "      <td>0.333614</td>\n",
       "      <td>0.017887</td>\n",
       "      <td>0.249818</td>\n",
       "    </tr>\n",
       "    <tr>\n",
       "      <th>potassium</th>\n",
       "      <td>-0.081524</td>\n",
       "      <td>0.050148</td>\n",
       "      <td>0.066648</td>\n",
       "      <td>-0.061821</td>\n",
       "      <td>0.114427</td>\n",
       "      <td>0.181015</td>\n",
       "      <td>0.056695</td>\n",
       "      <td>0.336979</td>\n",
       "      <td>0.205347</td>\n",
       "      <td>0.067449</td>\n",
       "      <td>1.000000</td>\n",
       "      <td>-0.100606</td>\n",
       "      <td>-0.084043</td>\n",
       "      <td>-0.108952</td>\n",
       "    </tr>\n",
       "    <tr>\n",
       "      <th>hemoglobin</th>\n",
       "      <td>0.609503</td>\n",
       "      <td>-0.175380</td>\n",
       "      <td>-0.279535</td>\n",
       "      <td>0.531755</td>\n",
       "      <td>-0.549697</td>\n",
       "      <td>-0.191518</td>\n",
       "      <td>-0.269149</td>\n",
       "      <td>-0.540641</td>\n",
       "      <td>-0.342079</td>\n",
       "      <td>0.333614</td>\n",
       "      <td>-0.100606</td>\n",
       "      <td>1.000000</td>\n",
       "      <td>-0.062969</td>\n",
       "      <td>0.670998</td>\n",
       "    </tr>\n",
       "    <tr>\n",
       "      <th>white_blood_cell_count</th>\n",
       "      <td>-0.048019</td>\n",
       "      <td>0.064812</td>\n",
       "      <td>0.002001</td>\n",
       "      <td>-0.114237</td>\n",
       "      <td>0.142297</td>\n",
       "      <td>0.117577</td>\n",
       "      <td>0.084005</td>\n",
       "      <td>0.018717</td>\n",
       "      <td>-0.040243</td>\n",
       "      <td>0.017887</td>\n",
       "      <td>-0.084043</td>\n",
       "      <td>-0.062969</td>\n",
       "      <td>1.000000</td>\n",
       "      <td>0.132577</td>\n",
       "    </tr>\n",
       "    <tr>\n",
       "      <th>red_blood_cell_count</th>\n",
       "      <td>0.617235</td>\n",
       "      <td>-0.112667</td>\n",
       "      <td>-0.164298</td>\n",
       "      <td>0.505660</td>\n",
       "      <td>-0.437674</td>\n",
       "      <td>-0.176794</td>\n",
       "      <td>-0.206556</td>\n",
       "      <td>-0.344391</td>\n",
       "      <td>-0.272844</td>\n",
       "      <td>0.249818</td>\n",
       "      <td>-0.108952</td>\n",
       "      <td>0.670998</td>\n",
       "      <td>0.132577</td>\n",
       "      <td>1.000000</td>\n",
       "    </tr>\n",
       "  </tbody>\n",
       "</table>\n",
       "</div>"
      ],
      "text/plain": [
       "                              id       age  blood_pressure  specific_gravity  \\\n",
       "id                      1.000000 -0.184043       -0.243732          0.613623   \n",
       "age                    -0.184043  1.000000        0.148004         -0.180570   \n",
       "blood_pressure         -0.243732  0.148004        1.000000         -0.182463   \n",
       "specific_gravity        0.613623 -0.180570       -0.182463          1.000000   \n",
       "albumin                -0.520040  0.114764        0.146593         -0.466698   \n",
       "sugar                  -0.271330  0.207857        0.200784         -0.287993   \n",
       "blood_glucose_random   -0.319937  0.214410        0.149100         -0.326339   \n",
       "blood_urea             -0.300943  0.187544        0.183970         -0.278568   \n",
       "serum_creatinine       -0.264695  0.127316        0.144359         -0.213513   \n",
       "sodium                  0.323064 -0.085949       -0.103220          0.242841   \n",
       "potassium              -0.081524  0.050148        0.066648         -0.061821   \n",
       "hemoglobin              0.609503 -0.175380       -0.279535          0.531755   \n",
       "white_blood_cell_count -0.048019  0.064812        0.002001         -0.114237   \n",
       "red_blood_cell_count    0.617235 -0.112667       -0.164298          0.505660   \n",
       "\n",
       "                         albumin     sugar  blood_glucose_random  blood_urea  \\\n",
       "id                     -0.520040 -0.271330             -0.319937   -0.300943   \n",
       "age                     0.114764  0.207857              0.214410    0.187544   \n",
       "blood_pressure          0.146593  0.200784              0.149100    0.183970   \n",
       "specific_gravity       -0.466698 -0.287993             -0.326339   -0.278568   \n",
       "albumin                 1.000000  0.268070              0.326400    0.405778   \n",
       "sugar                   0.268070  1.000000              0.639186    0.152186   \n",
       "blood_glucose_random    0.326400  0.639186              1.000000    0.127489   \n",
       "blood_urea              0.405778  0.152186              0.127489    1.000000   \n",
       "serum_creatinine        0.230479  0.130122              0.082242    0.581222   \n",
       "sodium                 -0.271316 -0.073715             -0.154393   -0.307360   \n",
       "potassium               0.114427  0.181015              0.056695    0.336979   \n",
       "hemoglobin             -0.549697 -0.191518             -0.269149   -0.540641   \n",
       "white_blood_cell_count  0.142297  0.117577              0.084005    0.018717   \n",
       "red_blood_cell_count   -0.437674 -0.176794             -0.206556   -0.344391   \n",
       "\n",
       "                        serum_creatinine    sodium  potassium  hemoglobin  \\\n",
       "id                             -0.264695  0.323064  -0.081524    0.609503   \n",
       "age                             0.127316 -0.085949   0.050148   -0.175380   \n",
       "blood_pressure                  0.144359 -0.103220   0.066648   -0.279535   \n",
       "specific_gravity               -0.213513  0.242841  -0.061821    0.531755   \n",
       "albumin                         0.230479 -0.271316   0.114427   -0.549697   \n",
       "sugar                           0.130122 -0.073715   0.181015   -0.191518   \n",
       "blood_glucose_random            0.082242 -0.154393   0.056695   -0.269149   \n",
       "blood_urea                      0.581222 -0.307360   0.336979   -0.540641   \n",
       "serum_creatinine                1.000000 -0.624491   0.205347   -0.342079   \n",
       "sodium                         -0.624491  1.000000   0.067449    0.333614   \n",
       "potassium                       0.205347  0.067449   1.000000   -0.100606   \n",
       "hemoglobin                     -0.342079  0.333614  -0.100606    1.000000   \n",
       "white_blood_cell_count         -0.040243  0.017887  -0.084043   -0.062969   \n",
       "red_blood_cell_count           -0.272844  0.249818  -0.108952    0.670998   \n",
       "\n",
       "                        white_blood_cell_count  red_blood_cell_count  \n",
       "id                                   -0.048019              0.617235  \n",
       "age                                   0.064812             -0.112667  \n",
       "blood_pressure                        0.002001             -0.164298  \n",
       "specific_gravity                     -0.114237              0.505660  \n",
       "albumin                               0.142297             -0.437674  \n",
       "sugar                                 0.117577             -0.176794  \n",
       "blood_glucose_random                  0.084005             -0.206556  \n",
       "blood_urea                            0.018717             -0.344391  \n",
       "serum_creatinine                     -0.040243             -0.272844  \n",
       "sodium                                0.017887              0.249818  \n",
       "potassium                            -0.084043             -0.108952  \n",
       "hemoglobin                           -0.062969              0.670998  \n",
       "white_blood_cell_count                1.000000              0.132577  \n",
       "red_blood_cell_count                  0.132577              1.000000  "
      ]
     },
     "execution_count": 168,
     "metadata": {},
     "output_type": "execute_result"
    }
   ],
   "source": [
    "data.corr()"
   ]
  },
  {
   "cell_type": "code",
   "execution_count": 169,
   "id": "844e44dc",
   "metadata": {},
   "outputs": [],
   "source": [
    "# Feature Selection\n",
    "\n",
    "feature = data[['age','blood_pressure', 'specific_gravity', 'albumin', 'blood_glucose_random', \n",
    "                'blood_urea', 'serum_creatinine','potassium', 'white_blood_cell_count', \n",
    "                'red_blood_cell_count']].values # Features selected using max corrolation of 0.55\n",
    "y = data['class'].values\n"
   ]
  },
  {
   "cell_type": "markdown",
   "id": "6481b4e8",
   "metadata": {},
   "source": [
    "## Applying Logistic Regression"
   ]
  },
  {
   "cell_type": "code",
   "execution_count": 170,
   "id": "b360d7ef",
   "metadata": {},
   "outputs": [],
   "source": [
    "# Spliting the datas\n",
    "\n",
    "from sklearn.model_selection import train_test_split\n",
    "\n",
    "x_train, x_test, y_train, y_test = train_test_split(feature, y, test_size=0.25, random_state= 60)\n"
   ]
  },
  {
   "cell_type": "code",
   "execution_count": 171,
   "id": "f60e9c8c",
   "metadata": {},
   "outputs": [
    {
     "name": "stderr",
     "output_type": "stream",
     "text": [
      "/home/kali/anaconda3/lib/python3.9/site-packages/sklearn/linear_model/_logistic.py:814: ConvergenceWarning: lbfgs failed to converge (status=1):\n",
      "STOP: TOTAL NO. of ITERATIONS REACHED LIMIT.\n",
      "\n",
      "Increase the number of iterations (max_iter) or scale the data as shown in:\n",
      "    https://scikit-learn.org/stable/modules/preprocessing.html\n",
      "Please also refer to the documentation for alternative solver options:\n",
      "    https://scikit-learn.org/stable/modules/linear_model.html#logistic-regression\n",
      "  n_iter_i = _check_optimize_result(\n"
     ]
    },
    {
     "data": {
      "text/plain": [
       "LogisticRegression()"
      ]
     },
     "execution_count": 171,
     "metadata": {},
     "output_type": "execute_result"
    }
   ],
   "source": [
    "from sklearn.linear_model import LogisticRegression\n",
    "\n",
    "lr_model = LogisticRegression() # Creating an object of Logistic regression model\n",
    "lr_model.fit(x_train, y_train) # Training the model\n"
   ]
  },
  {
   "cell_type": "code",
   "execution_count": 172,
   "id": "fd41b0c4",
   "metadata": {},
   "outputs": [
    {
     "data": {
      "text/plain": [
       "0.93"
      ]
     },
     "execution_count": 172,
     "metadata": {},
     "output_type": "execute_result"
    }
   ],
   "source": [
    "lr_model.score(x_test, y_test) # Score of the model"
   ]
  },
  {
   "cell_type": "code",
   "execution_count": 191,
   "id": "6e087b5d",
   "metadata": {},
   "outputs": [
    {
     "data": {
      "text/plain": [
       "array(['ckd', 'notckd', 'ckd', 'notckd', 'ckd', 'notckd', 'notckd',\n",
       "       'notckd', 'ckd', 'ckd', 'ckd', 'ckd', 'ckd', 'notckd', 'notckd',\n",
       "       'ckd', 'notckd', 'ckd', 'ckd', 'ckd', 'notckd', 'notckd', 'notckd',\n",
       "       'ckd', 'ckd', 'ckd', 'notckd', 'notckd', 'ckd', 'ckd', 'ckd',\n",
       "       'ckd', 'ckd', 'notckd', 'ckd', 'notckd', 'ckd', 'ckd', 'ckd',\n",
       "       'ckd', 'ckd', 'notckd', 'ckd', 'ckd', 'ckd', 'ckd', 'notckd',\n",
       "       'notckd', 'notckd', 'ckd', 'ckd', 'ckd', 'ckd', 'ckd', 'ckd',\n",
       "       'notckd', 'notckd', 'ckd', 'ckd', 'ckd', 'notckd', 'notckd',\n",
       "       'notckd', 'notckd', 'ckd', 'notckd', 'ckd', 'notckd', 'ckd', 'ckd',\n",
       "       'notckd', 'notckd', 'ckd', 'notckd', 'ckd', 'ckd', 'notckd', 'ckd',\n",
       "       'notckd', 'notckd', 'notckd', 'ckd', 'ckd', 'ckd', 'notckd',\n",
       "       'notckd', 'ckd', 'ckd', 'notckd', 'notckd', 'ckd', 'ckd', 'notckd',\n",
       "       'ckd', 'ckd', 'notckd', 'ckd', 'ckd', 'ckd', 'ckd'], dtype=object)"
      ]
     },
     "execution_count": 191,
     "metadata": {},
     "output_type": "execute_result"
    }
   ],
   "source": [
    "lr_predict = lr_model.predict(x_test) #Predicting the model\n",
    "lr_predict_g = lr_model.decision_function(x_test)# Used for plotting logistic regression, ROC and AUC graph\n",
    "lr_predict"
   ]
  },
  {
   "cell_type": "code",
   "execution_count": 174,
   "id": "c5a95d45",
   "metadata": {},
   "outputs": [
    {
     "data": {
      "text/plain": [
       "array(['ckd', 'notckd', 'ckd', 'notckd', 'ckd', 'notckd', 'notckd', 'ckd',\n",
       "       'ckd', 'ckd', 'notckd', 'ckd', 'ckd', 'notckd', 'notckd', 'ckd',\n",
       "       'notckd', 'ckd', 'ckd', 'ckd', 'notckd', 'notckd', 'notckd', 'ckd',\n",
       "       'ckd', 'ckd', 'notckd', 'notckd', 'ckd', 'ckd', 'ckd', 'ckd',\n",
       "       'ckd', 'notckd', 'ckd', 'notckd', 'ckd', 'ckd', 'ckd', 'ckd',\n",
       "       'ckd', 'notckd', 'ckd', 'ckd', 'ckd', 'ckd', 'ckd', 'notckd',\n",
       "       'notckd', 'ckd', 'ckd', 'ckd', 'ckd', 'ckd', 'ckd', 'notckd',\n",
       "       'notckd', 'ckd', 'ckd', 'ckd', 'notckd', 'notckd', 'ckd', 'notckd',\n",
       "       'ckd', 'notckd', 'notckd', 'notckd', 'ckd', 'ckd', 'notckd',\n",
       "       'notckd', 'ckd', 'notckd', 'ckd', 'ckd', 'notckd', 'ckd', 'notckd',\n",
       "       'notckd', 'notckd', 'ckd', 'ckd', 'ckd', 'notckd', 'notckd', 'ckd',\n",
       "       'ckd', 'notckd', 'notckd', 'ckd', 'ckd', 'ckd', 'ckd', 'notckd',\n",
       "       'notckd', 'ckd', 'ckd', 'ckd', 'ckd'], dtype=object)"
      ]
     },
     "execution_count": 174,
     "metadata": {},
     "output_type": "execute_result"
    }
   ],
   "source": [
    "y_test"
   ]
  },
  {
   "cell_type": "code",
   "execution_count": 175,
   "id": "07591ed8",
   "metadata": {},
   "outputs": [
    {
     "data": {
      "text/plain": [
       "<AxesSubplot:xlabel='Predict', ylabel='Actual'>"
      ]
     },
     "execution_count": 175,
     "metadata": {},
     "output_type": "execute_result"
    },
    {
     "data": {
      "image/png": "[encoded data removed]",
      "text/plain": [
       "<Figure size 640x480 with 2 Axes>"
      ]
     },
     "metadata": {},
     "output_type": "display_data"
    }
   ],
   "source": [
    "#Confusion Matrix\n",
    "import seaborn as sns\n",
    "from sklearn import metrics\n",
    "import matplotlib.pyplot as plt\n",
    "\n",
    "# cf= metrics.confusion_matrix(y_test, lr_predict)\n",
    "\n",
    "# cm_display = metrics.ConfusionMatrixDisplay(confusion_matrix = cf, display_labels = [False, True]) \n",
    "\n",
    "# cm_display.plot()\n",
    "# plt.show() \n",
    "\n",
    "confusion_matrix = pd.crosstab(y_test, lr_predict, rownames = ['Actual'], colnames = ['Predict'])\n",
    "sns.heatmap(confusion_matrix, annot = True)\n"
   ]
  },
  {
   "cell_type": "markdown",
   "id": "b492628d",
   "metadata": {},
   "source": [
    "## Interpretation of the confusion matrix of Logistic Regression:\n",
    "\n",
    "- The people that doesn't have Kidney disease, the model predicted correctly 55 people\n",
    "- The model predicted 4 person that doesn't have kidney diease has the diease \n",
    "- 3 people that have kidney disease were predicted not to have kidney disease by the model\n",
    "- 36 person was predicted correctly as having the kidney disease"
   ]
  },
  {
   "cell_type": "code",
   "execution_count": 192,
   "id": "561bb47e",
   "metadata": {},
   "outputs": [
    {
     "data": {
      "image/png": "[encoded data removed]",
      "text/plain": [
       "<Figure size 640x480 with 1 Axes>"
      ]
     },
     "metadata": {},
     "output_type": "display_data"
    }
   ],
   "source": [
    "plt.scatter(lr_predict_g, y_test, marker = '+', color = 'red')\n",
    "plt.title('LOGISTIC REGRESSION CURVE')\n",
    "plt.ylabel('y_test')\n",
    "plt.xlabel('y_predict')\n",
    "plt.show()\n"
   ]
  },
  {
   "cell_type": "markdown",
   "id": "5665afc6",
   "metadata": {},
   "source": [
    "## \n",
    "Receiver Operator Characteristic (ROC)\n",
    "\n",
    "The ROC graph are points which summarizes confusion matixes of a given model at various major classification thresholds(i.e probability point to use in decision-making) in order to select the threshold that gives the optimal result. The graph is plotted using True positive rate(sensitivity) on the y-axis and False positive rate( 1 - specificity) on the x-axis.\n",
    "Area Under The Curve (AUC)\n",
    "\n",
    "AUC is the area under the ROC graph. AUC makes it easy to compare ROC curve of a model with ROC of another model in order to pick the model with largerest AUC.\n"
   ]
  },
  {
   "cell_type": "code",
   "execution_count": 228,
   "id": "23465e2a",
   "metadata": {},
   "outputs": [
    {
     "data": {
      "image/png": "[encoded data removed]",
      "text/plain": [
       "<Figure size 640x480 with 1 Axes>"
      ]
     },
     "metadata": {},
     "output_type": "display_data"
    }
   ],
   "source": [
    "from sklearn.preprocessing import LabelEncoder\n",
    "\n",
    "encoder = LabelEncoder()\n",
    "encoder.fit(y_test)\n",
    "encoded_Y = encoder.transform(y_test)\n",
    "\n",
    "\n",
    "# ROC ana AUC\n",
    "from sklearn.metrics import roc_curve, auc\n",
    "\n",
    "logistic_fpr, logistic_tpr , threshold = roc_curve(encoded_Y, lr_predict_g)\n",
    "auc_logistic = auc(logistic_fpr, logistic_tpr)\n",
    "# plt.figure(figsize = (5,5)), dpi = 100)\n",
    "plt.plot(logistic_fpr, logistic_tpr, marker = '.', label = 'logistic(auc = %0.3f)' % auc_logistic)\n",
    "plt.xlabel('False Positive Rate....>')\n",
    "plt.ylabel('True Positive Rate....>')\n",
    "plt.legend()\n",
    "plt.show()\n"
   ]
  },
  {
   "cell_type": "markdown",
   "id": "f84568ad",
   "metadata": {},
   "source": [
    "## Applying KNN Model"
   ]
  },
  {
   "cell_type": "code",
   "execution_count": 176,
   "id": "a98f5ffb",
   "metadata": {},
   "outputs": [],
   "source": [
    "from sklearn.neighbors import KNeighborsClassifier\n",
    "from sklearn.metrics import accuracy_score"
   ]
  },
  {
   "cell_type": "code",
   "execution_count": 177,
   "id": "542d19d3",
   "metadata": {},
   "outputs": [
    {
     "name": "stdout",
     "output_type": "stream",
     "text": [
      "Accuracy for k= 1 is: 0.81\n",
      "Accuracy for k= 2 is: 0.75\n",
      "Accuracy for k= 3 is: 0.81\n",
      "Accuracy for k= 4 is: 0.72\n",
      "Accuracy for k= 5 is: 0.72\n",
      "Accuracy for k= 6 is: 0.73\n",
      "Accuracy for k= 7 is: 0.76\n",
      "Accuracy for k= 8 is: 0.73\n",
      "Accuracy for k= 9 is: 0.73\n",
      "Accuracy for k= 10 is: 0.67\n",
      "Accuracy for k= 11 is: 0.73\n",
      "Accuracy for k= 12 is: 0.72\n",
      "Accuracy for k= 13 is: 0.74\n",
      "Accuracy for k= 14 is: 0.69\n",
      "Accuracy for k= 15 is: 0.71\n",
      "Accuracy for k= 16 is: 0.67\n",
      "Accuracy for k= 17 is: 0.72\n",
      "Accuracy for k= 18 is: 0.71\n",
      "Accuracy for k= 19 is: 0.71\n",
      "Accuracy for k= 20 is: 0.7\n",
      "Accuracy for k= 21 is: 0.73\n",
      "Accuracy for k= 22 is: 0.69\n",
      "Accuracy for k= 23 is: 0.72\n",
      "Accuracy for k= 24 is: 0.68\n",
      "Accuracy for k= 25 is: 0.7\n",
      "Accuracy for k= 26 is: 0.65\n",
      "Accuracy for k= 27 is: 0.68\n",
      "Accuracy for k= 28 is: 0.67\n",
      "Accuracy for k= 29 is: 0.68\n",
      "[0.81, 0.75, 0.81, 0.72, 0.72, 0.73, 0.76, 0.73, 0.73, 0.67, 0.73, 0.72, 0.74, 0.69, 0.71, 0.67, 0.72, 0.71, 0.71, 0.7, 0.73, 0.69, 0.72, 0.68, 0.7, 0.65, 0.68, 0.67, 0.68]\n"
     ]
    }
   ],
   "source": [
    "# getting the best number of neighbors\n",
    "\n",
    "n_neighbors=30\n",
    "scores=[]\n",
    "for k in range(1,30):\n",
    "    knn=KNeighborsClassifier(n_neighbors = k)\n",
    "    knn.fit(x_train,y_train)\n",
    "    y_pred=knn.predict(x_test)\n",
    "    print('Accuracy for k=',k,'is:',round(accuracy_score(y_pred,y_test),2))\n",
    "    scores.append(round(accuracy_score(y_pred,y_test),2))\n",
    "print(scores)\n",
    "    # Select the lowest odd number with the highest accuracy"
   ]
  },
  {
   "cell_type": "code",
   "execution_count": 178,
   "id": "a9db0814",
   "metadata": {},
   "outputs": [
    {
     "name": "stdout",
     "output_type": "stream",
     "text": [
      "Acuuracy= 0.81\n"
     ]
    }
   ],
   "source": [
    "knn=KNeighborsClassifier(n_neighbors=3) #build our knn classifier\n",
    "knn.fit(x_train,y_train) #Training KNN classifier\n",
    "y_pred=knn.predict(x_test)  #Testing\n",
    "print('Acuuracy=',accuracy_score(y_pred,y_test))"
   ]
  },
  {
   "cell_type": "code",
   "execution_count": 179,
   "id": "ec4636dd",
   "metadata": {},
   "outputs": [
    {
     "data": {
      "text/plain": [
       "Text(0, 0.5, 'Testing Accuracy')"
      ]
     },
     "execution_count": 179,
     "metadata": {},
     "output_type": "execute_result"
    },
    {
     "data": {
      "image/png": "[encoded data removed]",
      "text/plain": [
       "<Figure size 640x480 with 1 Axes>"
      ]
     },
     "metadata": {},
     "output_type": "display_data"
    }
   ],
   "source": [
    "# Visualizing the KNN accurancy\n",
    "\n",
    "plt.plot(range(1,30),scores)\n",
    "plt.xlabel('Value K for KNN')\n",
    "plt.ylabel('Testing Accuracy')\n",
    "     \n"
   ]
  },
  {
   "cell_type": "markdown",
   "id": "2446bbc8",
   "metadata": {},
   "source": [
    "## the optimal number of neighbors is 3"
   ]
  },
  {
   "cell_type": "markdown",
   "id": "56adf920",
   "metadata": {},
   "source": [
    "## Using Decision Tree"
   ]
  },
  {
   "cell_type": "code",
   "execution_count": 180,
   "id": "3a6891fe",
   "metadata": {},
   "outputs": [],
   "source": [
    "from sklearn.tree import DecisionTreeClassifier"
   ]
  },
  {
   "cell_type": "code",
   "execution_count": 181,
   "id": "ca8784a9",
   "metadata": {},
   "outputs": [],
   "source": [
    "#applying tree algorithm\n",
    "\n",
    "tree = DecisionTreeClassifier()\n",
    "z = tree.fit(x_train, y_train) #fitting our model \n",
    "     \n",
    "y_predict = tree.predict(x_test) # evaluating our model"
   ]
  },
  {
   "cell_type": "code",
   "execution_count": 182,
   "id": "8fa2f880",
   "metadata": {},
   "outputs": [
    {
     "name": "stdout",
     "output_type": "stream",
     "text": [
      "Acuuracy= 0.97\n"
     ]
    }
   ],
   "source": [
    "print('Acuuracy=',accuracy_score(y_predict,y_test))"
   ]
  },
  {
   "cell_type": "code",
   "execution_count": 188,
   "id": "60ea91d1",
   "metadata": {},
   "outputs": [
    {
     "data": {
      "text/plain": [
       "<AxesSubplot:xlabel='Predict', ylabel='Actual'>"
      ]
     },
     "execution_count": 188,
     "metadata": {},
     "output_type": "execute_result"
    },
    {
     "data": {
      "image/png": "[encoded data removed]",
      "text/plain": [
       "<Figure size 640x480 with 2 Axes>"
      ]
     },
     "metadata": {},
     "output_type": "display_data"
    }
   ],
   "source": [
    "confusion_matrix = pd.crosstab(y_test, y_predict, rownames = ['Actual'], colnames = ['Predict'])\n",
    "sns.heatmap(confusion_matrix, annot = True)\n"
   ]
  },
  {
   "cell_type": "markdown",
   "id": "e78ca3b1",
   "metadata": {},
   "source": [
    "## Interpretation of the confusion matrix of Decision Tree:\n",
    "\n",
    "    The people that doesn't have Kidney disease, the model predicted correctly 59 people\n",
    "    The model predicted 2 person that doesn't have kidney diease has the diease\n",
    "    1 people that have kidney disease were predicted not to have kidney disease by the model\n",
    "    38 person was predicted correctly as having the kidney disease\n",
    "\n"
   ]
  },
  {
   "cell_type": "code",
   "execution_count": 183,
   "id": "79020bc0",
   "metadata": {},
   "outputs": [],
   "source": [
    "# Tree Visualization\n",
    "import graphviz\n",
    "from sklearn import tree\n",
    "\n",
    "dot_tree = tree.export_graphviz(z, out_file=None,)"
   ]
  },
  {
   "cell_type": "code",
   "execution_count": 184,
   "id": "b4ffc5c0",
   "metadata": {},
   "outputs": [
    {
     "data": {
      "image/svg+xml": [
       "<?xml version=\"1.0\" encoding=\"UTF-8\" standalone=\"no\"?>\n",
       "<!DOCTYPE svg PUBLIC \"-//W3C//DTD SVG 1.1//EN\"\n",
       " \"http://www.w3.org/Graphics/SVG/1.1/DTD/svg11.dtd\">\n",
       "<!-- Generated by graphviz version 2.43.0 (0)\n",
       " -->\n",
       "<!-- Title: Tree Pages: 1 -->\n",
       "<svg width=\"688pt\" height=\"581pt\"\n",
       " viewBox=\"0.00 0.00 688.00 581.00\" xmlns=\"http://www.w3.org/2000/svg\" xmlns:xlink=\"http://www.w3.org/1999/xlink\">\n",
       "<g id=\"graph0\" class=\"graph\" transform=\"scale(1 1) rotate(0) translate(4 577)\">\n",
       "<title>Tree</title>\n",
       "<polygon fill=\"white\" stroke=\"transparent\" points=\"-4,4 -4,-577 684,-577 684,4 -4,4\"/>\n",
       "<!-- 0 -->\n",
       "<g id=\"node1\" class=\"node\">\n",
       "<title>0</title>\n",
       "<polygon fill=\"none\" stroke=\"black\" points=\"426,-573 277,-573 277,-505 426,-505 426,-573\"/>\n",
       "<text text-anchor=\"middle\" x=\"351.5\" y=\"-557.8\" font-family=\"Helvetica,sans-Serif\" font-size=\"14.00\">X[9] &lt;= 4.45</text>\n",
       "<text text-anchor=\"middle\" x=\"351.5\" y=\"-542.8\" font-family=\"Helvetica,sans-Serif\" font-size=\"14.00\">gini = 0.466</text>\n",
       "<text text-anchor=\"middle\" x=\"351.5\" y=\"-527.8\" font-family=\"Helvetica,sans-Serif\" font-size=\"14.00\">samples = 300</text>\n",
       "<text text-anchor=\"middle\" x=\"351.5\" y=\"-512.8\" font-family=\"Helvetica,sans-Serif\" font-size=\"14.00\">value = [189, 111]</text>\n",
       "</g>\n",
       "<!-- 1 -->\n",
       "<g id=\"node2\" class=\"node\">\n",
       "<title>1</title>\n",
       "<polygon fill=\"none\" stroke=\"black\" points=\"340,-469 209,-469 209,-401 340,-401 340,-469\"/>\n",
       "<text text-anchor=\"middle\" x=\"274.5\" y=\"-453.8\" font-family=\"Helvetica,sans-Serif\" font-size=\"14.00\">X[6] &lt;= 1.25</text>\n",
       "<text text-anchor=\"middle\" x=\"274.5\" y=\"-438.8\" font-family=\"Helvetica,sans-Serif\" font-size=\"14.00\">gini = 0.068</text>\n",
       "<text text-anchor=\"middle\" x=\"274.5\" y=\"-423.8\" font-family=\"Helvetica,sans-Serif\" font-size=\"14.00\">samples = 170</text>\n",
       "<text text-anchor=\"middle\" x=\"274.5\" y=\"-408.8\" font-family=\"Helvetica,sans-Serif\" font-size=\"14.00\">value = [164, 6]</text>\n",
       "</g>\n",
       "<!-- 0&#45;&gt;1 -->\n",
       "<g id=\"edge1\" class=\"edge\">\n",
       "<title>0&#45;&gt;1</title>\n",
       "<path fill=\"none\" stroke=\"black\" d=\"M326.5,-504.88C319.91,-496.15 312.72,-486.62 305.84,-477.51\"/>\n",
       "<polygon fill=\"black\" stroke=\"black\" points=\"308.46,-475.17 299.64,-469.3 302.87,-479.39 308.46,-475.17\"/>\n",
       "<text text-anchor=\"middle\" x=\"296.18\" y=\"-490.36\" font-family=\"Helvetica,sans-Serif\" font-size=\"14.00\">True</text>\n",
       "</g>\n",
       "<!-- 10 -->\n",
       "<g id=\"node11\" class=\"node\">\n",
       "<title>10</title>\n",
       "<polygon fill=\"none\" stroke=\"black\" points=\"498.5,-469 358.5,-469 358.5,-401 498.5,-401 498.5,-469\"/>\n",
       "<text text-anchor=\"middle\" x=\"428.5\" y=\"-453.8\" font-family=\"Helvetica,sans-Serif\" font-size=\"14.00\">X[2] &lt;= 1.016</text>\n",
       "<text text-anchor=\"middle\" x=\"428.5\" y=\"-438.8\" font-family=\"Helvetica,sans-Serif\" font-size=\"14.00\">gini = 0.311</text>\n",
       "<text text-anchor=\"middle\" x=\"428.5\" y=\"-423.8\" font-family=\"Helvetica,sans-Serif\" font-size=\"14.00\">samples = 130</text>\n",
       "<text text-anchor=\"middle\" x=\"428.5\" y=\"-408.8\" font-family=\"Helvetica,sans-Serif\" font-size=\"14.00\">value = [25, 105]</text>\n",
       "</g>\n",
       "<!-- 0&#45;&gt;10 -->\n",
       "<g id=\"edge10\" class=\"edge\">\n",
       "<title>0&#45;&gt;10</title>\n",
       "<path fill=\"none\" stroke=\"black\" d=\"M376.5,-504.88C383.09,-496.15 390.28,-486.62 397.16,-477.51\"/>\n",
       "<polygon fill=\"black\" stroke=\"black\" points=\"400.13,-479.39 403.36,-469.3 394.54,-475.17 400.13,-479.39\"/>\n",
       "<text text-anchor=\"middle\" x=\"406.82\" y=\"-490.36\" font-family=\"Helvetica,sans-Serif\" font-size=\"14.00\">False</text>\n",
       "</g>\n",
       "<!-- 2 -->\n",
       "<g id=\"node3\" class=\"node\">\n",
       "<title>2</title>\n",
       "<polygon fill=\"none\" stroke=\"black\" points=\"193.5,-365 71.5,-365 71.5,-297 193.5,-297 193.5,-365\"/>\n",
       "<text text-anchor=\"middle\" x=\"132.5\" y=\"-349.8\" font-family=\"Helvetica,sans-Serif\" font-size=\"14.00\">X[2] &lt;= 1.019</text>\n",
       "<text text-anchor=\"middle\" x=\"132.5\" y=\"-334.8\" font-family=\"Helvetica,sans-Serif\" font-size=\"14.00\">gini = 0.305</text>\n",
       "<text text-anchor=\"middle\" x=\"132.5\" y=\"-319.8\" font-family=\"Helvetica,sans-Serif\" font-size=\"14.00\">samples = 32</text>\n",
       "<text text-anchor=\"middle\" x=\"132.5\" y=\"-304.8\" font-family=\"Helvetica,sans-Serif\" font-size=\"14.00\">value = [26, 6]</text>\n",
       "</g>\n",
       "<!-- 1&#45;&gt;2 -->\n",
       "<g id=\"edge2\" class=\"edge\">\n",
       "<title>1&#45;&gt;2</title>\n",
       "<path fill=\"none\" stroke=\"black\" d=\"M228.4,-400.88C215.25,-391.44 200.8,-381.06 187.2,-371.29\"/>\n",
       "<polygon fill=\"black\" stroke=\"black\" points=\"189.02,-368.29 178.86,-365.3 184.94,-373.98 189.02,-368.29\"/>\n",
       "</g>\n",
       "<!-- 9 -->\n",
       "<g id=\"node10\" class=\"node\">\n",
       "<title>9</title>\n",
       "<polygon fill=\"none\" stroke=\"black\" points=\"343,-357.5 212,-357.5 212,-304.5 343,-304.5 343,-357.5\"/>\n",
       "<text text-anchor=\"middle\" x=\"277.5\" y=\"-342.3\" font-family=\"Helvetica,sans-Serif\" font-size=\"14.00\">gini = 0.0</text>\n",
       "<text text-anchor=\"middle\" x=\"277.5\" y=\"-327.3\" font-family=\"Helvetica,sans-Serif\" font-size=\"14.00\">samples = 138</text>\n",
       "<text text-anchor=\"middle\" x=\"277.5\" y=\"-312.3\" font-family=\"Helvetica,sans-Serif\" font-size=\"14.00\">value = [138, 0]</text>\n",
       "</g>\n",
       "<!-- 1&#45;&gt;9 -->\n",
       "<g id=\"edge9\" class=\"edge\">\n",
       "<title>1&#45;&gt;9</title>\n",
       "<path fill=\"none\" stroke=\"black\" d=\"M275.47,-400.88C275.79,-390.22 276.14,-378.35 276.46,-367.52\"/>\n",
       "<polygon fill=\"black\" stroke=\"black\" points=\"279.95,-367.62 276.75,-357.52 272.96,-367.41 279.95,-367.62\"/>\n",
       "</g>\n",
       "<!-- 3 -->\n",
       "<g id=\"node4\" class=\"node\">\n",
       "<title>3</title>\n",
       "<polygon fill=\"none\" stroke=\"black\" points=\"143.5,-253.5 21.5,-253.5 21.5,-200.5 143.5,-200.5 143.5,-253.5\"/>\n",
       "<text text-anchor=\"middle\" x=\"82.5\" y=\"-238.3\" font-family=\"Helvetica,sans-Serif\" font-size=\"14.00\">gini = 0.0</text>\n",
       "<text text-anchor=\"middle\" x=\"82.5\" y=\"-223.3\" font-family=\"Helvetica,sans-Serif\" font-size=\"14.00\">samples = 20</text>\n",
       "<text text-anchor=\"middle\" x=\"82.5\" y=\"-208.3\" font-family=\"Helvetica,sans-Serif\" font-size=\"14.00\">value = [20, 0]</text>\n",
       "</g>\n",
       "<!-- 2&#45;&gt;3 -->\n",
       "<g id=\"edge3\" class=\"edge\">\n",
       "<title>2&#45;&gt;3</title>\n",
       "<path fill=\"none\" stroke=\"black\" d=\"M116.27,-296.88C110.88,-285.89 104.86,-273.62 99.42,-262.52\"/>\n",
       "<polygon fill=\"black\" stroke=\"black\" points=\"102.55,-260.96 95.01,-253.52 96.27,-264.04 102.55,-260.96\"/>\n",
       "</g>\n",
       "<!-- 4 -->\n",
       "<g id=\"node5\" class=\"node\">\n",
       "<title>4</title>\n",
       "<polygon fill=\"none\" stroke=\"black\" points=\"275,-261 162,-261 162,-193 275,-193 275,-261\"/>\n",
       "<text text-anchor=\"middle\" x=\"218.5\" y=\"-245.8\" font-family=\"Helvetica,sans-Serif\" font-size=\"14.00\">X[3] &lt;= 0.5</text>\n",
       "<text text-anchor=\"middle\" x=\"218.5\" y=\"-230.8\" font-family=\"Helvetica,sans-Serif\" font-size=\"14.00\">gini = 0.5</text>\n",
       "<text text-anchor=\"middle\" x=\"218.5\" y=\"-215.8\" font-family=\"Helvetica,sans-Serif\" font-size=\"14.00\">samples = 12</text>\n",
       "<text text-anchor=\"middle\" x=\"218.5\" y=\"-200.8\" font-family=\"Helvetica,sans-Serif\" font-size=\"14.00\">value = [6, 6]</text>\n",
       "</g>\n",
       "<!-- 2&#45;&gt;4 -->\n",
       "<g id=\"edge4\" class=\"edge\">\n",
       "<title>2&#45;&gt;4</title>\n",
       "<path fill=\"none\" stroke=\"black\" d=\"M160.42,-296.88C167.93,-287.98 176.14,-278.24 183.97,-268.96\"/>\n",
       "<polygon fill=\"black\" stroke=\"black\" points=\"186.65,-271.2 190.42,-261.3 181.3,-266.69 186.65,-271.2\"/>\n",
       "</g>\n",
       "<!-- 5 -->\n",
       "<g id=\"node6\" class=\"node\">\n",
       "<title>5</title>\n",
       "<polygon fill=\"none\" stroke=\"black\" points=\"181,-157 62,-157 62,-89 181,-89 181,-157\"/>\n",
       "<text text-anchor=\"middle\" x=\"121.5\" y=\"-141.8\" font-family=\"Helvetica,sans-Serif\" font-size=\"14.00\">X[4] &lt;= 138.5</text>\n",
       "<text text-anchor=\"middle\" x=\"121.5\" y=\"-126.8\" font-family=\"Helvetica,sans-Serif\" font-size=\"14.00\">gini = 0.245</text>\n",
       "<text text-anchor=\"middle\" x=\"121.5\" y=\"-111.8\" font-family=\"Helvetica,sans-Serif\" font-size=\"14.00\">samples = 7</text>\n",
       "<text text-anchor=\"middle\" x=\"121.5\" y=\"-96.8\" font-family=\"Helvetica,sans-Serif\" font-size=\"14.00\">value = [1, 6]</text>\n",
       "</g>\n",
       "<!-- 4&#45;&gt;5 -->\n",
       "<g id=\"edge5\" class=\"edge\">\n",
       "<title>4&#45;&gt;5</title>\n",
       "<path fill=\"none\" stroke=\"black\" d=\"M187.01,-192.88C178.45,-183.89 169.09,-174.04 160.18,-164.68\"/>\n",
       "<polygon fill=\"black\" stroke=\"black\" points=\"162.59,-162.13 153.17,-157.3 157.52,-166.96 162.59,-162.13\"/>\n",
       "</g>\n",
       "<!-- 8 -->\n",
       "<g id=\"node9\" class=\"node\">\n",
       "<title>8</title>\n",
       "<polygon fill=\"none\" stroke=\"black\" points=\"312,-149.5 199,-149.5 199,-96.5 312,-96.5 312,-149.5\"/>\n",
       "<text text-anchor=\"middle\" x=\"255.5\" y=\"-134.3\" font-family=\"Helvetica,sans-Serif\" font-size=\"14.00\">gini = 0.0</text>\n",
       "<text text-anchor=\"middle\" x=\"255.5\" y=\"-119.3\" font-family=\"Helvetica,sans-Serif\" font-size=\"14.00\">samples = 5</text>\n",
       "<text text-anchor=\"middle\" x=\"255.5\" y=\"-104.3\" font-family=\"Helvetica,sans-Serif\" font-size=\"14.00\">value = [5, 0]</text>\n",
       "</g>\n",
       "<!-- 4&#45;&gt;8 -->\n",
       "<g id=\"edge8\" class=\"edge\">\n",
       "<title>4&#45;&gt;8</title>\n",
       "<path fill=\"none\" stroke=\"black\" d=\"M230.51,-192.88C234.42,-182.11 238.77,-170.11 242.74,-159.18\"/>\n",
       "<polygon fill=\"black\" stroke=\"black\" points=\"246.12,-160.11 246.24,-149.52 239.54,-157.73 246.12,-160.11\"/>\n",
       "</g>\n",
       "<!-- 6 -->\n",
       "<g id=\"node7\" class=\"node\">\n",
       "<title>6</title>\n",
       "<polygon fill=\"none\" stroke=\"black\" points=\"113,-53 0,-53 0,0 113,0 113,-53\"/>\n",
       "<text text-anchor=\"middle\" x=\"56.5\" y=\"-37.8\" font-family=\"Helvetica,sans-Serif\" font-size=\"14.00\">gini = 0.0</text>\n",
       "<text text-anchor=\"middle\" x=\"56.5\" y=\"-22.8\" font-family=\"Helvetica,sans-Serif\" font-size=\"14.00\">samples = 6</text>\n",
       "<text text-anchor=\"middle\" x=\"56.5\" y=\"-7.8\" font-family=\"Helvetica,sans-Serif\" font-size=\"14.00\">value = [0, 6]</text>\n",
       "</g>\n",
       "<!-- 5&#45;&gt;6 -->\n",
       "<g id=\"edge6\" class=\"edge\">\n",
       "<title>5&#45;&gt;6</title>\n",
       "<path fill=\"none\" stroke=\"black\" d=\"M98.77,-88.95C92.66,-80.07 86.05,-70.46 79.91,-61.54\"/>\n",
       "<polygon fill=\"black\" stroke=\"black\" points=\"82.75,-59.49 74.2,-53.24 76.99,-63.46 82.75,-59.49\"/>\n",
       "</g>\n",
       "<!-- 7 -->\n",
       "<g id=\"node8\" class=\"node\">\n",
       "<title>7</title>\n",
       "<polygon fill=\"none\" stroke=\"black\" points=\"244,-53 131,-53 131,0 244,0 244,-53\"/>\n",
       "<text text-anchor=\"middle\" x=\"187.5\" y=\"-37.8\" font-family=\"Helvetica,sans-Serif\" font-size=\"14.00\">gini = 0.0</text>\n",
       "<text text-anchor=\"middle\" x=\"187.5\" y=\"-22.8\" font-family=\"Helvetica,sans-Serif\" font-size=\"14.00\">samples = 1</text>\n",
       "<text text-anchor=\"middle\" x=\"187.5\" y=\"-7.8\" font-family=\"Helvetica,sans-Serif\" font-size=\"14.00\">value = [1, 0]</text>\n",
       "</g>\n",
       "<!-- 5&#45;&gt;7 -->\n",
       "<g id=\"edge7\" class=\"edge\">\n",
       "<title>5&#45;&gt;7</title>\n",
       "<path fill=\"none\" stroke=\"black\" d=\"M144.58,-88.95C150.78,-80.07 157.49,-70.46 163.73,-61.54\"/>\n",
       "<polygon fill=\"black\" stroke=\"black\" points=\"166.67,-63.44 169.53,-53.24 160.93,-59.43 166.67,-63.44\"/>\n",
       "</g>\n",
       "<!-- 11 -->\n",
       "<g id=\"node12\" class=\"node\">\n",
       "<title>11</title>\n",
       "<polygon fill=\"none\" stroke=\"black\" points=\"487.5,-357.5 365.5,-357.5 365.5,-304.5 487.5,-304.5 487.5,-357.5\"/>\n",
       "<text text-anchor=\"middle\" x=\"426.5\" y=\"-342.3\" font-family=\"Helvetica,sans-Serif\" font-size=\"14.00\">gini = 0.0</text>\n",
       "<text text-anchor=\"middle\" x=\"426.5\" y=\"-327.3\" font-family=\"Helvetica,sans-Serif\" font-size=\"14.00\">samples = 20</text>\n",
       "<text text-anchor=\"middle\" x=\"426.5\" y=\"-312.3\" font-family=\"Helvetica,sans-Serif\" font-size=\"14.00\">value = [20, 0]</text>\n",
       "</g>\n",
       "<!-- 10&#45;&gt;11 -->\n",
       "<g id=\"edge11\" class=\"edge\">\n",
       "<title>10&#45;&gt;11</title>\n",
       "<path fill=\"none\" stroke=\"black\" d=\"M427.85,-400.88C427.64,-390.22 427.41,-378.35 427.2,-367.52\"/>\n",
       "<polygon fill=\"black\" stroke=\"black\" points=\"430.7,-367.45 427,-357.52 423.7,-367.59 430.7,-367.45\"/>\n",
       "</g>\n",
       "<!-- 12 -->\n",
       "<g id=\"node13\" class=\"node\">\n",
       "<title>12</title>\n",
       "<polygon fill=\"none\" stroke=\"black\" points=\"643,-365 506,-365 506,-297 643,-297 643,-365\"/>\n",
       "<text text-anchor=\"middle\" x=\"574.5\" y=\"-349.8\" font-family=\"Helvetica,sans-Serif\" font-size=\"14.00\">X[4] &lt;= 158.518</text>\n",
       "<text text-anchor=\"middle\" x=\"574.5\" y=\"-334.8\" font-family=\"Helvetica,sans-Serif\" font-size=\"14.00\">gini = 0.087</text>\n",
       "<text text-anchor=\"middle\" x=\"574.5\" y=\"-319.8\" font-family=\"Helvetica,sans-Serif\" font-size=\"14.00\">samples = 110</text>\n",
       "<text text-anchor=\"middle\" x=\"574.5\" y=\"-304.8\" font-family=\"Helvetica,sans-Serif\" font-size=\"14.00\">value = [5, 105]</text>\n",
       "</g>\n",
       "<!-- 10&#45;&gt;12 -->\n",
       "<g id=\"edge12\" class=\"edge\">\n",
       "<title>10&#45;&gt;12</title>\n",
       "<path fill=\"none\" stroke=\"black\" d=\"M475.9,-400.88C489.42,-391.44 504.27,-381.06 518.26,-371.29\"/>\n",
       "<polygon fill=\"black\" stroke=\"black\" points=\"520.64,-373.9 526.84,-365.3 516.63,-368.16 520.64,-373.9\"/>\n",
       "</g>\n",
       "<!-- 13 -->\n",
       "<g id=\"node14\" class=\"node\">\n",
       "<title>13</title>\n",
       "<polygon fill=\"none\" stroke=\"black\" points=\"549,-261 412,-261 412,-193 549,-193 549,-261\"/>\n",
       "<text text-anchor=\"middle\" x=\"480.5\" y=\"-245.8\" font-family=\"Helvetica,sans-Serif\" font-size=\"14.00\">X[5] &lt;= 101.713</text>\n",
       "<text text-anchor=\"middle\" x=\"480.5\" y=\"-230.8\" font-family=\"Helvetica,sans-Serif\" font-size=\"14.00\">gini = 0.019</text>\n",
       "<text text-anchor=\"middle\" x=\"480.5\" y=\"-215.8\" font-family=\"Helvetica,sans-Serif\" font-size=\"14.00\">samples = 106</text>\n",
       "<text text-anchor=\"middle\" x=\"480.5\" y=\"-200.8\" font-family=\"Helvetica,sans-Serif\" font-size=\"14.00\">value = [1, 105]</text>\n",
       "</g>\n",
       "<!-- 12&#45;&gt;13 -->\n",
       "<g id=\"edge13\" class=\"edge\">\n",
       "<title>12&#45;&gt;13</title>\n",
       "<path fill=\"none\" stroke=\"black\" d=\"M543.98,-296.88C535.69,-287.89 526.62,-278.04 517.99,-268.68\"/>\n",
       "<polygon fill=\"black\" stroke=\"black\" points=\"520.54,-266.28 511.19,-261.3 515.39,-271.02 520.54,-266.28\"/>\n",
       "</g>\n",
       "<!-- 16 -->\n",
       "<g id=\"node17\" class=\"node\">\n",
       "<title>16</title>\n",
       "<polygon fill=\"none\" stroke=\"black\" points=\"680,-253.5 567,-253.5 567,-200.5 680,-200.5 680,-253.5\"/>\n",
       "<text text-anchor=\"middle\" x=\"623.5\" y=\"-238.3\" font-family=\"Helvetica,sans-Serif\" font-size=\"14.00\">gini = 0.0</text>\n",
       "<text text-anchor=\"middle\" x=\"623.5\" y=\"-223.3\" font-family=\"Helvetica,sans-Serif\" font-size=\"14.00\">samples = 4</text>\n",
       "<text text-anchor=\"middle\" x=\"623.5\" y=\"-208.3\" font-family=\"Helvetica,sans-Serif\" font-size=\"14.00\">value = [4, 0]</text>\n",
       "</g>\n",
       "<!-- 12&#45;&gt;16 -->\n",
       "<g id=\"edge16\" class=\"edge\">\n",
       "<title>12&#45;&gt;16</title>\n",
       "<path fill=\"none\" stroke=\"black\" d=\"M590.41,-296.88C595.64,-286 601.47,-273.86 606.76,-262.85\"/>\n",
       "<polygon fill=\"black\" stroke=\"black\" points=\"610.07,-264.05 611.24,-253.52 603.76,-261.02 610.07,-264.05\"/>\n",
       "</g>\n",
       "<!-- 14 -->\n",
       "<g id=\"node15\" class=\"node\">\n",
       "<title>14</title>\n",
       "<polygon fill=\"none\" stroke=\"black\" points=\"468,-149.5 337,-149.5 337,-96.5 468,-96.5 468,-149.5\"/>\n",
       "<text text-anchor=\"middle\" x=\"402.5\" y=\"-134.3\" font-family=\"Helvetica,sans-Serif\" font-size=\"14.00\">gini = 0.0</text>\n",
       "<text text-anchor=\"middle\" x=\"402.5\" y=\"-119.3\" font-family=\"Helvetica,sans-Serif\" font-size=\"14.00\">samples = 105</text>\n",
       "<text text-anchor=\"middle\" x=\"402.5\" y=\"-104.3\" font-family=\"Helvetica,sans-Serif\" font-size=\"14.00\">value = [0, 105]</text>\n",
       "</g>\n",
       "<!-- 13&#45;&gt;14 -->\n",
       "<g id=\"edge14\" class=\"edge\">\n",
       "<title>13&#45;&gt;14</title>\n",
       "<path fill=\"none\" stroke=\"black\" d=\"M455.18,-192.88C446.51,-181.56 436.82,-168.88 428.13,-157.52\"/>\n",
       "<polygon fill=\"black\" stroke=\"black\" points=\"430.87,-155.34 422.02,-149.52 425.31,-159.59 430.87,-155.34\"/>\n",
       "</g>\n",
       "<!-- 15 -->\n",
       "<g id=\"node16\" class=\"node\">\n",
       "<title>15</title>\n",
       "<polygon fill=\"none\" stroke=\"black\" points=\"599,-149.5 486,-149.5 486,-96.5 599,-96.5 599,-149.5\"/>\n",
       "<text text-anchor=\"middle\" x=\"542.5\" y=\"-134.3\" font-family=\"Helvetica,sans-Serif\" font-size=\"14.00\">gini = 0.0</text>\n",
       "<text text-anchor=\"middle\" x=\"542.5\" y=\"-119.3\" font-family=\"Helvetica,sans-Serif\" font-size=\"14.00\">samples = 1</text>\n",
       "<text text-anchor=\"middle\" x=\"542.5\" y=\"-104.3\" font-family=\"Helvetica,sans-Serif\" font-size=\"14.00\">value = [1, 0]</text>\n",
       "</g>\n",
       "<!-- 13&#45;&gt;15 -->\n",
       "<g id=\"edge15\" class=\"edge\">\n",
       "<title>13&#45;&gt;15</title>\n",
       "<path fill=\"none\" stroke=\"black\" d=\"M500.63,-192.88C507.38,-181.78 514.92,-169.37 521.72,-158.18\"/>\n",
       "<polygon fill=\"black\" stroke=\"black\" points=\"524.78,-159.88 526.99,-149.52 518.8,-156.25 524.78,-159.88\"/>\n",
       "</g>\n",
       "</g>\n",
       "</svg>\n"
      ],
      "text/plain": [
       "<graphviz.sources.Source at 0x7f750610fbe0>"
      ]
     },
     "execution_count": 184,
     "metadata": {},
     "output_type": "execute_result"
    }
   ],
   "source": [
    "graph = graphviz.Source(dot_tree)\n",
    "graph.render('data')\n",
    "graph\n",
    "     \n"
   ]
  },
  {
   "cell_type": "code",
   "execution_count": 227,
   "id": "bff52526",
   "metadata": {},
   "outputs": [
    {
     "data": {
      "image/png": "[encoded data removed]",
      "text/plain": [
       "<Figure size 640x480 with 1 Axes>"
      ]
     },
     "metadata": {},
     "output_type": "display_data"
    }
   ],
   "source": [
    "\n",
    "\n",
    "\n",
    "     \n"
   ]
  },
  {
   "cell_type": "markdown",
   "id": "41a37ed3",
   "metadata": {},
   "source": [
    "## Applying Random Forest"
   ]
  },
  {
   "cell_type": "code",
   "execution_count": 185,
   "id": "fa0ac6d1",
   "metadata": {},
   "outputs": [
    {
     "data": {
      "text/plain": [
       "RandomForestClassifier(n_estimators=50)"
      ]
     },
     "execution_count": 185,
     "metadata": {},
     "output_type": "execute_result"
    }
   ],
   "source": [
    "from sklearn.ensemble import RandomForestClassifier\n",
    "classifier = RandomForestClassifier(n_estimators = 50)\n",
    "classifier.fit(x_train, y_train)\n",
    "     \n"
   ]
  },
  {
   "cell_type": "code",
   "execution_count": 186,
   "id": "540c238f",
   "metadata": {},
   "outputs": [],
   "source": [
    "rf_pred = classifier.predict(x_test)"
   ]
  },
  {
   "cell_type": "code",
   "execution_count": 187,
   "id": "b8343434",
   "metadata": {},
   "outputs": [
    {
     "data": {
      "text/plain": [
       "0.96"
      ]
     },
     "execution_count": 187,
     "metadata": {},
     "output_type": "execute_result"
    }
   ],
   "source": [
    "accuracy_score(rf_pred, y_test)"
   ]
  },
  {
   "cell_type": "markdown",
   "id": "ca59a41e",
   "metadata": {},
   "source": [
    "## Supervised Learning Model Summary\n",
    "\n",
    "### Amongest the four models tested, Decision Tree has the highest accuracy of 97% Followed by Random Forest with 96%, then Logistic regression with 93% while KNN is the least with 81%"
   ]
  },
  {
   "cell_type": "markdown",
   "id": "52411b23",
   "metadata": {},
   "source": [
    "## Part2: unsupervised learning"
   ]
  },
  {
   "cell_type": "code",
   "execution_count": 206,
   "id": "3550de02",
   "metadata": {},
   "outputs": [
    {
     "name": "stdout",
     "output_type": "stream",
     "text": [
      "<class 'pandas.core.frame.DataFrame'>\n",
      "RangeIndex: 400 entries, 0 to 399\n",
      "Data columns (total 26 columns):\n",
      " #   Column                   Non-Null Count  Dtype  \n",
      "---  ------                   --------------  -----  \n",
      " 0   id                       400 non-null    int64  \n",
      " 1   age                      400 non-null    float64\n",
      " 2   blood_pressure           400 non-null    float64\n",
      " 3   specific_gravity         400 non-null    float64\n",
      " 4   albumin                  400 non-null    float64\n",
      " 5   sugar                    400 non-null    float64\n",
      " 6   red_blood_cells          248 non-null    object \n",
      " 7   pus_cell                 335 non-null    object \n",
      " 8   pus_cell_clumps          396 non-null    object \n",
      " 9   bacteria                 396 non-null    object \n",
      " 10  blood_glucose_random     400 non-null    float64\n",
      " 11  blood_urea               400 non-null    float64\n",
      " 12  serum_creatinine         400 non-null    float64\n",
      " 13  sodium                   400 non-null    float64\n",
      " 14  potassium                400 non-null    float64\n",
      " 15  hemoglobin               400 non-null    float64\n",
      " 16  packed_cell_volume       330 non-null    object \n",
      " 17  white_blood_cell_count   400 non-null    float64\n",
      " 18  red_blood_cell_count     400 non-null    float64\n",
      " 19  hypertension             398 non-null    object \n",
      " 20  diabetes_mellitus        398 non-null    object \n",
      " 21  coronary_artery_disease  400 non-null    object \n",
      " 22  appetite                 399 non-null    object \n",
      " 23  pedal_edema              399 non-null    object \n",
      " 24  anemia                   399 non-null    object \n",
      " 25  class                    400 non-null    object \n",
      "dtypes: float64(13), int64(1), object(12)\n",
      "memory usage: 81.4+ KB\n"
     ]
    }
   ],
   "source": [
    "data.info()"
   ]
  },
  {
   "cell_type": "code",
   "execution_count": 209,
   "id": "a4de7a5f",
   "metadata": {},
   "outputs": [],
   "source": [
    "data_ = data.drop(['id','red_blood_cells', 'pus_cell', 'pus_cell_clumps', 'bacteria',\n",
    "                  'packed_cell_volume', 'hypertension', 'diabetes_mellitus', 'coronary_artery_disease',\n",
    "                  'appetite', 'pedal_edema', 'anemia', 'class'],  axis = 1)"
   ]
  },
  {
   "cell_type": "code",
   "execution_count": 210,
   "id": "87f8b2f3",
   "metadata": {},
   "outputs": [
    {
     "data": {
      "text/html": [
       "<div>\n",
       "<style scoped>\n",
       "    .dataframe tbody tr th:only-of-type {\n",
       "        vertical-align: middle;\n",
       "    }\n",
       "\n",
       "    .dataframe tbody tr th {\n",
       "        vertical-align: top;\n",
       "    }\n",
       "\n",
       "    .dataframe thead th {\n",
       "        text-align: right;\n",
       "    }\n",
       "</style>\n",
       "<table border=\"1\" class=\"dataframe\">\n",
       "  <thead>\n",
       "    <tr style=\"text-align: right;\">\n",
       "      <th></th>\n",
       "      <th>age</th>\n",
       "      <th>blood_pressure</th>\n",
       "      <th>specific_gravity</th>\n",
       "      <th>albumin</th>\n",
       "      <th>sugar</th>\n",
       "      <th>blood_glucose_random</th>\n",
       "      <th>blood_urea</th>\n",
       "      <th>serum_creatinine</th>\n",
       "      <th>sodium</th>\n",
       "      <th>potassium</th>\n",
       "      <th>hemoglobin</th>\n",
       "      <th>white_blood_cell_count</th>\n",
       "      <th>red_blood_cell_count</th>\n",
       "    </tr>\n",
       "  </thead>\n",
       "  <tbody>\n",
       "    <tr>\n",
       "      <th>0</th>\n",
       "      <td>48.0</td>\n",
       "      <td>80.0</td>\n",
       "      <td>1.020</td>\n",
       "      <td>1.0</td>\n",
       "      <td>0.0</td>\n",
       "      <td>121.000000</td>\n",
       "      <td>36.0</td>\n",
       "      <td>1.2</td>\n",
       "      <td>137.528754</td>\n",
       "      <td>4.627244</td>\n",
       "      <td>15.4</td>\n",
       "      <td>7800.0</td>\n",
       "      <td>5.20000</td>\n",
       "    </tr>\n",
       "    <tr>\n",
       "      <th>1</th>\n",
       "      <td>7.0</td>\n",
       "      <td>50.0</td>\n",
       "      <td>1.020</td>\n",
       "      <td>4.0</td>\n",
       "      <td>0.0</td>\n",
       "      <td>148.036517</td>\n",
       "      <td>18.0</td>\n",
       "      <td>0.8</td>\n",
       "      <td>137.528754</td>\n",
       "      <td>4.627244</td>\n",
       "      <td>11.3</td>\n",
       "      <td>6000.0</td>\n",
       "      <td>2.85275</td>\n",
       "    </tr>\n",
       "    <tr>\n",
       "      <th>2</th>\n",
       "      <td>62.0</td>\n",
       "      <td>80.0</td>\n",
       "      <td>1.010</td>\n",
       "      <td>2.0</td>\n",
       "      <td>3.0</td>\n",
       "      <td>423.000000</td>\n",
       "      <td>53.0</td>\n",
       "      <td>1.8</td>\n",
       "      <td>137.528754</td>\n",
       "      <td>4.627244</td>\n",
       "      <td>9.6</td>\n",
       "      <td>7500.0</td>\n",
       "      <td>2.85275</td>\n",
       "    </tr>\n",
       "    <tr>\n",
       "      <th>3</th>\n",
       "      <td>48.0</td>\n",
       "      <td>70.0</td>\n",
       "      <td>1.005</td>\n",
       "      <td>4.0</td>\n",
       "      <td>0.0</td>\n",
       "      <td>117.000000</td>\n",
       "      <td>56.0</td>\n",
       "      <td>3.8</td>\n",
       "      <td>111.000000</td>\n",
       "      <td>2.500000</td>\n",
       "      <td>11.2</td>\n",
       "      <td>6700.0</td>\n",
       "      <td>3.90000</td>\n",
       "    </tr>\n",
       "    <tr>\n",
       "      <th>4</th>\n",
       "      <td>51.0</td>\n",
       "      <td>80.0</td>\n",
       "      <td>1.010</td>\n",
       "      <td>2.0</td>\n",
       "      <td>0.0</td>\n",
       "      <td>106.000000</td>\n",
       "      <td>26.0</td>\n",
       "      <td>1.4</td>\n",
       "      <td>137.528754</td>\n",
       "      <td>4.627244</td>\n",
       "      <td>11.6</td>\n",
       "      <td>7300.0</td>\n",
       "      <td>4.60000</td>\n",
       "    </tr>\n",
       "    <tr>\n",
       "      <th>...</th>\n",
       "      <td>...</td>\n",
       "      <td>...</td>\n",
       "      <td>...</td>\n",
       "      <td>...</td>\n",
       "      <td>...</td>\n",
       "      <td>...</td>\n",
       "      <td>...</td>\n",
       "      <td>...</td>\n",
       "      <td>...</td>\n",
       "      <td>...</td>\n",
       "      <td>...</td>\n",
       "      <td>...</td>\n",
       "      <td>...</td>\n",
       "    </tr>\n",
       "    <tr>\n",
       "      <th>395</th>\n",
       "      <td>55.0</td>\n",
       "      <td>80.0</td>\n",
       "      <td>1.020</td>\n",
       "      <td>0.0</td>\n",
       "      <td>0.0</td>\n",
       "      <td>140.000000</td>\n",
       "      <td>49.0</td>\n",
       "      <td>0.5</td>\n",
       "      <td>150.000000</td>\n",
       "      <td>4.900000</td>\n",
       "      <td>15.7</td>\n",
       "      <td>6700.0</td>\n",
       "      <td>4.90000</td>\n",
       "    </tr>\n",
       "    <tr>\n",
       "      <th>396</th>\n",
       "      <td>42.0</td>\n",
       "      <td>70.0</td>\n",
       "      <td>1.025</td>\n",
       "      <td>0.0</td>\n",
       "      <td>0.0</td>\n",
       "      <td>75.000000</td>\n",
       "      <td>31.0</td>\n",
       "      <td>1.2</td>\n",
       "      <td>141.000000</td>\n",
       "      <td>3.500000</td>\n",
       "      <td>16.5</td>\n",
       "      <td>7800.0</td>\n",
       "      <td>6.20000</td>\n",
       "    </tr>\n",
       "    <tr>\n",
       "      <th>397</th>\n",
       "      <td>12.0</td>\n",
       "      <td>80.0</td>\n",
       "      <td>1.020</td>\n",
       "      <td>0.0</td>\n",
       "      <td>0.0</td>\n",
       "      <td>100.000000</td>\n",
       "      <td>26.0</td>\n",
       "      <td>0.6</td>\n",
       "      <td>137.000000</td>\n",
       "      <td>4.400000</td>\n",
       "      <td>15.8</td>\n",
       "      <td>6600.0</td>\n",
       "      <td>5.40000</td>\n",
       "    </tr>\n",
       "    <tr>\n",
       "      <th>398</th>\n",
       "      <td>17.0</td>\n",
       "      <td>60.0</td>\n",
       "      <td>1.025</td>\n",
       "      <td>0.0</td>\n",
       "      <td>0.0</td>\n",
       "      <td>114.000000</td>\n",
       "      <td>50.0</td>\n",
       "      <td>1.0</td>\n",
       "      <td>135.000000</td>\n",
       "      <td>4.900000</td>\n",
       "      <td>14.2</td>\n",
       "      <td>7200.0</td>\n",
       "      <td>5.90000</td>\n",
       "    </tr>\n",
       "    <tr>\n",
       "      <th>399</th>\n",
       "      <td>58.0</td>\n",
       "      <td>80.0</td>\n",
       "      <td>1.025</td>\n",
       "      <td>0.0</td>\n",
       "      <td>0.0</td>\n",
       "      <td>131.000000</td>\n",
       "      <td>18.0</td>\n",
       "      <td>1.1</td>\n",
       "      <td>141.000000</td>\n",
       "      <td>3.500000</td>\n",
       "      <td>15.8</td>\n",
       "      <td>6800.0</td>\n",
       "      <td>6.10000</td>\n",
       "    </tr>\n",
       "  </tbody>\n",
       "</table>\n",
       "<p>400 rows × 13 columns</p>\n",
       "</div>"
      ],
      "text/plain": [
       "      age  blood_pressure  specific_gravity  albumin  sugar  \\\n",
       "0    48.0            80.0             1.020      1.0    0.0   \n",
       "1     7.0            50.0             1.020      4.0    0.0   \n",
       "2    62.0            80.0             1.010      2.0    3.0   \n",
       "3    48.0            70.0             1.005      4.0    0.0   \n",
       "4    51.0            80.0             1.010      2.0    0.0   \n",
       "..    ...             ...               ...      ...    ...   \n",
       "395  55.0            80.0             1.020      0.0    0.0   \n",
       "396  42.0            70.0             1.025      0.0    0.0   \n",
       "397  12.0            80.0             1.020      0.0    0.0   \n",
       "398  17.0            60.0             1.025      0.0    0.0   \n",
       "399  58.0            80.0             1.025      0.0    0.0   \n",
       "\n",
       "     blood_glucose_random  blood_urea  serum_creatinine      sodium  \\\n",
       "0              121.000000        36.0               1.2  137.528754   \n",
       "1              148.036517        18.0               0.8  137.528754   \n",
       "2              423.000000        53.0               1.8  137.528754   \n",
       "3              117.000000        56.0               3.8  111.000000   \n",
       "4              106.000000        26.0               1.4  137.528754   \n",
       "..                    ...         ...               ...         ...   \n",
       "395            140.000000        49.0               0.5  150.000000   \n",
       "396             75.000000        31.0               1.2  141.000000   \n",
       "397            100.000000        26.0               0.6  137.000000   \n",
       "398            114.000000        50.0               1.0  135.000000   \n",
       "399            131.000000        18.0               1.1  141.000000   \n",
       "\n",
       "     potassium  hemoglobin  white_blood_cell_count  red_blood_cell_count  \n",
       "0     4.627244        15.4                  7800.0               5.20000  \n",
       "1     4.627244        11.3                  6000.0               2.85275  \n",
       "2     4.627244         9.6                  7500.0               2.85275  \n",
       "3     2.500000        11.2                  6700.0               3.90000  \n",
       "4     4.627244        11.6                  7300.0               4.60000  \n",
       "..         ...         ...                     ...                   ...  \n",
       "395   4.900000        15.7                  6700.0               4.90000  \n",
       "396   3.500000        16.5                  7800.0               6.20000  \n",
       "397   4.400000        15.8                  6600.0               5.40000  \n",
       "398   4.900000        14.2                  7200.0               5.90000  \n",
       "399   3.500000        15.8                  6800.0               6.10000  \n",
       "\n",
       "[400 rows x 13 columns]"
      ]
     },
     "execution_count": 210,
     "metadata": {},
     "output_type": "execute_result"
    }
   ],
   "source": [
    "data_"
   ]
  },
  {
   "cell_type": "code",
   "execution_count": 211,
   "id": "529d37b9",
   "metadata": {},
   "outputs": [],
   "source": [
    "from sklearn.cluster import AgglomerativeClustering\n",
    "from sklearn.metrics import silhouette_score as ss"
   ]
  },
  {
   "cell_type": "code",
   "execution_count": 212,
   "id": "fa1aa716",
   "metadata": {},
   "outputs": [
    {
     "name": "stdout",
     "output_type": "stream",
     "text": [
      "2 score is :  0.6191427509624351\n",
      "3 score is :  0.6472051920232187\n",
      "4 score is :  0.647175154651531\n",
      "5 score is :  0.54851027656228\n",
      "6 score is :  0.5802892382786686\n",
      "7 score is :  0.5759537518964862\n",
      "8 score is :  0.6114404378701552\n",
      "9 score is :  0.6180885922466196\n",
      "10 score is :  0.6195099793023038\n",
      "11 score is :  0.622200492837202\n",
      "12 score is :  0.6090951392476832\n",
      "13 score is :  0.6087960300850943\n",
      "14 score is :  0.5960990934194398\n"
     ]
    }
   ],
   "source": [
    "#findind the number of Agglomerative clusters\n",
    "Agg_score = []\n",
    "\n",
    "for i in range(2,15):\n",
    "     model = AgglomerativeClustering(n_clusters = i, affinity = 'euclidean', linkage ='ward')\n",
    "     pre = model.fit_predict(data_)\n",
    "     Agg_score = ss(data_, pre)\n",
    "     print(i, 'score is : ', Agg_score)"
   ]
  },
  {
   "cell_type": "code",
   "execution_count": 213,
   "id": "f08ff130",
   "metadata": {},
   "outputs": [],
   "source": [
    "model = AgglomerativeClustering(n_clusters = 3, affinity = 'euclidean', linkage ='ward')# 3 has highest score\n",
    "pre = model.fit_predict(data_)"
   ]
  },
  {
   "cell_type": "code",
   "execution_count": 214,
   "id": "ea0a1909",
   "metadata": {},
   "outputs": [
    {
     "data": {
      "text/html": [
       "<div>\n",
       "<style scoped>\n",
       "    .dataframe tbody tr th:only-of-type {\n",
       "        vertical-align: middle;\n",
       "    }\n",
       "\n",
       "    .dataframe tbody tr th {\n",
       "        vertical-align: top;\n",
       "    }\n",
       "\n",
       "    .dataframe thead th {\n",
       "        text-align: right;\n",
       "    }\n",
       "</style>\n",
       "<table border=\"1\" class=\"dataframe\">\n",
       "  <thead>\n",
       "    <tr style=\"text-align: right;\">\n",
       "      <th></th>\n",
       "      <th>age</th>\n",
       "      <th>blood_pressure</th>\n",
       "      <th>specific_gravity</th>\n",
       "      <th>albumin</th>\n",
       "      <th>sugar</th>\n",
       "      <th>blood_glucose_random</th>\n",
       "      <th>blood_urea</th>\n",
       "      <th>serum_creatinine</th>\n",
       "      <th>sodium</th>\n",
       "      <th>potassium</th>\n",
       "      <th>hemoglobin</th>\n",
       "      <th>white_blood_cell_count</th>\n",
       "      <th>red_blood_cell_count</th>\n",
       "      <th>CLUSTER</th>\n",
       "    </tr>\n",
       "  </thead>\n",
       "  <tbody>\n",
       "    <tr>\n",
       "      <th>0</th>\n",
       "      <td>48.0</td>\n",
       "      <td>80.0</td>\n",
       "      <td>1.020</td>\n",
       "      <td>1.0</td>\n",
       "      <td>0.0</td>\n",
       "      <td>121.000000</td>\n",
       "      <td>36.0</td>\n",
       "      <td>1.2</td>\n",
       "      <td>137.528754</td>\n",
       "      <td>4.627244</td>\n",
       "      <td>15.4</td>\n",
       "      <td>7800.0</td>\n",
       "      <td>5.20000</td>\n",
       "      <td>2</td>\n",
       "    </tr>\n",
       "    <tr>\n",
       "      <th>1</th>\n",
       "      <td>7.0</td>\n",
       "      <td>50.0</td>\n",
       "      <td>1.020</td>\n",
       "      <td>4.0</td>\n",
       "      <td>0.0</td>\n",
       "      <td>148.036517</td>\n",
       "      <td>18.0</td>\n",
       "      <td>0.8</td>\n",
       "      <td>137.528754</td>\n",
       "      <td>4.627244</td>\n",
       "      <td>11.3</td>\n",
       "      <td>6000.0</td>\n",
       "      <td>2.85275</td>\n",
       "      <td>1</td>\n",
       "    </tr>\n",
       "    <tr>\n",
       "      <th>2</th>\n",
       "      <td>62.0</td>\n",
       "      <td>80.0</td>\n",
       "      <td>1.010</td>\n",
       "      <td>2.0</td>\n",
       "      <td>3.0</td>\n",
       "      <td>423.000000</td>\n",
       "      <td>53.0</td>\n",
       "      <td>1.8</td>\n",
       "      <td>137.528754</td>\n",
       "      <td>4.627244</td>\n",
       "      <td>9.6</td>\n",
       "      <td>7500.0</td>\n",
       "      <td>2.85275</td>\n",
       "      <td>1</td>\n",
       "    </tr>\n",
       "    <tr>\n",
       "      <th>3</th>\n",
       "      <td>48.0</td>\n",
       "      <td>70.0</td>\n",
       "      <td>1.005</td>\n",
       "      <td>4.0</td>\n",
       "      <td>0.0</td>\n",
       "      <td>117.000000</td>\n",
       "      <td>56.0</td>\n",
       "      <td>3.8</td>\n",
       "      <td>111.000000</td>\n",
       "      <td>2.500000</td>\n",
       "      <td>11.2</td>\n",
       "      <td>6700.0</td>\n",
       "      <td>3.90000</td>\n",
       "      <td>1</td>\n",
       "    </tr>\n",
       "    <tr>\n",
       "      <th>4</th>\n",
       "      <td>51.0</td>\n",
       "      <td>80.0</td>\n",
       "      <td>1.010</td>\n",
       "      <td>2.0</td>\n",
       "      <td>0.0</td>\n",
       "      <td>106.000000</td>\n",
       "      <td>26.0</td>\n",
       "      <td>1.4</td>\n",
       "      <td>137.528754</td>\n",
       "      <td>4.627244</td>\n",
       "      <td>11.6</td>\n",
       "      <td>7300.0</td>\n",
       "      <td>4.60000</td>\n",
       "      <td>1</td>\n",
       "    </tr>\n",
       "  </tbody>\n",
       "</table>\n",
       "</div>"
      ],
      "text/plain": [
       "    age  blood_pressure  specific_gravity  albumin  sugar  \\\n",
       "0  48.0            80.0             1.020      1.0    0.0   \n",
       "1   7.0            50.0             1.020      4.0    0.0   \n",
       "2  62.0            80.0             1.010      2.0    3.0   \n",
       "3  48.0            70.0             1.005      4.0    0.0   \n",
       "4  51.0            80.0             1.010      2.0    0.0   \n",
       "\n",
       "   blood_glucose_random  blood_urea  serum_creatinine      sodium  potassium  \\\n",
       "0            121.000000        36.0               1.2  137.528754   4.627244   \n",
       "1            148.036517        18.0               0.8  137.528754   4.627244   \n",
       "2            423.000000        53.0               1.8  137.528754   4.627244   \n",
       "3            117.000000        56.0               3.8  111.000000   2.500000   \n",
       "4            106.000000        26.0               1.4  137.528754   4.627244   \n",
       "\n",
       "   hemoglobin  white_blood_cell_count  red_blood_cell_count  CLUSTER  \n",
       "0        15.4                  7800.0               5.20000        2  \n",
       "1        11.3                  6000.0               2.85275        1  \n",
       "2         9.6                  7500.0               2.85275        1  \n",
       "3        11.2                  6700.0               3.90000        1  \n",
       "4        11.6                  7300.0               4.60000        1  "
      ]
     },
     "execution_count": 214,
     "metadata": {},
     "output_type": "execute_result"
    }
   ],
   "source": [
    "data_['CLUSTER'] = pre\n",
    "\n",
    "data_.head()\n"
   ]
  },
  {
   "cell_type": "code",
   "execution_count": 217,
   "id": "52fbdab5",
   "metadata": {},
   "outputs": [
    {
     "data": {
      "text/plain": [
       "Text(0.5, 1.0, 'AGGLOMERATIVE CLUSTER COUNTS')"
      ]
     },
     "execution_count": 217,
     "metadata": {},
     "output_type": "execute_result"
    },
    {
     "data": {
      "image/png": "[encoded data removed]",
      "text/plain": [
       "<Figure size 640x480 with 1 Axes>"
      ]
     },
     "metadata": {},
     "output_type": "display_data"
    }
   ],
   "source": [
    "\n",
    "DF1 = data_[data_.CLUSTER ==0]\n",
    "DF2 = data_[data_.CLUSTER ==1]\n",
    "DF3 = data_[data_.CLUSTER ==2]\n",
    "\n",
    "# print(DF1['CLUSTER'].value_counts())\n",
    "# print(DF2['CLUSTER'].value_counts())\n",
    "# print(DF3['CLUSTER'].value_counts())\n",
    "\n",
    "\n",
    "#Visualizing the dataset clusters\n",
    "\n",
    "import seaborn as sb\n",
    "\n",
    "sb.countplot(x = 'CLUSTER', data = data_)\n",
    "plt.title('AGGLOMERATIVE CLUSTER COUNTS')\n",
    "\n",
    "\n",
    "\n",
    "     \n",
    "\n",
    "     \n"
   ]
  },
  {
   "cell_type": "markdown",
   "id": "235236e3",
   "metadata": {},
   "source": [
    "## Plotting the Clausters"
   ]
  },
  {
   "cell_type": "code",
   "execution_count": 218,
   "id": "9345aeb0",
   "metadata": {},
   "outputs": [
    {
     "data": {
      "text/plain": [
       "<matplotlib.legend.Legend at 0x7f750530b8e0>"
      ]
     },
     "execution_count": 218,
     "metadata": {},
     "output_type": "execute_result"
    },
    {
     "data": {
      "image/png": "[encoded data removed]",
      "text/plain": [
       "<Figure size 640x480 with 1 Axes>"
      ]
     },
     "metadata": {},
     "output_type": "display_data"
    }
   ],
   "source": [
    "\n",
    "plt.scatter(DF1.age, DF1.red_blood_cell_count, c = 'red', label = 'Cluster zero')\n",
    "plt.scatter(DF2['age'], DF2['red_blood_cell_count'], c = 'green', label = 'Cluster One')\n",
    "plt.scatter(DF3['age'], DF3['red_blood_cell_count'], c = 'orange', label = 'Cluster Two')\n",
    "\n",
    "\n",
    "plt.title('AGGLOMERATIVE CLUSTERING')\n",
    "plt.xlabel('AGE')\n",
    "plt.ylabel('RED BLOOD CELL COUNT')\n",
    "plt.legend()"
   ]
  },
  {
   "cell_type": "markdown",
   "id": "8cc1ba6e",
   "metadata": {},
   "source": [
    "## The Dandogram"
   ]
  },
  {
   "cell_type": "code",
   "execution_count": 219,
   "id": "a428d45e",
   "metadata": {},
   "outputs": [
    {
     "data": {
      "text/plain": [
       "Text(0.5, 1.0, 'Dandrogram')"
      ]
     },
     "execution_count": 219,
     "metadata": {},
     "output_type": "execute_result"
    },
    {
     "data": {
      "image/png": "[encoded data removed]",
      "text/plain": [
       "<Figure size 640x480 with 1 Axes>"
      ]
     },
     "metadata": {},
     "output_type": "display_data"
    }
   ],
   "source": [
    "#Plotting the Dandrogram\n",
    "\n",
    "import scipy.cluster.hierarchy as sch\n",
    "\n",
    "den = sch.dendrogram(sch.linkage(data_, method = 'ward'))\n",
    "\n",
    "plt.title('Dandrogram')\n",
    "    \n"
   ]
  },
  {
   "cell_type": "code",
   "execution_count": 220,
   "id": "78f53e47",
   "metadata": {},
   "outputs": [
    {
     "name": "stdout",
     "output_type": "stream",
     "text": [
      "2 score is :  0.6590736006139136\n",
      "3 score is :  0.6691056746509176\n",
      "4 score is :  0.6437554771443031\n",
      "5 score is :  0.5775067962544536\n",
      "6 score is :  0.6189077587959598\n",
      "7 score is :  0.6125307112933319\n",
      "8 score is :  0.6131651103787196\n",
      "9 score is :  0.6265841935531575\n",
      "10 score is :  0.6269349703762516\n",
      "11 score is :  0.626409525914462\n",
      "12 score is :  0.6270139135338372\n",
      "13 score is :  0.632121936143894\n",
      "14 score is :  0.6220312772674715\n",
      "15 score is :  0.6057155016180399\n",
      "16 score is :  0.5903542727613135\n",
      "17 score is :  0.5866162773370778\n",
      "18 score is :  0.5912620928039999\n",
      "19 score is :  0.5788759889996608\n"
     ]
    }
   ],
   "source": [
    "#KMEANS \n",
    "\n",
    "from sklearn.cluster import KMeans\n",
    "\n",
    "\n",
    "# Finding the best number of clusters which cluster with highest silhouete score\n",
    "\n",
    "sscore =[]\n",
    "for i in range(2,20):\n",
    "    kmeans = KMeans(n_clusters = i, random_state = 50) \n",
    "    k_pre = kmeans.fit_predict(data_)\n",
    "    sscore = ss(data_, k_pre)\n",
    "    print(i, 'score is : ', sscore)\n",
    "\n"
   ]
  },
  {
   "cell_type": "code",
   "execution_count": 221,
   "id": "db4f38f6",
   "metadata": {},
   "outputs": [
    {
     "name": "stdout",
     "output_type": "stream",
     "text": [
      "0.6691056746509176\n"
     ]
    }
   ],
   "source": [
    "kmeans = KMeans(n_clusters = 3, random_state = 50)\n",
    "k_pre = kmeans.fit_predict(data_)\n",
    "sscore = ss(data_, k_pre)\n",
    "print(sscore)\n",
    "\n",
    "\n",
    "\n",
    "\n",
    "centroids = kmeans.cluster_centers_\n"
   ]
  },
  {
   "cell_type": "code",
   "execution_count": 222,
   "id": "e96feb00",
   "metadata": {},
   "outputs": [
    {
     "name": "stdout",
     "output_type": "stream",
     "text": [
      "True     259\n",
      "False    141\n",
      "Name: Clusters, dtype: int64\n"
     ]
    },
    {
     "data": {
      "text/plain": [
       "Text(0.5, 1.0, 'KMEANS Cluster Counts')"
      ]
     },
     "execution_count": 222,
     "metadata": {},
     "output_type": "execute_result"
    },
    {
     "data": {
      "image/png": "[encoded data removed]",
      "text/plain": [
       "<Figure size 640x480 with 1 Axes>"
      ]
     },
     "metadata": {},
     "output_type": "display_data"
    }
   ],
   "source": [
    "data_['Clusters'] = k_pre\n",
    "print((data_.Clusters ==1).value_counts())\n",
    "\n",
    "sb.countplot(x = 'Clusters', data = data_)\n",
    "plt.title('KMEANS Cluster Counts')\n",
    "\n",
    "\n",
    "\n",
    "     \n"
   ]
  },
  {
   "cell_type": "code",
   "execution_count": 223,
   "id": "7f70162e",
   "metadata": {},
   "outputs": [
    {
     "data": {
      "text/plain": [
       "<matplotlib.colorbar.Colorbar at 0x7f7504e9ac40>"
      ]
     },
     "execution_count": 223,
     "metadata": {},
     "output_type": "execute_result"
    },
    {
     "data": {
      "image/png": "[encoded data removed]",
      "text/plain": [
       "<Figure size 640x480 with 2 Axes>"
      ]
     },
     "metadata": {},
     "output_type": "display_data"
    }
   ],
   "source": [
    "#KMEANS VISUALIZATION\n",
    "\n",
    "\n",
    "\n",
    "y = plt.scatter(data_.age, data_.white_blood_cell_count, c = data_.Clusters)\n",
    "plt.scatter(centroids[:,0], centroids[:,1], s = 80, c ='red', marker = '+' , label = \"Centriods\")\n",
    "\n",
    "plt.title('KMEANS CLUSTERING')\n",
    "plt.xlabel('Age')\n",
    "plt.ylabel('WHITE BLOOD CELL COUNT')\n",
    "plt.legend()\n",
    "plt.colorbar(y)\n"
   ]
  },
  {
   "cell_type": "code",
   "execution_count": 224,
   "id": "09e179b9",
   "metadata": {},
   "outputs": [
    {
     "data": {
      "text/plain": [
       "[<matplotlib.lines.Line2D at 0x7f75045d49d0>]"
      ]
     },
     "execution_count": 224,
     "metadata": {},
     "output_type": "execute_result"
    },
    {
     "data": {
      "image/png": "[encoded data removed]",
      "text/plain": [
       "<Figure size 640x480 with 1 Axes>"
      ]
     },
     "metadata": {},
     "output_type": "display_data"
    }
   ],
   "source": [
    "#Elbow Plot method to find the best number of clusters\n",
    "\n",
    "k_range = range(1,20)\n",
    "sse = []# This is the sum of square error\n",
    "for i in k_range:\n",
    "    km = KMeans(n_clusters = i)\n",
    "    km.fit(data_)\n",
    "    sse.append(km.inertia_)\n",
    "\n",
    "plt.xlabel('K')\n",
    "plt.ylabel('Sum of Square Error')\n",
    "plt.plot(k_range, sse)\n",
    "\n",
    "\n",
    "\n",
    "     \n"
   ]
  },
  {
   "cell_type": "markdown",
   "id": "2d7ca298",
   "metadata": {},
   "source": [
    "## Optimal K is 3"
   ]
  },
  {
   "cell_type": "code",
   "execution_count": 225,
   "id": "206264a7",
   "metadata": {},
   "outputs": [
    {
     "name": "stdout",
     "output_type": "stream",
     "text": [
      "     age  blood_pressure  specific_gravity  albumin  sugar  \\\n",
      "8   52.0           100.0             1.015      3.0    0.0   \n",
      "9   53.0            90.0             1.020      2.0    0.0   \n",
      "12  68.0            70.0             1.015      3.0    1.0   \n",
      "14  68.0            80.0             1.010      3.0    2.0   \n",
      "18  60.0           100.0             1.025      0.0    3.0   \n",
      "20  61.0            80.0             1.015      2.0    0.0   \n",
      "24  42.0           100.0             1.015      4.0    0.0   \n",
      "25  61.0            60.0             1.025      0.0    0.0   \n",
      "26  75.0            80.0             1.015      0.0    0.0   \n",
      "27  69.0            70.0             1.010      3.0    4.0   \n",
      "\n",
      "    blood_glucose_random  blood_urea  serum_creatinine      sodium  potassium  \\\n",
      "8             138.000000        60.0               1.9  137.528754   4.627244   \n",
      "9              70.000000       107.0               7.2  114.000000   3.700000   \n",
      "12            208.000000        72.0               2.1  138.000000   5.800000   \n",
      "14            157.000000        90.0               4.1  130.000000   6.400000   \n",
      "18            263.000000        27.0               1.3  135.000000   4.300000   \n",
      "20            173.000000       148.0               3.9  135.000000   5.200000   \n",
      "24            148.036517        50.0               1.4  129.000000   4.000000   \n",
      "25            108.000000        75.0               1.9  141.000000   5.200000   \n",
      "26            156.000000        45.0               2.4  140.000000   3.400000   \n",
      "27            264.000000        87.0               2.7  130.000000   4.000000   \n",
      "\n",
      "    hemoglobin  white_blood_cell_count  red_blood_cell_count  CLUSTER  \\\n",
      "8         10.8                  9600.0                   4.0        2   \n",
      "9          9.5                 12100.0                   3.7        0   \n",
      "12         9.7                 12200.0                   3.4        0   \n",
      "14         5.6                 11000.0                   2.6        2   \n",
      "18        12.7                 11400.0                   4.3        2   \n",
      "20         7.7                  9200.0                   3.2        2   \n",
      "24        11.1                  8300.0                   4.6        2   \n",
      "25         9.9                  8400.0                   3.7        2   \n",
      "26        11.6                 10300.0                   4.0        2   \n",
      "27        12.5                  9600.0                   4.1        2   \n",
      "\n",
      "    Clusters  \n",
      "8          0  \n",
      "9          0  \n",
      "12         0  \n",
      "14         0  \n",
      "18         0  \n",
      "20         0  \n",
      "24         0  \n",
      "25         0  \n",
      "26         0  \n",
      "27         0  \n",
      "     age  blood_pressure  specific_gravity  albumin  sugar  \\\n",
      "0   48.0       80.000000             1.020      1.0    0.0   \n",
      "1    7.0       50.000000             1.020      4.0    0.0   \n",
      "2   62.0       80.000000             1.010      2.0    3.0   \n",
      "3   48.0       70.000000             1.005      4.0    0.0   \n",
      "4   51.0       80.000000             1.010      2.0    0.0   \n",
      "5   60.0       90.000000             1.015      3.0    0.0   \n",
      "6   68.0       70.000000             1.010      0.0    0.0   \n",
      "7   24.0       76.469072             1.015      2.0    4.0   \n",
      "10  50.0       60.000000             1.010      2.0    4.0   \n",
      "11  63.0       70.000000             1.010      3.0    0.0   \n",
      "\n",
      "    blood_glucose_random  blood_urea  serum_creatinine      sodium  potassium  \\\n",
      "0             121.000000        36.0               1.2  137.528754   4.627244   \n",
      "1             148.036517        18.0               0.8  137.528754   4.627244   \n",
      "2             423.000000        53.0               1.8  137.528754   4.627244   \n",
      "3             117.000000        56.0               3.8  111.000000   2.500000   \n",
      "4             106.000000        26.0               1.4  137.528754   4.627244   \n",
      "5              74.000000        25.0               1.1  142.000000   3.200000   \n",
      "6             100.000000        54.0              24.0  104.000000   4.000000   \n",
      "7             410.000000        31.0               1.1  137.528754   4.627244   \n",
      "10            490.000000        55.0               4.0  137.528754   4.627244   \n",
      "11            380.000000        60.0               2.7  131.000000   4.200000   \n",
      "\n",
      "    hemoglobin  white_blood_cell_count  red_blood_cell_count  CLUSTER  \\\n",
      "0         15.4               7800.0000               5.20000        2   \n",
      "1         11.3               6000.0000               2.85275        1   \n",
      "2          9.6               7500.0000               2.85275        1   \n",
      "3         11.2               6700.0000               3.90000        1   \n",
      "4         11.6               7300.0000               4.60000        1   \n",
      "5         12.2               7800.0000               4.40000        2   \n",
      "6         12.4               6192.7375               2.85275        1   \n",
      "7         12.4               6900.0000               5.00000        1   \n",
      "10         9.4               6192.7375               2.85275        1   \n",
      "11        10.8               4500.0000               3.80000        1   \n",
      "\n",
      "    Clusters  \n",
      "0          1  \n",
      "1          1  \n",
      "2          1  \n",
      "3          1  \n",
      "4          1  \n",
      "5          1  \n",
      "6          1  \n",
      "7          1  \n",
      "10         1  \n",
      "11         1  \n",
      "      age  blood_pressure  specific_gravity  albumin  sugar  \\\n",
      "48   73.0            70.0             1.005      0.0    0.0   \n",
      "49   60.0            70.0             1.010      2.0    0.0   \n",
      "71   46.0            60.0             1.010      1.0    0.0   \n",
      "123  43.0            80.0             1.015      2.0    3.0   \n",
      "127  71.0            60.0             1.015      4.0    0.0   \n",
      "130  50.0            90.0             1.010      2.0    0.0   \n",
      "147  60.0            60.0             1.010      3.0    1.0   \n",
      "153  55.0            90.0             1.010      2.0    1.0   \n",
      "181  45.0            70.0             1.025      2.0    0.0   \n",
      "190   6.0            60.0             1.010      4.0    0.0   \n",
      "\n",
      "     blood_glucose_random  blood_urea  serum_creatinine      sodium  \\\n",
      "48              70.000000        32.0               0.9  125.000000   \n",
      "49             144.000000        72.0               3.0  137.528754   \n",
      "71             163.000000        92.0               3.3  141.000000   \n",
      "123            148.036517        30.0               1.1  137.528754   \n",
      "127            118.000000       125.0               5.3  136.000000   \n",
      "130            128.000000       208.0               9.2  134.000000   \n",
      "147            288.000000        36.0               1.7  130.000000   \n",
      "153            273.000000       235.0              14.2  132.000000   \n",
      "181            117.000000        52.0               2.2  136.000000   \n",
      "190             94.000000        67.0               1.0  135.000000   \n",
      "\n",
      "     potassium  hemoglobin  white_blood_cell_count  red_blood_cell_count  \\\n",
      "48    4.000000        10.0                 18900.0               3.50000   \n",
      "49    4.627244         9.7                 21600.0               3.50000   \n",
      "71    4.000000         9.8                 14600.0               3.20000   \n",
      "123   4.627244        14.0                 14900.0               2.85275   \n",
      "127   4.900000        11.4                 15200.0               4.30000   \n",
      "130   4.800000         8.2                 16300.0               2.70000   \n",
      "147   3.000000         7.9                 15200.0               3.00000   \n",
      "153   3.400000         8.3                 14600.0               2.90000   \n",
      "181   3.800000        10.0                 19100.0               3.70000   \n",
      "190   4.900000         9.9                 16700.0               4.80000   \n",
      "\n",
      "     CLUSTER  Clusters  \n",
      "48         0         2  \n",
      "49         0         2  \n",
      "71         0         2  \n",
      "123        0         2  \n",
      "127        0         2  \n",
      "130        0         2  \n",
      "147        0         2  \n",
      "153        0         2  \n",
      "181        0         2  \n",
      "190        0         2  \n"
     ]
    }
   ],
   "source": [
    "print(data_[data_.Clusters ==0].head(10))\n",
    "print(data_[data_.Clusters ==1].head(10))\n",
    "print(data_[data_.Clusters ==2].head(10))\n"
   ]
  },
  {
   "cell_type": "code",
   "execution_count": null,
   "id": "3b7eab79",
   "metadata": {},
   "outputs": [],
   "source": []
  }
 ],
 "metadata": {
  "kernelspec": {
   "display_name": "Python 3 (ipykernel)",
   "language": "python",
   "name": "python3"
  },
  "language_info": {
   "codemirror_mode": {
    "name": "ipython",
    "version": 3
   },
   "file_extension": ".py",
   "mimetype": "text/x-python",
   "name": "python",
   "nbconvert_exporter": "python",
   "pygments_lexer": "ipython3",
   "version": "3.9.13"
  }
 },
 "nbformat": 4,
 "nbformat_minor": 5
}

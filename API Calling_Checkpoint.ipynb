{
 "cells": [
  {
   "cell_type": "markdown",
   "id": "50e814d2",
   "metadata": {},
   "source": [
    "## Objective\n",
    "\n",
    "In this checkpoint, you will be able to make your first API request\n",
    "Instructions\n",
    "\n",
    "    Define an API\n",
    "    Get the request API from this url (http://api.open-notify.org/astros.json)\n",
    "    Show us the status code of response\n",
    "    Extract data from the this API using json\n",
    "    Create a dataframe containing your final data from your obtained json data.\n",
    "    "
   ]
  },
  {
   "cell_type": "markdown",
   "id": "a18494dd",
   "metadata": {},
   "source": [
    "## API stands for Application Programming Interface\n",
    "     It is a software algorithm that can be accessed and or executed. It is a software interface that allows two applications to interact with each other without any user intervention."
   ]
  },
  {
   "cell_type": "code",
   "execution_count": 1,
   "id": "81a59249",
   "metadata": {},
   "outputs": [],
   "source": [
    "import requests"
   ]
  },
  {
   "cell_type": "code",
   "execution_count": 4,
   "id": "623e407a",
   "metadata": {},
   "outputs": [],
   "source": [
    "# Getting requet API\n",
    "res = requests.get('http://api.open-notify.org/astros.json')"
   ]
  },
  {
   "cell_type": "code",
   "execution_count": 5,
   "id": "f23112ec",
   "metadata": {},
   "outputs": [
    {
     "name": "stdout",
     "output_type": "stream",
     "text": [
      "200\n"
     ]
    }
   ],
   "source": [
    "# Code response\n",
    "\n",
    "print(res.status_code)"
   ]
  },
  {
   "cell_type": "code",
   "execution_count": 25,
   "id": "8e722b36",
   "metadata": {},
   "outputs": [
    {
     "data": {
      "text/plain": [
       "{'people': [{'craft': 'Tiangong', 'name': 'Cai Xuzhe'},\n",
       "  {'craft': 'Tiangong', 'name': 'Chen Dong'},\n",
       "  {'craft': 'Tiangong', 'name': 'Liu Yang'},\n",
       "  {'craft': 'ISS', 'name': 'Sergey Prokopyev'},\n",
       "  {'craft': 'ISS', 'name': 'Dmitry Petelin'},\n",
       "  {'craft': 'ISS', 'name': 'Frank Rubio'},\n",
       "  {'craft': 'ISS', 'name': 'Nicole Mann'},\n",
       "  {'craft': 'ISS', 'name': 'Josh Cassada'},\n",
       "  {'craft': 'ISS', 'name': 'Koichi Wakata'},\n",
       "  {'craft': 'ISS', 'name': 'Anna Kikina'},\n",
       "  {'craft': 'Shenzhou 15', 'name': 'Fei Junlong'},\n",
       "  {'craft': 'Shenzhou 15', 'name': 'Deng Qingming'},\n",
       "  {'craft': 'Shenzhou 15', 'name': 'Zhang Lu'}],\n",
       " 'number': 13,\n",
       " 'message': 'success'}"
      ]
     },
     "execution_count": 25,
     "metadata": {},
     "output_type": "execute_result"
    }
   ],
   "source": [
    "# Extracting data from the this API using json\n",
    "\n",
    "json_response = res.json()\n",
    "json_response"
   ]
  },
  {
   "cell_type": "code",
   "execution_count": 26,
   "id": "ede2f566",
   "metadata": {},
   "outputs": [
    {
     "data": {
      "text/html": [
       "<div>\n",
       "<style scoped>\n",
       "    .dataframe tbody tr th:only-of-type {\n",
       "        vertical-align: middle;\n",
       "    }\n",
       "\n",
       "    .dataframe tbody tr th {\n",
       "        vertical-align: top;\n",
       "    }\n",
       "\n",
       "    .dataframe thead th {\n",
       "        text-align: right;\n",
       "    }\n",
       "</style>\n",
       "<table border=\"1\" class=\"dataframe\">\n",
       "  <thead>\n",
       "    <tr style=\"text-align: right;\">\n",
       "      <th></th>\n",
       "      <th>craft</th>\n",
       "      <th>name</th>\n",
       "    </tr>\n",
       "  </thead>\n",
       "  <tbody>\n",
       "    <tr>\n",
       "      <th>0</th>\n",
       "      <td>Tiangong</td>\n",
       "      <td>Cai Xuzhe</td>\n",
       "    </tr>\n",
       "    <tr>\n",
       "      <th>1</th>\n",
       "      <td>Tiangong</td>\n",
       "      <td>Chen Dong</td>\n",
       "    </tr>\n",
       "    <tr>\n",
       "      <th>2</th>\n",
       "      <td>Tiangong</td>\n",
       "      <td>Liu Yang</td>\n",
       "    </tr>\n",
       "    <tr>\n",
       "      <th>3</th>\n",
       "      <td>ISS</td>\n",
       "      <td>Sergey Prokopyev</td>\n",
       "    </tr>\n",
       "    <tr>\n",
       "      <th>4</th>\n",
       "      <td>ISS</td>\n",
       "      <td>Dmitry Petelin</td>\n",
       "    </tr>\n",
       "    <tr>\n",
       "      <th>5</th>\n",
       "      <td>ISS</td>\n",
       "      <td>Frank Rubio</td>\n",
       "    </tr>\n",
       "    <tr>\n",
       "      <th>6</th>\n",
       "      <td>ISS</td>\n",
       "      <td>Nicole Mann</td>\n",
       "    </tr>\n",
       "    <tr>\n",
       "      <th>7</th>\n",
       "      <td>ISS</td>\n",
       "      <td>Josh Cassada</td>\n",
       "    </tr>\n",
       "    <tr>\n",
       "      <th>8</th>\n",
       "      <td>ISS</td>\n",
       "      <td>Koichi Wakata</td>\n",
       "    </tr>\n",
       "    <tr>\n",
       "      <th>9</th>\n",
       "      <td>ISS</td>\n",
       "      <td>Anna Kikina</td>\n",
       "    </tr>\n",
       "    <tr>\n",
       "      <th>10</th>\n",
       "      <td>Shenzhou 15</td>\n",
       "      <td>Fei Junlong</td>\n",
       "    </tr>\n",
       "    <tr>\n",
       "      <th>11</th>\n",
       "      <td>Shenzhou 15</td>\n",
       "      <td>Deng Qingming</td>\n",
       "    </tr>\n",
       "    <tr>\n",
       "      <th>12</th>\n",
       "      <td>Shenzhou 15</td>\n",
       "      <td>Zhang Lu</td>\n",
       "    </tr>\n",
       "  </tbody>\n",
       "</table>\n",
       "</div>"
      ],
      "text/plain": [
       "          craft              name\n",
       "0      Tiangong         Cai Xuzhe\n",
       "1      Tiangong         Chen Dong\n",
       "2      Tiangong          Liu Yang\n",
       "3           ISS  Sergey Prokopyev\n",
       "4           ISS    Dmitry Petelin\n",
       "5           ISS       Frank Rubio\n",
       "6           ISS       Nicole Mann\n",
       "7           ISS      Josh Cassada\n",
       "8           ISS     Koichi Wakata\n",
       "9           ISS       Anna Kikina\n",
       "10  Shenzhou 15       Fei Junlong\n",
       "11  Shenzhou 15     Deng Qingming\n",
       "12  Shenzhou 15          Zhang Lu"
      ]
     },
     "execution_count": 26,
     "metadata": {},
     "output_type": "execute_result"
    }
   ],
   "source": [
    "# Creating a dataframe from the json data\n",
    "\n",
    "import pandas as pd\n",
    "from pandas import json_normalize\n",
    "\n",
    "json_df = json_normalize(json_response['people'])\n",
    "json_df\n"
   ]
  },
  {
   "cell_type": "code",
   "execution_count": null,
   "id": "069eb25d",
   "metadata": {},
   "outputs": [],
   "source": []
  }
 ],
 "metadata": {
  "kernelspec": {
   "display_name": "Python 3 (ipykernel)",
   "language": "python",
   "name": "python3"
  },
  "language_info": {
   "codemirror_mode": {
    "name": "ipython",
    "version": 3
   },
   "file_extension": ".py",
   "mimetype": "text/x-python",
   "name": "python",
   "nbconvert_exporter": "python",
   "pygments_lexer": "ipython3",
   "version": "3.9.13"
  }
 },
 "nbformat": 4,
 "nbformat_minor": 5
}

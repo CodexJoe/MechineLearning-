{
 "cells": [
  {
   "cell_type": "markdown",
   "metadata": {
    "colab_type": "text",
    "id": "jfuhnGBqp7M-"
   },
   "source": [
    "# Bank Customer Artificial Neural Network"
   ]
  },
  {
   "cell_type": "markdown",
   "metadata": {
    "colab_type": "text",
    "id": "xttx-Minp7NC"
   },
   "source": [
    "This is an artificial neural network that uses Python to predict whether a customer will leave a bank based on multiple independent variables (some of which are credit score, age and gender). The neural network is trained on a set of data and is applied to other data to test its accuracy."
   ]
  },
  {
   "cell_type": "markdown",
   "metadata": {
    "colab_type": "text",
    "id": "iZF5LxeAp7NG"
   },
   "source": [
    "##### Importing the libraries\n"
   ]
  },
  {
   "cell_type": "code",
   "execution_count": 24,
   "metadata": {
    "colab": {},
    "colab_type": "code",
    "executionInfo": {
     "elapsed": 821,
     "status": "ok",
     "timestamp": 1595673281907,
     "user": {
      "displayName": "Narimane GASSA",
      "photoUrl": "",
      "userId": "05982712181181285061"
     },
     "user_tz": -60
    },
    "id": "xuH1PqvIp7NI"
   },
   "outputs": [],
   "source": [
    "import numpy as np\n",
    "import matplotlib.pyplot as plt\n",
    "import pandas as pd"
   ]
  },
  {
   "cell_type": "markdown",
   "metadata": {
    "colab_type": "text",
    "id": "YjgzfURTp7Nj"
   },
   "source": [
    "##### Importing the dataset"
   ]
  },
  {
   "cell_type": "code",
   "execution_count": 25,
   "metadata": {
    "colab": {
     "base_uri": "https://localhost:8080/",
     "height": 1000
    },
    "colab_type": "code",
    "executionInfo": {
     "elapsed": 1031,
     "status": "ok",
     "timestamp": 1595673282175,
     "user": {
      "displayName": "Narimane GASSA",
      "photoUrl": "",
      "userId": "05982712181181285061"
     },
     "user_tz": -60
    },
    "id": "oy4LMPKxp7Nk",
    "outputId": "c622ff6f-84e0-4127-c0cb-7783fef1b565"
   },
   "outputs": [
    {
     "data": {
      "text/html": [
       "<div>\n",
       "<style scoped>\n",
       "    .dataframe tbody tr th:only-of-type {\n",
       "        vertical-align: middle;\n",
       "    }\n",
       "\n",
       "    .dataframe tbody tr th {\n",
       "        vertical-align: top;\n",
       "    }\n",
       "\n",
       "    .dataframe thead th {\n",
       "        text-align: right;\n",
       "    }\n",
       "</style>\n",
       "<table border=\"1\" class=\"dataframe\">\n",
       "  <thead>\n",
       "    <tr style=\"text-align: right;\">\n",
       "      <th></th>\n",
       "      <th>RowNumber</th>\n",
       "      <th>CustomerId</th>\n",
       "      <th>Surname</th>\n",
       "      <th>CreditScore</th>\n",
       "      <th>Geography</th>\n",
       "      <th>Gender</th>\n",
       "      <th>Age</th>\n",
       "      <th>Tenure</th>\n",
       "      <th>Balance</th>\n",
       "      <th>NumOfProducts</th>\n",
       "      <th>HasCrCard</th>\n",
       "      <th>IsActiveMember</th>\n",
       "      <th>EstimatedSalary</th>\n",
       "      <th>Exited</th>\n",
       "    </tr>\n",
       "  </thead>\n",
       "  <tbody>\n",
       "    <tr>\n",
       "      <th>0</th>\n",
       "      <td>1</td>\n",
       "      <td>15634602</td>\n",
       "      <td>Hargrave</td>\n",
       "      <td>619</td>\n",
       "      <td>France</td>\n",
       "      <td>Female</td>\n",
       "      <td>42</td>\n",
       "      <td>2</td>\n",
       "      <td>0.00</td>\n",
       "      <td>1</td>\n",
       "      <td>1</td>\n",
       "      <td>1</td>\n",
       "      <td>101348.88</td>\n",
       "      <td>1</td>\n",
       "    </tr>\n",
       "    <tr>\n",
       "      <th>1</th>\n",
       "      <td>2</td>\n",
       "      <td>15647311</td>\n",
       "      <td>Hill</td>\n",
       "      <td>608</td>\n",
       "      <td>Spain</td>\n",
       "      <td>Female</td>\n",
       "      <td>41</td>\n",
       "      <td>1</td>\n",
       "      <td>83807.86</td>\n",
       "      <td>1</td>\n",
       "      <td>0</td>\n",
       "      <td>1</td>\n",
       "      <td>112542.58</td>\n",
       "      <td>0</td>\n",
       "    </tr>\n",
       "    <tr>\n",
       "      <th>2</th>\n",
       "      <td>3</td>\n",
       "      <td>15619304</td>\n",
       "      <td>Onio</td>\n",
       "      <td>502</td>\n",
       "      <td>France</td>\n",
       "      <td>Female</td>\n",
       "      <td>42</td>\n",
       "      <td>8</td>\n",
       "      <td>159660.80</td>\n",
       "      <td>3</td>\n",
       "      <td>1</td>\n",
       "      <td>0</td>\n",
       "      <td>113931.57</td>\n",
       "      <td>1</td>\n",
       "    </tr>\n",
       "    <tr>\n",
       "      <th>3</th>\n",
       "      <td>4</td>\n",
       "      <td>15701354</td>\n",
       "      <td>Boni</td>\n",
       "      <td>699</td>\n",
       "      <td>France</td>\n",
       "      <td>Female</td>\n",
       "      <td>39</td>\n",
       "      <td>1</td>\n",
       "      <td>0.00</td>\n",
       "      <td>2</td>\n",
       "      <td>0</td>\n",
       "      <td>0</td>\n",
       "      <td>93826.63</td>\n",
       "      <td>0</td>\n",
       "    </tr>\n",
       "    <tr>\n",
       "      <th>4</th>\n",
       "      <td>5</td>\n",
       "      <td>15737888</td>\n",
       "      <td>Mitchell</td>\n",
       "      <td>850</td>\n",
       "      <td>Spain</td>\n",
       "      <td>Female</td>\n",
       "      <td>43</td>\n",
       "      <td>2</td>\n",
       "      <td>125510.82</td>\n",
       "      <td>1</td>\n",
       "      <td>1</td>\n",
       "      <td>1</td>\n",
       "      <td>79084.10</td>\n",
       "      <td>0</td>\n",
       "    </tr>\n",
       "    <tr>\n",
       "      <th>...</th>\n",
       "      <td>...</td>\n",
       "      <td>...</td>\n",
       "      <td>...</td>\n",
       "      <td>...</td>\n",
       "      <td>...</td>\n",
       "      <td>...</td>\n",
       "      <td>...</td>\n",
       "      <td>...</td>\n",
       "      <td>...</td>\n",
       "      <td>...</td>\n",
       "      <td>...</td>\n",
       "      <td>...</td>\n",
       "      <td>...</td>\n",
       "      <td>...</td>\n",
       "    </tr>\n",
       "    <tr>\n",
       "      <th>9995</th>\n",
       "      <td>9996</td>\n",
       "      <td>15606229</td>\n",
       "      <td>Obijiaku</td>\n",
       "      <td>771</td>\n",
       "      <td>France</td>\n",
       "      <td>Male</td>\n",
       "      <td>39</td>\n",
       "      <td>5</td>\n",
       "      <td>0.00</td>\n",
       "      <td>2</td>\n",
       "      <td>1</td>\n",
       "      <td>0</td>\n",
       "      <td>96270.64</td>\n",
       "      <td>0</td>\n",
       "    </tr>\n",
       "    <tr>\n",
       "      <th>9996</th>\n",
       "      <td>9997</td>\n",
       "      <td>15569892</td>\n",
       "      <td>Johnstone</td>\n",
       "      <td>516</td>\n",
       "      <td>France</td>\n",
       "      <td>Male</td>\n",
       "      <td>35</td>\n",
       "      <td>10</td>\n",
       "      <td>57369.61</td>\n",
       "      <td>1</td>\n",
       "      <td>1</td>\n",
       "      <td>1</td>\n",
       "      <td>101699.77</td>\n",
       "      <td>0</td>\n",
       "    </tr>\n",
       "    <tr>\n",
       "      <th>9997</th>\n",
       "      <td>9998</td>\n",
       "      <td>15584532</td>\n",
       "      <td>Liu</td>\n",
       "      <td>709</td>\n",
       "      <td>France</td>\n",
       "      <td>Female</td>\n",
       "      <td>36</td>\n",
       "      <td>7</td>\n",
       "      <td>0.00</td>\n",
       "      <td>1</td>\n",
       "      <td>0</td>\n",
       "      <td>1</td>\n",
       "      <td>42085.58</td>\n",
       "      <td>1</td>\n",
       "    </tr>\n",
       "    <tr>\n",
       "      <th>9998</th>\n",
       "      <td>9999</td>\n",
       "      <td>15682355</td>\n",
       "      <td>Sabbatini</td>\n",
       "      <td>772</td>\n",
       "      <td>Germany</td>\n",
       "      <td>Male</td>\n",
       "      <td>42</td>\n",
       "      <td>3</td>\n",
       "      <td>75075.31</td>\n",
       "      <td>2</td>\n",
       "      <td>1</td>\n",
       "      <td>0</td>\n",
       "      <td>92888.52</td>\n",
       "      <td>1</td>\n",
       "    </tr>\n",
       "    <tr>\n",
       "      <th>9999</th>\n",
       "      <td>10000</td>\n",
       "      <td>15628319</td>\n",
       "      <td>Walker</td>\n",
       "      <td>792</td>\n",
       "      <td>France</td>\n",
       "      <td>Female</td>\n",
       "      <td>28</td>\n",
       "      <td>4</td>\n",
       "      <td>130142.79</td>\n",
       "      <td>1</td>\n",
       "      <td>1</td>\n",
       "      <td>0</td>\n",
       "      <td>38190.78</td>\n",
       "      <td>0</td>\n",
       "    </tr>\n",
       "  </tbody>\n",
       "</table>\n",
       "<p>10000 rows × 14 columns</p>\n",
       "</div>"
      ],
      "text/plain": [
       "      RowNumber  CustomerId    Surname  CreditScore Geography  Gender  Age  \\\n",
       "0             1    15634602   Hargrave          619    France  Female   42   \n",
       "1             2    15647311       Hill          608     Spain  Female   41   \n",
       "2             3    15619304       Onio          502    France  Female   42   \n",
       "3             4    15701354       Boni          699    France  Female   39   \n",
       "4             5    15737888   Mitchell          850     Spain  Female   43   \n",
       "...         ...         ...        ...          ...       ...     ...  ...   \n",
       "9995       9996    15606229   Obijiaku          771    France    Male   39   \n",
       "9996       9997    15569892  Johnstone          516    France    Male   35   \n",
       "9997       9998    15584532        Liu          709    France  Female   36   \n",
       "9998       9999    15682355  Sabbatini          772   Germany    Male   42   \n",
       "9999      10000    15628319     Walker          792    France  Female   28   \n",
       "\n",
       "      Tenure    Balance  NumOfProducts  HasCrCard  IsActiveMember  \\\n",
       "0          2       0.00              1          1               1   \n",
       "1          1   83807.86              1          0               1   \n",
       "2          8  159660.80              3          1               0   \n",
       "3          1       0.00              2          0               0   \n",
       "4          2  125510.82              1          1               1   \n",
       "...      ...        ...            ...        ...             ...   \n",
       "9995       5       0.00              2          1               0   \n",
       "9996      10   57369.61              1          1               1   \n",
       "9997       7       0.00              1          0               1   \n",
       "9998       3   75075.31              2          1               0   \n",
       "9999       4  130142.79              1          1               0   \n",
       "\n",
       "      EstimatedSalary  Exited  \n",
       "0           101348.88       1  \n",
       "1           112542.58       0  \n",
       "2           113931.57       1  \n",
       "3            93826.63       0  \n",
       "4            79084.10       0  \n",
       "...               ...     ...  \n",
       "9995         96270.64       0  \n",
       "9996        101699.77       0  \n",
       "9997         42085.58       1  \n",
       "9998         92888.52       1  \n",
       "9999         38190.78       0  \n",
       "\n",
       "[10000 rows x 14 columns]"
      ]
     },
     "execution_count": 25,
     "metadata": {},
     "output_type": "execute_result"
    }
   ],
   "source": [
    "dataset = pd.read_csv('Churn_Modelling.csv')\n",
    "dataset\n"
   ]
  },
  {
   "cell_type": "code",
   "execution_count": 61,
   "metadata": {
    "colab": {},
    "colab_type": "code",
    "executionInfo": {
     "elapsed": 1029,
     "status": "ok",
     "timestamp": 1595673282176,
     "user": {
      "displayName": "Narimane GASSA",
      "photoUrl": "",
      "userId": "05982712181181285061"
     },
     "user_tz": -60
    },
    "id": "Y4an0ABqp7Nw"
   },
   "outputs": [
    {
     "data": {
      "text/plain": [
       "array([[619, 'France', 'Female', ..., 1, 1, 101348.88],\n",
       "       [608, 'Spain', 'Female', ..., 0, 1, 112542.58],\n",
       "       [502, 'France', 'Female', ..., 1, 0, 113931.57],\n",
       "       ...,\n",
       "       [709, 'France', 'Female', ..., 0, 1, 42085.58],\n",
       "       [772, 'Germany', 'Male', ..., 1, 0, 92888.52],\n",
       "       [792, 'France', 'Female', ..., 1, 0, 38190.78]], dtype=object)"
      ]
     },
     "execution_count": 61,
     "metadata": {},
     "output_type": "execute_result"
    }
   ],
   "source": [
    "X = dataset.iloc[:, 3:13].values\n",
    "y = dataset.iloc[:, 13].values\n",
    "\n",
    "X"
   ]
  },
  {
   "cell_type": "markdown",
   "metadata": {
    "colab_type": "text",
    "id": "ZsDjsexNp7N7"
   },
   "source": [
    "### Part 1 - Data Preprocessing"
   ]
  },
  {
   "cell_type": "markdown",
   "metadata": {
    "colab_type": "text",
    "id": "fILprGAJp7N_"
   },
   "source": [
    "##### Encoding categorical data"
   ]
  },
  {
   "cell_type": "code",
   "execution_count": 64,
   "metadata": {
    "colab": {
     "base_uri": "https://localhost:8080/",
     "height": 108
    },
    "colab_type": "code",
    "executionInfo": {
     "elapsed": 1763,
     "status": "ok",
     "timestamp": 1595673282913,
     "user": {
      "displayName": "Narimane GASSA",
      "photoUrl": "",
      "userId": "05982712181181285061"
     },
     "user_tz": -60
    },
    "id": "vGMQK12vp7OB",
    "outputId": "795a3b0b-0be5-4b53-a510-197653b65e3e"
   },
   "outputs": [
    {
     "data": {
      "text/plain": [
       "array([[619, 0, 0, ..., 1, 1, 101348.88],\n",
       "       [608, 2, 0, ..., 0, 1, 112542.58],\n",
       "       [502, 0, 0, ..., 1, 0, 113931.57],\n",
       "       ...,\n",
       "       [709, 0, 0, ..., 0, 1, 42085.58],\n",
       "       [772, 1, 1, ..., 1, 0, 92888.52],\n",
       "       [792, 0, 0, ..., 1, 0, 38190.78]], dtype=object)"
      ]
     },
     "execution_count": 64,
     "metadata": {},
     "output_type": "execute_result"
    }
   ],
   "source": [
    "pd.set_option('display.max_columns', 26)\n",
    "pd.set_option('display.max_rows', 26)\n",
    "from sklearn.preprocessing import LabelEncoder, OneHotEncoder\n",
    "from sklearn.compose import ColumnTransformer\n",
    "import warnings\n",
    "warnings.filterwarnings('ignore')\n",
    "\n",
    "labelencoder_X_1 = LabelEncoder()\n",
    "X[:, 1] = labelencoder_X_1.fit_transform(X[:, 1])\n",
    "\n",
    "\n",
    "labelencoder_X_2 = LabelEncoder()\n",
    "X[:, 2] = labelencoder_X_2.fit_transform(X[:, 2])\n",
    "\n",
    "transformer = ColumnTransformer([\n",
    "        (\"OneHot\",        # Just a name\n",
    "         OneHotEncoder(), # The transformer class\n",
    "         [1]              # The column(s) to be applied on.\n",
    "         )\n",
    "    ],\n",
    "    remainder='passthrough' # donot apply anything to the remaining columns\n",
    ")\n",
    "\n",
    "# X = transformer.fit_transform(X.tolist()) # transform takes only a list\n",
    "# # X = X[:, 1:]\n",
    "\n",
    "X"
   ]
  },
  {
   "cell_type": "markdown",
   "metadata": {
    "colab_type": "text",
    "id": "bzZ3eGmtp7OL"
   },
   "source": [
    "###### Splitting the dataset into the Training set and Test set"
   ]
  },
  {
   "cell_type": "code",
   "execution_count": 47,
   "metadata": {
    "colab": {},
    "colab_type": "code",
    "executionInfo": {
     "elapsed": 1761,
     "status": "ok",
     "timestamp": 1595673282914,
     "user": {
      "displayName": "Narimane GASSA",
      "photoUrl": "",
      "userId": "05982712181181285061"
     },
     "user_tz": -60
    },
    "id": "lqa4J9Pxp7ON"
   },
   "outputs": [],
   "source": [
    "from sklearn.model_selection import train_test_split\n",
    "X_train, X_test, y_train, y_test = train_test_split(X, y, test_size = 0.2)"
   ]
  },
  {
   "cell_type": "markdown",
   "metadata": {
    "colab_type": "text",
    "id": "V_qZCsYyp7OW"
   },
   "source": [
    "###### Feature Scaling"
   ]
  },
  {
   "cell_type": "code",
   "execution_count": 48,
   "metadata": {
    "colab": {
     "base_uri": "https://localhost:8080/",
     "height": 72
    },
    "colab_type": "code",
    "executionInfo": {
     "elapsed": 1759,
     "status": "ok",
     "timestamp": 1595673282915,
     "user": {
      "displayName": "Narimane GASSA",
      "photoUrl": "",
      "userId": "05982712181181285061"
     },
     "user_tz": -60
    },
    "id": "_ZSXxzV-p7OX",
    "outputId": "6b75bdb4-e34f-4a10-d27e-f4ba633c8148"
   },
   "outputs": [],
   "source": [
    "from sklearn.preprocessing import StandardScaler\n",
    "sc = StandardScaler()\n",
    "X_train = sc.fit_transform(X_train) # Scaling separately\n",
    "X_test = sc.transform(X_test)\n",
    "#print(X_test.shape)\n",
    "#print(X_train.shape)\n"
   ]
  },
  {
   "cell_type": "markdown",
   "metadata": {
    "colab_type": "text",
    "id": "3uKW6DvUp7Og"
   },
   "source": [
    "### Part 2 - Make the ANN - Method 1\n",
    "\n"
   ]
  },
  {
   "cell_type": "markdown",
   "metadata": {
    "colab_type": "text",
    "id": "liusNpjIp7Oh"
   },
   "source": [
    "###### Importing the Keras libraries and packages"
   ]
  },
  {
   "cell_type": "code",
   "execution_count": 49,
   "metadata": {
    "colab": {
     "base_uri": "https://localhost:8080/",
     "height": 35
    },
    "colab_type": "code",
    "executionInfo": {
     "elapsed": 3166,
     "status": "ok",
     "timestamp": 1595673284324,
     "user": {
      "displayName": "Narimane GASSA",
      "photoUrl": "",
      "userId": "05982712181181285061"
     },
     "user_tz": -60
    },
    "id": "-tG1xjMQp7Oj",
    "outputId": "f9feb0ca-5441-47a3-d5d6-db3bd3100f59"
   },
   "outputs": [],
   "source": [
    "import keras\n",
    "from keras.models import Sequential\n",
    "from keras.layers import Dense\n",
    "from keras.layers import Dropout"
   ]
  },
  {
   "cell_type": "markdown",
   "metadata": {
    "colab_type": "text",
    "id": "czYTXxKCp7Or"
   },
   "source": [
    "##### Building ANN model"
   ]
  },
  {
   "cell_type": "code",
   "execution_count": 65,
   "metadata": {
    "colab": {
     "base_uri": "https://localhost:8080/",
     "height": 88
    },
    "colab_type": "code",
    "executionInfo": {
     "elapsed": 3549,
     "status": "ok",
     "timestamp": 1595673284716,
     "user": {
      "displayName": "Narimane GASSA",
      "photoUrl": "",
      "userId": "05982712181181285061"
     },
     "user_tz": -60
    },
    "id": "a4cnXlaTp7Ot",
    "outputId": "fd5f8bdc-5643-4742-c9d4-7a6f3666942f"
   },
   "outputs": [],
   "source": [
    "\n",
    "# Initialising the ANN\n",
    "\n",
    "\n",
    "classifier = Sequential()\n",
    "\n",
    "# Adding the input layer and the first hidden layer (with dropout)\n",
    "classifier.add(Dense(units = 6, kernel_initializer = 'uniform', activation = 'relu', input_dim = 10)) # 6 nodes in hidden layer, initialize weights uniformly, use rectifier funtion for hidden layer, except 11 input nodes\n",
    "classifier.add(Dropout(0.1)) # Disable 10% of the neurons on each iteration\n",
    "\n",
    "# Adding the second hidden layer (with dropout)\n",
    "classifier.add(Dense(units = 6, kernel_initializer = 'uniform', activation = 'relu')) # input_dim already specified in previous hidden layer, kernel initialzation is for the weight\n",
    "classifier.add(Dropout(0.1))\n",
    "\n",
    "# Adding the output layer\n",
    "classifier.add(Dense(units = 1, kernel_initializer = 'uniform', activation = 'sigmoid')) # only 1 node in output layer, use sigmoid function for probability\n",
    "\n"
   ]
  },
  {
   "cell_type": "markdown",
   "metadata": {
    "colab_type": "text",
    "id": "xbLy-Vlep7O1"
   },
   "source": [
    "###### Training ANN model"
   ]
  },
  {
   "cell_type": "code",
   "execution_count": 66,
   "metadata": {
    "colab": {
     "base_uri": "https://localhost:8080/",
     "height": 1000
    },
    "colab_type": "code",
    "executionInfo": {
     "elapsed": 32874,
     "status": "ok",
     "timestamp": 1595673314053,
     "user": {
      "displayName": "Narimane GASSA",
      "photoUrl": "",
      "userId": "05982712181181285061"
     },
     "user_tz": -60
    },
    "id": "R4KQ3GL2p7O2",
    "outputId": "71dad725-3cfe-42d1-c28f-03119c5e0443"
   },
   "outputs": [
    {
     "name": "stdout",
     "output_type": "stream",
     "text": [
      "Epoch 1/30\n",
      "800/800 [==============================] - 2s 1ms/step - loss: 0.4874 - accuracy: 0.7969\n",
      "Epoch 2/30\n",
      "800/800 [==============================] - 1s 1ms/step - loss: 0.4352 - accuracy: 0.7975\n",
      "Epoch 3/30\n",
      "800/800 [==============================] - 1s 1ms/step - loss: 0.4324 - accuracy: 0.7975\n",
      "Epoch 4/30\n",
      "800/800 [==============================] - 1s 1ms/step - loss: 0.4285 - accuracy: 0.7975\n",
      "Epoch 5/30\n",
      "800/800 [==============================] - 1s 1ms/step - loss: 0.4288 - accuracy: 0.8180\n",
      "Epoch 6/30\n",
      "800/800 [==============================] - 1s 1ms/step - loss: 0.4274 - accuracy: 0.8257\n",
      "Epoch 7/30\n",
      "800/800 [==============================] - 1s 1ms/step - loss: 0.4267 - accuracy: 0.8288\n",
      "Epoch 8/30\n",
      "800/800 [==============================] - 1s 1ms/step - loss: 0.4219 - accuracy: 0.8291\n",
      "Epoch 9/30\n",
      "800/800 [==============================] - 1s 1ms/step - loss: 0.4250 - accuracy: 0.8307\n",
      "Epoch 10/30\n",
      "800/800 [==============================] - 1s 1ms/step - loss: 0.4248 - accuracy: 0.8296\n",
      "Epoch 11/30\n",
      "800/800 [==============================] - 1s 1ms/step - loss: 0.4260 - accuracy: 0.8328\n",
      "Epoch 12/30\n",
      "800/800 [==============================] - 1s 1ms/step - loss: 0.4237 - accuracy: 0.8321\n",
      "Epoch 13/30\n",
      "800/800 [==============================] - 1s 1ms/step - loss: 0.4265 - accuracy: 0.8300\n",
      "Epoch 14/30\n",
      "800/800 [==============================] - 1s 1ms/step - loss: 0.4258 - accuracy: 0.8309\n",
      "Epoch 15/30\n",
      "800/800 [==============================] - 1s 1ms/step - loss: 0.4227 - accuracy: 0.8306\n",
      "Epoch 16/30\n",
      "800/800 [==============================] - 1s 1ms/step - loss: 0.4287 - accuracy: 0.8306\n",
      "Epoch 17/30\n",
      "800/800 [==============================] - 1s 1ms/step - loss: 0.4231 - accuracy: 0.8321\n",
      "Epoch 18/30\n",
      "800/800 [==============================] - 1s 1ms/step - loss: 0.4254 - accuracy: 0.8320\n",
      "Epoch 19/30\n",
      "800/800 [==============================] - 1s 2ms/step - loss: 0.4267 - accuracy: 0.8299\n",
      "Epoch 20/30\n",
      "800/800 [==============================] - 1s 1ms/step - loss: 0.4258 - accuracy: 0.8310\n",
      "Epoch 21/30\n",
      "800/800 [==============================] - 1s 2ms/step - loss: 0.4211 - accuracy: 0.8316\n",
      "Epoch 22/30\n",
      "800/800 [==============================] - 1s 1ms/step - loss: 0.4265 - accuracy: 0.8326\n",
      "Epoch 23/30\n",
      "800/800 [==============================] - 1s 1ms/step - loss: 0.4269 - accuracy: 0.8335\n",
      "Epoch 24/30\n",
      "800/800 [==============================] - 1s 1ms/step - loss: 0.4236 - accuracy: 0.8309\n",
      "Epoch 25/30\n",
      "800/800 [==============================] - 1s 1ms/step - loss: 0.4229 - accuracy: 0.8329\n",
      "Epoch 26/30\n",
      "800/800 [==============================] - 1s 1ms/step - loss: 0.4225 - accuracy: 0.8331\n",
      "Epoch 27/30\n",
      "800/800 [==============================] - 1s 2ms/step - loss: 0.4280 - accuracy: 0.8315\n",
      "Epoch 28/30\n",
      "800/800 [==============================] - 1s 1ms/step - loss: 0.4236 - accuracy: 0.8315\n",
      "Epoch 29/30\n",
      "800/800 [==============================] - 1s 2ms/step - loss: 0.4251 - accuracy: 0.8339\n",
      "Epoch 30/30\n",
      "800/800 [==============================] - 1s 1ms/step - loss: 0.4221 - accuracy: 0.8329\n"
     ]
    }
   ],
   "source": [
    "# Compiling the ANN - apply stochastic gradient descent\n",
    "classifier.compile(optimizer = 'adam', loss = 'binary_crossentropy', metrics = ['accuracy']) # loss defined this way since output is binary, only 1 output node\n",
    "\n",
    "# Fitting the ANN to the Training set\n",
    "history=classifier.fit(X_train, y_train, batch_size = 10, epochs = 30)  #epochs = 10"
   ]
  },
  {
   "cell_type": "code",
   "execution_count": 67,
   "metadata": {
    "colab": {
     "base_uri": "https://localhost:8080/",
     "height": 272
    },
    "colab_type": "code",
    "executionInfo": {
     "elapsed": 987,
     "status": "ok",
     "timestamp": 1595673325579,
     "user": {
      "displayName": "Narimane GASSA",
      "photoUrl": "",
      "userId": "05982712181181285061"
     },
     "user_tz": -60
    },
    "id": "XtipmCCRp7O_",
    "outputId": "13784fc2-7f96-4482-da7d-bbb459ad4e6a"
   },
   "outputs": [
    {
     "data": {
      "image/png": "[encoded data removed]",
      "text/plain": [
       "<Figure size 648x252 with 2 Axes>"
      ]
     },
     "metadata": {},
     "output_type": "display_data"
    }
   ],
   "source": [
    "fig_w, fig_h = (4.5, 3.5)\n",
    "plt.rcParams.update({'figure.figsize': (fig_w, fig_h)})\n",
    "fig, axs = plt.subplots(1, 2, figsize=(2*fig_w,fig_h))\n",
    "\n",
    "plt.sca(axs[0])\n",
    "plt.plot(history.history['accuracy'])\n",
    "\n",
    "plt.ylabel('Accuracy')\n",
    "plt.title('Categorical Accuracy')\n",
    "\n",
    "plt.sca(axs[1])\n",
    "plt.plot(history.history['loss'])\n",
    "plt.ylabel('Loss')\n",
    "plt.title('Loss')\n",
    "\n",
    "plt.tight_layout()\n",
    "fig.text(0.5, 0.01,'Epochs', ha='center')\n",
    "plt.show()"
   ]
  },
  {
   "cell_type": "markdown",
   "metadata": {
    "colab_type": "text",
    "id": "azg3i0Plp7PK"
   },
   "source": [
    "### Part 3 - Making the predictions and evaluating the model\n"
   ]
  },
  {
   "cell_type": "code",
   "execution_count": 74,
   "metadata": {
    "colab": {
     "base_uri": "https://localhost:8080/",
     "height": 52
    },
    "colab_type": "code",
    "executionInfo": {
     "elapsed": 883,
     "status": "ok",
     "timestamp": 1595673329487,
     "user": {
      "displayName": "Narimane GASSA",
      "photoUrl": "",
      "userId": "05982712181181285061"
     },
     "user_tz": -60
    },
    "id": "PgZL-8Ltp7PM",
    "outputId": "7dfa6695-0cff-4544-dc6a-2d089cd46808"
   },
   "outputs": [
    {
     "name": "stdout",
     "output_type": "stream",
     "text": [
      "63/63 [==============================] - 0s 1ms/step\n",
      "1/1 [==============================] - 0s 26ms/step\n",
      "[[False]]\n"
     ]
    }
   ],
   "source": [
    "\n",
    "# Predicting the Test set results\n",
    "y_pred = classifier.predict(X_test)\n",
    "y_pred = (y_pred > 0.5) # Set threshold for returning true or false\n",
    "\n",
    "# EXAMPLE: Predicting a single new observation\n",
    "'''Predict if the customer with the following informations will leave the bank: \n",
    "Geography: France\n",
    "Credit Score: 600\n",
    "Gender: Male\n",
    "Age: 40 years old\n",
    "Tenure: 3 years\n",
    "Balance: $60000\n",
    "Number of Products: 2\n",
    "Does this customer have a credit card ? Yes\n",
    "Is this customer an Active Member: Yes\n",
    "Estimated Salary: $50000\n",
    "'''\n",
    "new_prediction = classifier.predict(sc.transform(np.array([[772, 2, 1, 42, 3,75075.31, 2,1,0,92888.52]]))) # Manually encode all independent variables, scale to training set\n",
    "\n",
    "new_prediction = (new_prediction > 0.5)\n",
    "\n",
    "print(new_prediction)\n",
    "\n"
   ]
  },
  {
   "cell_type": "code",
   "execution_count": 75,
   "metadata": {},
   "outputs": [
    {
     "name": "stdout",
     "output_type": "stream",
     "text": [
      "[[1550   33]\n",
      " [ 295  122]]\n"
     ]
    }
   ],
   "source": [
    "# Making the Confusion Matrix\n",
    "\n",
    "from sklearn.metrics import confusion_matrix\n",
    "cm = confusion_matrix(y_test, y_pred)\n",
    "print(cm)"
   ]
  },
  {
   "cell_type": "code",
   "execution_count": 76,
   "metadata": {
    "colab": {},
    "colab_type": "code",
    "executionInfo": {
     "elapsed": 915,
     "status": "ok",
     "timestamp": 1595673333495,
     "user": {
      "displayName": "Narimane GASSA",
      "photoUrl": "",
      "userId": "05982712181181285061"
     },
     "user_tz": -60
    },
    "id": "l3Zbg8Rep7PU"
   },
   "outputs": [],
   "source": [
    "import seaborn as sns"
   ]
  },
  {
   "cell_type": "code",
   "execution_count": 18,
   "metadata": {
    "colab": {},
    "colab_type": "code",
    "executionInfo": {
     "elapsed": 520,
     "status": "ok",
     "timestamp": 1595673333497,
     "user": {
      "displayName": "Narimane GASSA",
      "photoUrl": "",
      "userId": "05982712181181285061"
     },
     "user_tz": -60
    },
    "id": "eGT0sjb0p7Pd"
   },
   "outputs": [],
   "source": [
    "\n",
    "# labels=list(pd.get_dummies(dataset['Exited']).columns)"
   ]
  },
  {
   "cell_type": "code",
   "execution_count": 77,
   "metadata": {
    "colab": {
     "base_uri": "https://localhost:8080/",
     "height": 518
    },
    "colab_type": "code",
    "executionInfo": {
     "elapsed": 1280,
     "status": "ok",
     "timestamp": 1595673334744,
     "user": {
      "displayName": "Narimane GASSA",
      "photoUrl": "",
      "userId": "05982712181181285061"
     },
     "user_tz": -60
    },
    "id": "DxJD5qCyp7Pk",
    "outputId": "e57e3faa-dc66-41ef-ffae-6cdb7c9dedd3"
   },
   "outputs": [
    {
     "data": {
      "image/png": "[encoded data removed]",
      "text/plain": [
       "<Figure size 1296x576 with 2 Axes>"
      ]
     },
     "metadata": {},
     "output_type": "display_data"
    }
   ],
   "source": [
    "plt.figure(figsize=(18,8))\n",
    "sns.set(font_scale=1.4) \n",
    "sns.heatmap(cm, annot=True, annot_kws={\"size\": 16}, fmt='d',linewidths=0.5, xticklabels=labels, yticklabels=labels) \n",
    "plt.xlabel('Predicted')\n",
    "plt.ylabel('True')\n",
    "plt.show()"
   ]
  },
  {
   "cell_type": "markdown",
   "metadata": {
    "colab_type": "text",
    "id": "T3R7Zr4sp7Pp"
   },
   "source": [
    "### Part 4 - Evaluating, Improving and Tuning the ANN - Method 2"
   ]
  },
  {
   "cell_type": "code",
   "execution_count": 20,
   "metadata": {
    "colab": {
     "base_uri": "https://localhost:8080/",
     "height": 52
    },
    "colab_type": "code",
    "executionInfo": {
     "elapsed": 25873,
     "status": "ok",
     "timestamp": 1595673360030,
     "user": {
      "displayName": "Narimane GASSA",
      "photoUrl": "",
      "userId": "05982712181181285061"
     },
     "user_tz": -60
    },
    "id": "YCw4z-xvp7Pq",
    "outputId": "0c77fc21-6aa1-4122-bbfc-85fe4aa152cc"
   },
   "outputs": [
    {
     "name": "stdout",
     "output_type": "stream",
     "text": [
      "[0.82625002 0.8075     0.78125    0.85124999 0.82749999 0.76499999\n",
      " 0.8125     0.82249999 0.78874999 0.81375003]\n"
     ]
    }
   ],
   "source": [
    "\n",
    "\n",
    "# IMPORTANT NOTE: ONLY RUN THIS SECTION IF PART 2 AND 3 ARE NOT RUN\n",
    "# This is an improved way to build the ANN, but I left the first part in for referral purposes\n",
    "# Only run 'Evaluating the ANN' OR 'Tuning the ANN', not both\n",
    "# Also note that Tuning the ANN may take several hours, depending on processing power\n",
    "\n",
    "# Evaluating the ANN\n",
    "from keras.wrappers.scikit_learn import KerasClassifier\n",
    "from sklearn.model_selection import cross_val_score\n",
    "from keras.models import Sequential\n",
    "from keras.layers import Dense\n",
    "def build_classifier():\n",
    "    classifier = Sequential()\n",
    "    classifier.add(Dense(units = 6, kernel_initializer = 'uniform', activation = 'relu', input_dim = 11))\n",
    "    classifier.add(Dense(units = 6, kernel_initializer = 'uniform', activation = 'relu'))\n",
    "    classifier.add(Dense(units = 1, kernel_initializer = 'uniform', activation = 'sigmoid'))\n",
    "    classifier.compile(optimizer = 'adam', loss = 'binary_crossentropy', metrics = ['accuracy'])\n",
    "    return classifier\n",
    "classifier = KerasClassifier(build_fn = build_classifier, batch_size = 10, epochs = 3) \n",
    "accuracies = cross_val_score(estimator = classifier, X = X_train, y= y_train, cv = 10, n_jobs = -1) # input training data, n_jobs = -1 uses ALL CPUS for faster computation\n",
    "mean = accuracies.mean()\n",
    "variance = accuracies.std()\n",
    "print(accuracies)"
   ]
  },
  {
   "cell_type": "code",
   "execution_count": 21,
   "metadata": {
    "colab": {
     "base_uri": "https://localhost:8080/",
     "height": 252
    },
    "colab_type": "code",
    "executionInfo": {
     "elapsed": 25644,
     "status": "ok",
     "timestamp": 1595673360032,
     "user": {
      "displayName": "Narimane GASSA",
      "photoUrl": "",
      "userId": "05982712181181285061"
     },
     "user_tz": -60
    },
    "id": "ICuePKFdp7P3",
    "outputId": "58abd419-880f-4d6a-94d0-24174160cb3e"
   },
   "outputs": [
    {
     "data": {
      "image/png": "[encoded data removed]",
      "text/plain": [
       "<Figure size 324x252 with 1 Axes>"
      ]
     },
     "metadata": {},
     "output_type": "display_data"
    }
   ],
   "source": [
    "plt.plot(accuracies)\n",
    "plt.show()"
   ]
  },
  {
   "cell_type": "markdown",
   "metadata": {
    "colab_type": "text",
    "id": "9SgikWVqp7P8"
   },
   "source": [
    "### Improving the ANN"
   ]
  },
  {
   "cell_type": "code",
   "execution_count": 23,
   "metadata": {
    "colab": {
     "base_uri": "https://localhost:8080/",
     "height": 1000
    },
    "colab_type": "code",
    "id": "N-qmuqutp7P9",
    "outputId": "6a24f74e-b19f-4bb3-d660-765aaf16c6d1"
   },
   "outputs": [
    {
     "name": "stdout",
     "output_type": "stream",
     "text": [
      "Epoch 1/100\n",
      "288/288 [==============================] - 2s 1ms/step - loss: 0.5681 - accuracy: 0.7950\n",
      "Epoch 2/100\n",
      "288/288 [==============================] - 0s 1ms/step - loss: 0.4349 - accuracy: 0.7962\n",
      "Epoch 3/100\n",
      "288/288 [==============================] - 0s 1ms/step - loss: 0.4297 - accuracy: 0.7962\n",
      "Epoch 4/100\n",
      "288/288 [==============================] - 0s 1ms/step - loss: 0.4261 - accuracy: 0.7962\n",
      "Epoch 5/100\n",
      "288/288 [==============================] - 0s 1ms/step - loss: 0.4235 - accuracy: 0.7962\n",
      "Epoch 6/100\n",
      "288/288 [==============================] - 0s 1ms/step - loss: 0.4208 - accuracy: 0.7962\n",
      "Epoch 7/100\n",
      "288/288 [==============================] - 0s 1ms/step - loss: 0.4188 - accuracy: 0.8122\n",
      "Epoch 8/100\n",
      "288/288 [==============================] - 0s 1ms/step - loss: 0.4172 - accuracy: 0.8225\n",
      "Epoch 9/100\n",
      "288/288 [==============================] - 0s 1ms/step - loss: 0.4159 - accuracy: 0.8267\n",
      "Epoch 10/100\n",
      "288/288 [==============================] - 0s 1ms/step - loss: 0.4148 - accuracy: 0.8271\n",
      "Epoch 11/100\n",
      "288/288 [==============================] - 0s 1ms/step - loss: 0.4135 - accuracy: 0.8296\n",
      "Epoch 12/100\n",
      "288/288 [==============================] - 0s 1ms/step - loss: 0.4130 - accuracy: 0.8290\n",
      "Epoch 13/100\n",
      "288/288 [==============================] - 0s 1ms/step - loss: 0.4121 - accuracy: 0.8303\n",
      "Epoch 14/100\n",
      "288/288 [==============================] - 0s 1ms/step - loss: 0.4112 - accuracy: 0.8300\n",
      "Epoch 15/100\n",
      "288/288 [==============================] - 0s 1ms/step - loss: 0.4107 - accuracy: 0.8313\n",
      "Epoch 16/100\n",
      "288/288 [==============================] - 0s 1ms/step - loss: 0.4099 - accuracy: 0.8333\n",
      "Epoch 17/100\n",
      "288/288 [==============================] - 0s 1ms/step - loss: 0.4095 - accuracy: 0.8333\n",
      "Epoch 18/100\n",
      "288/288 [==============================] - 0s 1ms/step - loss: 0.4091 - accuracy: 0.8332\n",
      "Epoch 19/100\n",
      "288/288 [==============================] - 0s 1ms/step - loss: 0.4087 - accuracy: 0.8339\n",
      "Epoch 20/100\n",
      "288/288 [==============================] - 0s 1ms/step - loss: 0.4079 - accuracy: 0.8343\n",
      "Epoch 21/100\n",
      "288/288 [==============================] - 0s 1ms/step - loss: 0.4083 - accuracy: 0.8336\n",
      "Epoch 22/100\n",
      "288/288 [==============================] - 0s 1ms/step - loss: 0.4076 - accuracy: 0.8332\n",
      "Epoch 23/100\n",
      "288/288 [==============================] - 0s 1ms/step - loss: 0.4070 - accuracy: 0.8344\n",
      "Epoch 24/100\n",
      "288/288 [==============================] - 0s 1ms/step - loss: 0.4068 - accuracy: 0.8333\n",
      "Epoch 25/100\n",
      "288/288 [==============================] - 0s 1ms/step - loss: 0.4063 - accuracy: 0.8336\n",
      "Epoch 26/100\n",
      "288/288 [==============================] - 0s 1ms/step - loss: 0.4059 - accuracy: 0.8364\n",
      "Epoch 27/100\n",
      "288/288 [==============================] - 0s 1ms/step - loss: 0.4056 - accuracy: 0.8349\n",
      "Epoch 28/100\n",
      "288/288 [==============================] - 0s 1ms/step - loss: 0.4055 - accuracy: 0.8346\n",
      "Epoch 29/100\n",
      "288/288 [==============================] - 0s 1ms/step - loss: 0.4054 - accuracy: 0.8351\n",
      "Epoch 30/100\n",
      "288/288 [==============================] - 0s 1ms/step - loss: 0.4051 - accuracy: 0.8344\n",
      "Epoch 31/100\n",
      "288/288 [==============================] - 0s 1ms/step - loss: 0.4050 - accuracy: 0.8360\n",
      "Epoch 32/100\n",
      "288/288 [==============================] - 0s 1ms/step - loss: 0.4043 - accuracy: 0.8335\n",
      "Epoch 33/100\n",
      "288/288 [==============================] - 0s 1ms/step - loss: 0.4043 - accuracy: 0.8358\n",
      "Epoch 34/100\n",
      "288/288 [==============================] - 0s 1ms/step - loss: 0.4040 - accuracy: 0.8351\n",
      "Epoch 35/100\n",
      "288/288 [==============================] - 0s 1ms/step - loss: 0.4037 - accuracy: 0.8360\n",
      "Epoch 36/100\n",
      "288/288 [==============================] - 0s 2ms/step - loss: 0.4031 - accuracy: 0.8364\n",
      "Epoch 37/100\n",
      "288/288 [==============================] - 0s 1ms/step - loss: 0.4039 - accuracy: 0.8357\n",
      "Epoch 38/100\n",
      "288/288 [==============================] - 0s 2ms/step - loss: 0.4036 - accuracy: 0.8357\n",
      "Epoch 39/100\n",
      "288/288 [==============================] - 0s 2ms/step - loss: 0.4029 - accuracy: 0.8353\n",
      "Epoch 40/100\n",
      "288/288 [==============================] - 0s 1ms/step - loss: 0.4033 - accuracy: 0.8363\n",
      "Epoch 41/100\n",
      "288/288 [==============================] - 0s 1ms/step - loss: 0.4030 - accuracy: 0.8361\n",
      "Epoch 42/100\n",
      "288/288 [==============================] - 0s 1ms/step - loss: 0.4031 - accuracy: 0.8363\n",
      "Epoch 43/100\n",
      "288/288 [==============================] - 0s 2ms/step - loss: 0.4026 - accuracy: 0.8368\n",
      "Epoch 44/100\n",
      "288/288 [==============================] - 0s 1ms/step - loss: 0.4025 - accuracy: 0.8360\n",
      "Epoch 45/100\n",
      "288/288 [==============================] - 0s 1ms/step - loss: 0.4022 - accuracy: 0.8353\n",
      "Epoch 46/100\n",
      "288/288 [==============================] - 0s 1ms/step - loss: 0.4025 - accuracy: 0.8354\n",
      "Epoch 47/100\n",
      "288/288 [==============================] - 0s 1ms/step - loss: 0.4025 - accuracy: 0.8365\n",
      "Epoch 48/100\n",
      "288/288 [==============================] - 0s 1ms/step - loss: 0.4022 - accuracy: 0.8365\n",
      "Epoch 49/100\n",
      "288/288 [==============================] - 0s 1ms/step - loss: 0.4022 - accuracy: 0.8356\n",
      "Epoch 50/100\n",
      "288/288 [==============================] - 0s 1ms/step - loss: 0.4019 - accuracy: 0.8361\n",
      "Epoch 51/100\n",
      "288/288 [==============================] - 0s 1ms/step - loss: 0.4024 - accuracy: 0.8364\n",
      "Epoch 52/100\n",
      "288/288 [==============================] - 0s 1ms/step - loss: 0.4020 - accuracy: 0.8354\n",
      "Epoch 53/100\n",
      "288/288 [==============================] - 0s 1ms/step - loss: 0.4018 - accuracy: 0.8351\n",
      "Epoch 54/100\n",
      "288/288 [==============================] - 0s 1ms/step - loss: 0.4021 - accuracy: 0.8358\n",
      "Epoch 55/100\n",
      "288/288 [==============================] - 0s 2ms/step - loss: 0.4015 - accuracy: 0.8365\n",
      "Epoch 56/100\n",
      "288/288 [==============================] - 0s 1ms/step - loss: 0.4017 - accuracy: 0.8363\n",
      "Epoch 57/100\n",
      "288/288 [==============================] - 0s 1ms/step - loss: 0.4017 - accuracy: 0.8367\n",
      "Epoch 58/100\n",
      "288/288 [==============================] - 0s 1ms/step - loss: 0.4015 - accuracy: 0.8354\n",
      "Epoch 59/100\n",
      "288/288 [==============================] - 0s 1ms/step - loss: 0.4015 - accuracy: 0.8369\n",
      "Epoch 60/100\n",
      "288/288 [==============================] - 0s 1ms/step - loss: 0.4016 - accuracy: 0.8369\n",
      "Epoch 61/100\n",
      "288/288 [==============================] - 0s 1ms/step - loss: 0.4012 - accuracy: 0.8365\n",
      "Epoch 62/100\n",
      "288/288 [==============================] - 0s 1ms/step - loss: 0.4013 - accuracy: 0.8364\n",
      "Epoch 63/100\n",
      "288/288 [==============================] - 0s 1ms/step - loss: 0.4013 - accuracy: 0.8361\n",
      "Epoch 64/100\n",
      "288/288 [==============================] - 0s 1ms/step - loss: 0.4012 - accuracy: 0.8372\n",
      "Epoch 65/100\n",
      "288/288 [==============================] - 0s 1ms/step - loss: 0.4009 - accuracy: 0.8371\n",
      "Epoch 66/100\n",
      "288/288 [==============================] - 0s 1ms/step - loss: 0.4009 - accuracy: 0.8371\n",
      "Epoch 67/100\n",
      "288/288 [==============================] - 0s 1ms/step - loss: 0.4002 - accuracy: 0.8356\n",
      "Epoch 68/100\n",
      "288/288 [==============================] - 0s 1ms/step - loss: 0.4011 - accuracy: 0.8363\n",
      "Epoch 69/100\n",
      "288/288 [==============================] - 0s 1ms/step - loss: 0.4006 - accuracy: 0.8361\n",
      "Epoch 70/100\n",
      "288/288 [==============================] - 0s 1ms/step - loss: 0.4007 - accuracy: 0.8353\n",
      "Epoch 71/100\n",
      "288/288 [==============================] - 0s 1ms/step - loss: 0.4005 - accuracy: 0.8349\n",
      "Epoch 72/100\n",
      "288/288 [==============================] - 0s 2ms/step - loss: 0.4005 - accuracy: 0.8363\n",
      "Epoch 73/100\n",
      "288/288 [==============================] - 0s 1ms/step - loss: 0.4008 - accuracy: 0.8354\n",
      "Epoch 74/100\n",
      "288/288 [==============================] - 1s 2ms/step - loss: 0.4004 - accuracy: 0.8368\n",
      "Epoch 75/100\n",
      "288/288 [==============================] - 0s 2ms/step - loss: 0.4003 - accuracy: 0.8364\n",
      "Epoch 76/100\n",
      "288/288 [==============================] - 0s 1ms/step - loss: 0.4000 - accuracy: 0.8353\n",
      "Epoch 77/100\n",
      "288/288 [==============================] - 0s 1ms/step - loss: 0.4001 - accuracy: 0.8357\n",
      "Epoch 78/100\n",
      "288/288 [==============================] - 0s 2ms/step - loss: 0.4001 - accuracy: 0.8363\n",
      "Epoch 79/100\n",
      "288/288 [==============================] - 0s 2ms/step - loss: 0.4002 - accuracy: 0.8358\n",
      "Epoch 80/100\n",
      "288/288 [==============================] - 0s 1ms/step - loss: 0.4000 - accuracy: 0.8357\n",
      "Epoch 81/100\n"
     ]
    },
    {
     "name": "stdout",
     "output_type": "stream",
     "text": [
      "288/288 [==============================] - 0s 1ms/step - loss: 0.4001 - accuracy: 0.8354\n",
      "Epoch 82/100\n",
      "288/288 [==============================] - 0s 1ms/step - loss: 0.4001 - accuracy: 0.8356\n",
      "Epoch 83/100\n",
      "288/288 [==============================] - 0s 1ms/step - loss: 0.4002 - accuracy: 0.8375\n",
      "Epoch 84/100\n",
      "288/288 [==============================] - 0s 1ms/step - loss: 0.4000 - accuracy: 0.8358\n",
      "Epoch 85/100\n",
      "288/288 [==============================] - 0s 2ms/step - loss: 0.4003 - accuracy: 0.8365\n",
      "Epoch 86/100\n",
      "288/288 [==============================] - 0s 2ms/step - loss: 0.4000 - accuracy: 0.8353\n",
      "Epoch 87/100\n",
      "288/288 [==============================] - 0s 1ms/step - loss: 0.4002 - accuracy: 0.8353\n",
      "Epoch 88/100\n",
      "288/288 [==============================] - 0s 1ms/step - loss: 0.4000 - accuracy: 0.8354\n",
      "Epoch 89/100\n",
      "288/288 [==============================] - 0s 1ms/step - loss: 0.4001 - accuracy: 0.8351\n",
      "Epoch 90/100\n",
      "288/288 [==============================] - 0s 1ms/step - loss: 0.3997 - accuracy: 0.8363\n",
      "Epoch 91/100\n",
      "288/288 [==============================] - 0s 1ms/step - loss: 0.3997 - accuracy: 0.8364\n",
      "Epoch 92/100\n",
      "288/288 [==============================] - 0s 1ms/step - loss: 0.3999 - accuracy: 0.8363\n",
      "Epoch 93/100\n",
      "288/288 [==============================] - 0s 1ms/step - loss: 0.3998 - accuracy: 0.8360\n",
      "Epoch 94/100\n",
      "288/288 [==============================] - 0s 1ms/step - loss: 0.3999 - accuracy: 0.8357\n",
      "Epoch 95/100\n",
      "288/288 [==============================] - 0s 1ms/step - loss: 0.3999 - accuracy: 0.8363\n",
      "Epoch 96/100\n",
      "288/288 [==============================] - 0s 1ms/step - loss: 0.3997 - accuracy: 0.8369\n",
      "Epoch 97/100\n",
      "288/288 [==============================] - 0s 1ms/step - loss: 0.4000 - accuracy: 0.8358\n",
      "Epoch 98/100\n",
      "288/288 [==============================] - 0s 1ms/step - loss: 0.4001 - accuracy: 0.8365\n",
      "Epoch 99/100\n",
      "288/288 [==============================] - 0s 1ms/step - loss: 0.3998 - accuracy: 0.8357\n",
      "Epoch 100/100\n",
      "288/288 [==============================] - 0s 1ms/step - loss: 0.3998 - accuracy: 0.8357\n",
      "25/25 [==============================] - 0s 1ms/step\n",
      "Epoch 1/100\n",
      "288/288 [==============================] - 1s 1ms/step - loss: 0.5742 - accuracy: 0.7958\n",
      "Epoch 2/100\n",
      "288/288 [==============================] - 0s 1ms/step - loss: 0.4381 - accuracy: 0.7969\n",
      "Epoch 3/100\n",
      "288/288 [==============================] - 0s 1ms/step - loss: 0.4303 - accuracy: 0.7969\n",
      "Epoch 4/100\n",
      "288/288 [==============================] - 0s 1ms/step - loss: 0.4257 - accuracy: 0.7969\n",
      "Epoch 5/100\n",
      "288/288 [==============================] - 0s 1ms/step - loss: 0.4205 - accuracy: 0.8215\n",
      "Epoch 6/100\n",
      "288/288 [==============================] - 0s 1ms/step - loss: 0.4158 - accuracy: 0.8290\n",
      "Epoch 7/100\n",
      "288/288 [==============================] - 0s 1ms/step - loss: 0.4119 - accuracy: 0.8322\n",
      "Epoch 8/100\n",
      "288/288 [==============================] - 0s 1ms/step - loss: 0.4089 - accuracy: 0.8332\n",
      "Epoch 9/100\n",
      "288/288 [==============================] - 0s 2ms/step - loss: 0.4067 - accuracy: 0.8346\n",
      "Epoch 10/100\n",
      "288/288 [==============================] - 0s 1ms/step - loss: 0.4054 - accuracy: 0.8363\n",
      "Epoch 11/100\n",
      "288/288 [==============================] - 0s 1ms/step - loss: 0.4038 - accuracy: 0.8354\n",
      "Epoch 12/100\n",
      "288/288 [==============================] - 0s 1ms/step - loss: 0.4023 - accuracy: 0.8356\n",
      "Epoch 13/100\n",
      "288/288 [==============================] - 0s 1ms/step - loss: 0.4015 - accuracy: 0.8358\n",
      "Epoch 14/100\n",
      "288/288 [==============================] - 0s 1ms/step - loss: 0.4006 - accuracy: 0.8365\n",
      "Epoch 15/100\n",
      "288/288 [==============================] - 0s 1ms/step - loss: 0.3999 - accuracy: 0.8372\n",
      "Epoch 16/100\n",
      "288/288 [==============================] - 0s 1ms/step - loss: 0.3993 - accuracy: 0.8371\n",
      "Epoch 17/100\n",
      "288/288 [==============================] - 0s 1ms/step - loss: 0.3989 - accuracy: 0.8360\n",
      "Epoch 18/100\n",
      "288/288 [==============================] - 0s 1ms/step - loss: 0.3979 - accuracy: 0.8357\n",
      "Epoch 19/100\n",
      "288/288 [==============================] - 1s 2ms/step - loss: 0.3978 - accuracy: 0.8372\n",
      "Epoch 20/100\n",
      "288/288 [==============================] - 0s 2ms/step - loss: 0.3974 - accuracy: 0.8351\n",
      "Epoch 21/100\n",
      "288/288 [==============================] - 0s 1ms/step - loss: 0.3970 - accuracy: 0.8363\n",
      "Epoch 22/100\n",
      "288/288 [==============================] - 0s 1ms/step - loss: 0.3967 - accuracy: 0.8374\n",
      "Epoch 23/100\n",
      "288/288 [==============================] - 0s 2ms/step - loss: 0.3967 - accuracy: 0.8372\n",
      "Epoch 24/100\n",
      "288/288 [==============================] - 0s 1ms/step - loss: 0.3963 - accuracy: 0.8365\n",
      "Epoch 25/100\n",
      "288/288 [==============================] - 0s 1ms/step - loss: 0.3966 - accuracy: 0.8364\n",
      "Epoch 26/100\n",
      "288/288 [==============================] - 0s 1ms/step - loss: 0.3963 - accuracy: 0.8368\n",
      "Epoch 27/100\n",
      "288/288 [==============================] - 0s 1ms/step - loss: 0.3958 - accuracy: 0.8375\n",
      "Epoch 28/100\n",
      "288/288 [==============================] - 0s 1ms/step - loss: 0.3961 - accuracy: 0.8372\n",
      "Epoch 29/100\n",
      "288/288 [==============================] - 0s 1ms/step - loss: 0.3961 - accuracy: 0.8378\n",
      "Epoch 30/100\n",
      "288/288 [==============================] - 0s 1ms/step - loss: 0.3956 - accuracy: 0.8376\n",
      "Epoch 31/100\n",
      "288/288 [==============================] - 0s 1ms/step - loss: 0.3957 - accuracy: 0.8392\n",
      "Epoch 32/100\n",
      "288/288 [==============================] - 0s 2ms/step - loss: 0.3955 - accuracy: 0.8374\n",
      "Epoch 33/100\n",
      "288/288 [==============================] - 0s 1ms/step - loss: 0.3953 - accuracy: 0.8379\n",
      "Epoch 34/100\n",
      "288/288 [==============================] - 0s 1ms/step - loss: 0.3954 - accuracy: 0.8383\n",
      "Epoch 35/100\n",
      "288/288 [==============================] - 0s 1ms/step - loss: 0.3954 - accuracy: 0.8372\n",
      "Epoch 36/100\n",
      "288/288 [==============================] - 0s 1ms/step - loss: 0.3949 - accuracy: 0.8388\n",
      "Epoch 37/100\n",
      "288/288 [==============================] - 0s 1ms/step - loss: 0.3950 - accuracy: 0.8364\n",
      "Epoch 38/100\n",
      "288/288 [==============================] - 0s 1ms/step - loss: 0.3948 - accuracy: 0.8386\n",
      "Epoch 39/100\n",
      "288/288 [==============================] - 0s 1ms/step - loss: 0.3949 - accuracy: 0.8379\n",
      "Epoch 40/100\n",
      "288/288 [==============================] - 0s 1ms/step - loss: 0.3951 - accuracy: 0.8385\n",
      "Epoch 41/100\n",
      "288/288 [==============================] - 0s 1ms/step - loss: 0.3951 - accuracy: 0.8383\n",
      "Epoch 42/100\n",
      "288/288 [==============================] - 0s 1ms/step - loss: 0.3949 - accuracy: 0.8397\n",
      "Epoch 43/100\n",
      "288/288 [==============================] - 0s 1ms/step - loss: 0.3946 - accuracy: 0.8393\n",
      "Epoch 44/100\n",
      "288/288 [==============================] - 0s 1ms/step - loss: 0.3948 - accuracy: 0.8365\n",
      "Epoch 45/100\n",
      "288/288 [==============================] - 0s 1ms/step - loss: 0.3945 - accuracy: 0.8382\n",
      "Epoch 46/100\n",
      "288/288 [==============================] - 0s 1ms/step - loss: 0.3945 - accuracy: 0.8375\n",
      "Epoch 47/100\n",
      "288/288 [==============================] - 0s 1ms/step - loss: 0.3948 - accuracy: 0.8392\n",
      "Epoch 48/100\n",
      "288/288 [==============================] - 0s 1ms/step - loss: 0.3948 - accuracy: 0.8383\n",
      "Epoch 49/100\n",
      "288/288 [==============================] - 0s 1ms/step - loss: 0.3946 - accuracy: 0.8388\n",
      "Epoch 50/100\n",
      "288/288 [==============================] - 0s 1ms/step - loss: 0.3946 - accuracy: 0.8381\n",
      "Epoch 51/100\n",
      "288/288 [==============================] - 0s 1ms/step - loss: 0.3943 - accuracy: 0.8386\n",
      "Epoch 52/100\n",
      "288/288 [==============================] - 0s 1ms/step - loss: 0.3941 - accuracy: 0.8383\n",
      "Epoch 53/100\n",
      "288/288 [==============================] - 0s 1ms/step - loss: 0.3944 - accuracy: 0.8397\n",
      "Epoch 54/100\n",
      "288/288 [==============================] - 0s 1ms/step - loss: 0.3949 - accuracy: 0.8376\n",
      "Epoch 55/100\n",
      "288/288 [==============================] - 0s 1ms/step - loss: 0.3942 - accuracy: 0.8388\n",
      "Epoch 56/100\n",
      "288/288 [==============================] - 0s 1ms/step - loss: 0.3946 - accuracy: 0.8383\n",
      "Epoch 57/100\n",
      "288/288 [==============================] - 0s 1ms/step - loss: 0.3943 - accuracy: 0.8383\n",
      "Epoch 58/100\n",
      "288/288 [==============================] - 0s 1ms/step - loss: 0.3942 - accuracy: 0.8376\n",
      "Epoch 59/100\n",
      "288/288 [==============================] - 0s 1ms/step - loss: 0.3942 - accuracy: 0.8383\n",
      "Epoch 60/100\n",
      "288/288 [==============================] - 0s 1ms/step - loss: 0.3944 - accuracy: 0.8390\n",
      "Epoch 61/100\n"
     ]
    },
    {
     "name": "stdout",
     "output_type": "stream",
     "text": [
      "288/288 [==============================] - 0s 1ms/step - loss: 0.3938 - accuracy: 0.8378\n",
      "Epoch 62/100\n",
      "288/288 [==============================] - 0s 1ms/step - loss: 0.3942 - accuracy: 0.8381\n",
      "Epoch 63/100\n",
      "288/288 [==============================] - 0s 1ms/step - loss: 0.3937 - accuracy: 0.8381\n",
      "Epoch 64/100\n",
      "288/288 [==============================] - 0s 1ms/step - loss: 0.3938 - accuracy: 0.8374\n",
      "Epoch 65/100\n",
      "288/288 [==============================] - 0s 1ms/step - loss: 0.3942 - accuracy: 0.8393\n",
      "Epoch 66/100\n",
      "288/288 [==============================] - 0s 1ms/step - loss: 0.3939 - accuracy: 0.8376\n",
      "Epoch 67/100\n",
      "288/288 [==============================] - 0s 1ms/step - loss: 0.3941 - accuracy: 0.8388\n",
      "Epoch 68/100\n",
      "288/288 [==============================] - 0s 1ms/step - loss: 0.3937 - accuracy: 0.8388\n",
      "Epoch 69/100\n",
      "288/288 [==============================] - 0s 1ms/step - loss: 0.3939 - accuracy: 0.8375\n",
      "Epoch 70/100\n",
      "288/288 [==============================] - 0s 1ms/step - loss: 0.3941 - accuracy: 0.8396\n",
      "Epoch 71/100\n",
      "288/288 [==============================] - 0s 1ms/step - loss: 0.3935 - accuracy: 0.8383\n",
      "Epoch 72/100\n",
      "288/288 [==============================] - 0s 1ms/step - loss: 0.3939 - accuracy: 0.8383\n",
      "Epoch 73/100\n",
      "288/288 [==============================] - 0s 1ms/step - loss: 0.3936 - accuracy: 0.8388\n",
      "Epoch 74/100\n",
      "288/288 [==============================] - 0s 1ms/step - loss: 0.3940 - accuracy: 0.8403\n",
      "Epoch 75/100\n",
      "288/288 [==============================] - 0s 1ms/step - loss: 0.3938 - accuracy: 0.8368\n",
      "Epoch 76/100\n",
      "288/288 [==============================] - 0s 1ms/step - loss: 0.3940 - accuracy: 0.8372\n",
      "Epoch 77/100\n",
      "288/288 [==============================] - 0s 1ms/step - loss: 0.3937 - accuracy: 0.8386\n",
      "Epoch 78/100\n",
      "288/288 [==============================] - 0s 2ms/step - loss: 0.3937 - accuracy: 0.8382\n",
      "Epoch 79/100\n",
      "288/288 [==============================] - 0s 1ms/step - loss: 0.3936 - accuracy: 0.8390\n",
      "Epoch 80/100\n",
      "288/288 [==============================] - 0s 2ms/step - loss: 0.3936 - accuracy: 0.8385\n",
      "Epoch 81/100\n",
      "288/288 [==============================] - 0s 1ms/step - loss: 0.3940 - accuracy: 0.8378\n",
      "Epoch 82/100\n",
      "288/288 [==============================] - 0s 1ms/step - loss: 0.3936 - accuracy: 0.8400\n",
      "Epoch 83/100\n",
      "288/288 [==============================] - 0s 1ms/step - loss: 0.3938 - accuracy: 0.8394\n",
      "Epoch 84/100\n",
      "288/288 [==============================] - 0s 1ms/step - loss: 0.3936 - accuracy: 0.8389\n",
      "Epoch 85/100\n",
      "288/288 [==============================] - 0s 1ms/step - loss: 0.3940 - accuracy: 0.8399\n",
      "Epoch 86/100\n",
      "288/288 [==============================] - 0s 2ms/step - loss: 0.3935 - accuracy: 0.8385\n",
      "Epoch 87/100\n",
      "288/288 [==============================] - 0s 1ms/step - loss: 0.3937 - accuracy: 0.8383\n",
      "Epoch 88/100\n",
      "288/288 [==============================] - 0s 2ms/step - loss: 0.3935 - accuracy: 0.8388\n",
      "Epoch 89/100\n",
      "288/288 [==============================] - 0s 2ms/step - loss: 0.3936 - accuracy: 0.8394\n",
      "Epoch 90/100\n",
      "288/288 [==============================] - 0s 1ms/step - loss: 0.3935 - accuracy: 0.8396\n",
      "Epoch 91/100\n",
      "288/288 [==============================] - 0s 1ms/step - loss: 0.3936 - accuracy: 0.8386\n",
      "Epoch 92/100\n",
      "288/288 [==============================] - 0s 1ms/step - loss: 0.3934 - accuracy: 0.8382\n",
      "Epoch 93/100\n",
      "288/288 [==============================] - 0s 1ms/step - loss: 0.3934 - accuracy: 0.8397\n",
      "Epoch 94/100\n",
      "288/288 [==============================] - 0s 1ms/step - loss: 0.3935 - accuracy: 0.8382\n",
      "Epoch 95/100\n",
      "288/288 [==============================] - 0s 2ms/step - loss: 0.3933 - accuracy: 0.8392\n",
      "Epoch 96/100\n",
      "288/288 [==============================] - 0s 2ms/step - loss: 0.3937 - accuracy: 0.8388\n",
      "Epoch 97/100\n",
      "288/288 [==============================] - 0s 2ms/step - loss: 0.3930 - accuracy: 0.8389\n",
      "Epoch 98/100\n",
      "288/288 [==============================] - 0s 1ms/step - loss: 0.3931 - accuracy: 0.8407\n",
      "Epoch 99/100\n",
      "288/288 [==============================] - 1s 2ms/step - loss: 0.3933 - accuracy: 0.8388\n",
      "Epoch 100/100\n",
      "288/288 [==============================] - 0s 1ms/step - loss: 0.3933 - accuracy: 0.8400\n",
      "25/25 [==============================] - 0s 1ms/step\n",
      "Epoch 1/100\n",
      "288/288 [==============================] - 1s 2ms/step - loss: 0.5501 - accuracy: 0.7989\n",
      "Epoch 2/100\n",
      "288/288 [==============================] - 0s 1ms/step - loss: 0.4296 - accuracy: 0.7999\n",
      "Epoch 3/100\n",
      "288/288 [==============================] - 1s 2ms/step - loss: 0.4240 - accuracy: 0.7999\n",
      "Epoch 4/100\n",
      "288/288 [==============================] - 0s 1ms/step - loss: 0.4206 - accuracy: 0.7999\n",
      "Epoch 5/100\n",
      "288/288 [==============================] - 0s 1ms/step - loss: 0.4172 - accuracy: 0.7999\n",
      "Epoch 6/100\n",
      "288/288 [==============================] - 0s 1ms/step - loss: 0.4149 - accuracy: 0.8003\n",
      "Epoch 7/100\n",
      "288/288 [==============================] - 0s 1ms/step - loss: 0.4126 - accuracy: 0.8211\n",
      "Epoch 8/100\n",
      "288/288 [==============================] - 0s 1ms/step - loss: 0.4109 - accuracy: 0.8263\n",
      "Epoch 9/100\n",
      "288/288 [==============================] - 0s 1ms/step - loss: 0.4094 - accuracy: 0.8285\n",
      "Epoch 10/100\n",
      "288/288 [==============================] - 0s 1ms/step - loss: 0.4081 - accuracy: 0.8310\n",
      "Epoch 11/100\n",
      "288/288 [==============================] - 0s 1ms/step - loss: 0.4070 - accuracy: 0.8333\n",
      "Epoch 12/100\n",
      "288/288 [==============================] - 0s 1ms/step - loss: 0.4059 - accuracy: 0.8346\n",
      "Epoch 13/100\n",
      "288/288 [==============================] - 0s 1ms/step - loss: 0.4053 - accuracy: 0.8356\n",
      "Epoch 14/100\n",
      "288/288 [==============================] - 0s 1ms/step - loss: 0.4042 - accuracy: 0.8342\n",
      "Epoch 15/100\n",
      "288/288 [==============================] - 0s 1ms/step - loss: 0.4034 - accuracy: 0.8374\n",
      "Epoch 16/100\n",
      "288/288 [==============================] - 0s 1ms/step - loss: 0.4025 - accuracy: 0.8375\n",
      "Epoch 17/100\n",
      "288/288 [==============================] - 0s 1ms/step - loss: 0.4022 - accuracy: 0.8363\n",
      "Epoch 18/100\n",
      "288/288 [==============================] - 0s 1ms/step - loss: 0.4013 - accuracy: 0.8386\n",
      "Epoch 19/100\n",
      "288/288 [==============================] - 0s 1ms/step - loss: 0.4008 - accuracy: 0.8378\n",
      "Epoch 20/100\n",
      "288/288 [==============================] - 0s 1ms/step - loss: 0.4004 - accuracy: 0.8376\n",
      "Epoch 21/100\n",
      "288/288 [==============================] - 0s 1ms/step - loss: 0.3998 - accuracy: 0.8378\n",
      "Epoch 22/100\n",
      "288/288 [==============================] - 0s 1ms/step - loss: 0.3993 - accuracy: 0.8379\n",
      "Epoch 23/100\n",
      "288/288 [==============================] - 0s 1ms/step - loss: 0.3989 - accuracy: 0.8374\n",
      "Epoch 24/100\n",
      "288/288 [==============================] - 0s 1ms/step - loss: 0.3983 - accuracy: 0.8392\n",
      "Epoch 25/100\n",
      "288/288 [==============================] - 0s 1ms/step - loss: 0.3983 - accuracy: 0.8375\n",
      "Epoch 26/100\n",
      "288/288 [==============================] - 0s 1ms/step - loss: 0.3978 - accuracy: 0.8369\n",
      "Epoch 27/100\n",
      "288/288 [==============================] - 0s 1ms/step - loss: 0.3972 - accuracy: 0.8399\n",
      "Epoch 28/100\n",
      "288/288 [==============================] - 0s 1ms/step - loss: 0.3975 - accuracy: 0.8371\n",
      "Epoch 29/100\n",
      "288/288 [==============================] - 0s 1ms/step - loss: 0.3971 - accuracy: 0.8389\n",
      "Epoch 30/100\n",
      "288/288 [==============================] - 0s 1ms/step - loss: 0.3965 - accuracy: 0.8399\n",
      "Epoch 31/100\n",
      "288/288 [==============================] - 0s 1ms/step - loss: 0.3964 - accuracy: 0.8383\n",
      "Epoch 32/100\n",
      "288/288 [==============================] - 0s 1ms/step - loss: 0.3964 - accuracy: 0.8404\n",
      "Epoch 33/100\n",
      "288/288 [==============================] - 0s 1ms/step - loss: 0.3964 - accuracy: 0.8397\n",
      "Epoch 34/100\n",
      "288/288 [==============================] - 0s 1ms/step - loss: 0.3958 - accuracy: 0.8399\n",
      "Epoch 35/100\n",
      "288/288 [==============================] - 0s 2ms/step - loss: 0.3955 - accuracy: 0.8399\n",
      "Epoch 36/100\n",
      "288/288 [==============================] - 0s 2ms/step - loss: 0.3956 - accuracy: 0.8413\n",
      "Epoch 37/100\n",
      "288/288 [==============================] - 0s 1ms/step - loss: 0.3953 - accuracy: 0.8385\n",
      "Epoch 38/100\n",
      "288/288 [==============================] - 0s 1ms/step - loss: 0.3949 - accuracy: 0.8414\n",
      "Epoch 39/100\n",
      "288/288 [==============================] - 0s 1ms/step - loss: 0.3950 - accuracy: 0.8385\n",
      "Epoch 40/100\n",
      "288/288 [==============================] - 0s 1ms/step - loss: 0.3946 - accuracy: 0.8393\n",
      "Epoch 41/100\n"
     ]
    },
    {
     "name": "stdout",
     "output_type": "stream",
     "text": [
      "288/288 [==============================] - 0s 1ms/step - loss: 0.3948 - accuracy: 0.8401\n",
      "Epoch 42/100\n",
      "288/288 [==============================] - 0s 1ms/step - loss: 0.3946 - accuracy: 0.8406\n",
      "Epoch 43/100\n",
      "288/288 [==============================] - 0s 1ms/step - loss: 0.3945 - accuracy: 0.8396\n",
      "Epoch 44/100\n",
      "288/288 [==============================] - 0s 1ms/step - loss: 0.3941 - accuracy: 0.8399\n",
      "Epoch 45/100\n",
      "288/288 [==============================] - 0s 1ms/step - loss: 0.3943 - accuracy: 0.8399\n",
      "Epoch 46/100\n",
      "288/288 [==============================] - 0s 1ms/step - loss: 0.3941 - accuracy: 0.8400\n",
      "Epoch 47/100\n",
      "288/288 [==============================] - 0s 2ms/step - loss: 0.3940 - accuracy: 0.8406\n",
      "Epoch 48/100\n",
      "288/288 [==============================] - 0s 1ms/step - loss: 0.3941 - accuracy: 0.8389\n",
      "Epoch 49/100\n",
      "288/288 [==============================] - 0s 1ms/step - loss: 0.3935 - accuracy: 0.8388\n",
      "Epoch 50/100\n",
      "288/288 [==============================] - 1s 2ms/step - loss: 0.3933 - accuracy: 0.8400\n",
      "Epoch 51/100\n",
      "288/288 [==============================] - 0s 1ms/step - loss: 0.3935 - accuracy: 0.8389\n",
      "Epoch 52/100\n",
      "288/288 [==============================] - 0s 2ms/step - loss: 0.3935 - accuracy: 0.8396\n",
      "Epoch 53/100\n",
      "288/288 [==============================] - 0s 1ms/step - loss: 0.3935 - accuracy: 0.8397\n",
      "Epoch 54/100\n",
      "288/288 [==============================] - 0s 1ms/step - loss: 0.3933 - accuracy: 0.8399\n",
      "Epoch 55/100\n",
      "288/288 [==============================] - 0s 2ms/step - loss: 0.3930 - accuracy: 0.8403\n",
      "Epoch 56/100\n",
      "288/288 [==============================] - 0s 2ms/step - loss: 0.3930 - accuracy: 0.8406\n",
      "Epoch 57/100\n",
      "288/288 [==============================] - 0s 1ms/step - loss: 0.3932 - accuracy: 0.8396\n",
      "Epoch 58/100\n",
      "288/288 [==============================] - 0s 1ms/step - loss: 0.3925 - accuracy: 0.8389\n",
      "Epoch 59/100\n",
      "288/288 [==============================] - 0s 1ms/step - loss: 0.3928 - accuracy: 0.8421\n",
      "Epoch 60/100\n",
      "288/288 [==============================] - 0s 1ms/step - loss: 0.3929 - accuracy: 0.8399\n",
      "Epoch 61/100\n",
      "288/288 [==============================] - 0s 1ms/step - loss: 0.3928 - accuracy: 0.8426\n",
      "Epoch 62/100\n",
      "288/288 [==============================] - 0s 1ms/step - loss: 0.3923 - accuracy: 0.8397\n",
      "Epoch 63/100\n",
      "288/288 [==============================] - 0s 1ms/step - loss: 0.3924 - accuracy: 0.8393\n",
      "Epoch 64/100\n",
      "288/288 [==============================] - 0s 1ms/step - loss: 0.3922 - accuracy: 0.8414\n",
      "Epoch 65/100\n",
      "288/288 [==============================] - 0s 1ms/step - loss: 0.3925 - accuracy: 0.8418\n",
      "Epoch 66/100\n",
      "288/288 [==============================] - 0s 1ms/step - loss: 0.3924 - accuracy: 0.8408\n",
      "Epoch 67/100\n",
      "288/288 [==============================] - 0s 1ms/step - loss: 0.3924 - accuracy: 0.8396\n",
      "Epoch 68/100\n",
      "288/288 [==============================] - 0s 1ms/step - loss: 0.3923 - accuracy: 0.8418\n",
      "Epoch 69/100\n",
      "288/288 [==============================] - 0s 1ms/step - loss: 0.3922 - accuracy: 0.8414\n",
      "Epoch 70/100\n",
      "288/288 [==============================] - 0s 1ms/step - loss: 0.3921 - accuracy: 0.8407\n",
      "Epoch 71/100\n",
      "288/288 [==============================] - 0s 1ms/step - loss: 0.3921 - accuracy: 0.8408\n",
      "Epoch 72/100\n",
      "288/288 [==============================] - 0s 2ms/step - loss: 0.3921 - accuracy: 0.8397\n",
      "Epoch 73/100\n",
      "288/288 [==============================] - 0s 1ms/step - loss: 0.3918 - accuracy: 0.8417\n",
      "Epoch 74/100\n",
      "288/288 [==============================] - 0s 1ms/step - loss: 0.3918 - accuracy: 0.8401\n",
      "Epoch 75/100\n",
      "288/288 [==============================] - 0s 1ms/step - loss: 0.3919 - accuracy: 0.8406\n",
      "Epoch 76/100\n",
      "288/288 [==============================] - 0s 1ms/step - loss: 0.3918 - accuracy: 0.8397\n",
      "Epoch 77/100\n",
      "288/288 [==============================] - 0s 1ms/step - loss: 0.3920 - accuracy: 0.8415\n",
      "Epoch 78/100\n",
      "288/288 [==============================] - 0s 1ms/step - loss: 0.3918 - accuracy: 0.8417\n",
      "Epoch 79/100\n",
      "288/288 [==============================] - 0s 1ms/step - loss: 0.3918 - accuracy: 0.8399\n",
      "Epoch 80/100\n",
      "288/288 [==============================] - 0s 1ms/step - loss: 0.3916 - accuracy: 0.8410\n",
      "Epoch 81/100\n",
      "288/288 [==============================] - 0s 1ms/step - loss: 0.3916 - accuracy: 0.8388\n",
      "Epoch 82/100\n",
      "288/288 [==============================] - 0s 1ms/step - loss: 0.3916 - accuracy: 0.8404\n",
      "Epoch 83/100\n",
      "288/288 [==============================] - 0s 1ms/step - loss: 0.3919 - accuracy: 0.8410\n",
      "Epoch 84/100\n",
      "288/288 [==============================] - 0s 1ms/step - loss: 0.3912 - accuracy: 0.8408\n",
      "Epoch 85/100\n",
      "288/288 [==============================] - 0s 1ms/step - loss: 0.3916 - accuracy: 0.8401\n",
      "Epoch 86/100\n",
      "288/288 [==============================] - 0s 1ms/step - loss: 0.3914 - accuracy: 0.8407\n",
      "Epoch 87/100\n",
      "288/288 [==============================] - 0s 1ms/step - loss: 0.3913 - accuracy: 0.8414\n",
      "Epoch 88/100\n",
      "288/288 [==============================] - 0s 1ms/step - loss: 0.3914 - accuracy: 0.8396\n",
      "Epoch 89/100\n",
      "288/288 [==============================] - 0s 1ms/step - loss: 0.3915 - accuracy: 0.8400\n",
      "Epoch 90/100\n",
      "288/288 [==============================] - 0s 1ms/step - loss: 0.3915 - accuracy: 0.8408\n",
      "Epoch 91/100\n",
      "288/288 [==============================] - 0s 1ms/step - loss: 0.3914 - accuracy: 0.8393\n",
      "Epoch 92/100\n",
      "288/288 [==============================] - 0s 1ms/step - loss: 0.3913 - accuracy: 0.8407\n",
      "Epoch 93/100\n",
      "288/288 [==============================] - 0s 1ms/step - loss: 0.3917 - accuracy: 0.8406\n",
      "Epoch 94/100\n",
      "288/288 [==============================] - 0s 1ms/step - loss: 0.3914 - accuracy: 0.8404\n",
      "Epoch 95/100\n",
      "288/288 [==============================] - 0s 1ms/step - loss: 0.3914 - accuracy: 0.8385\n",
      "Epoch 96/100\n",
      "288/288 [==============================] - 0s 1ms/step - loss: 0.3912 - accuracy: 0.8410\n",
      "Epoch 97/100\n",
      "288/288 [==============================] - 0s 1ms/step - loss: 0.3913 - accuracy: 0.8417\n",
      "Epoch 98/100\n",
      "288/288 [==============================] - 0s 1ms/step - loss: 0.3912 - accuracy: 0.8382\n",
      "Epoch 99/100\n",
      "288/288 [==============================] - 0s 1ms/step - loss: 0.3912 - accuracy: 0.8397\n",
      "Epoch 100/100\n",
      "288/288 [==============================] - 0s 1ms/step - loss: 0.3913 - accuracy: 0.8397\n",
      "25/25 [==============================] - 0s 1ms/step\n",
      "Epoch 1/100\n",
      "288/288 [==============================] - 1s 1ms/step - loss: 0.5704 - accuracy: 0.7958\n",
      "Epoch 2/100\n",
      "288/288 [==============================] - 0s 1ms/step - loss: 0.4392 - accuracy: 0.7958\n",
      "Epoch 3/100\n",
      "288/288 [==============================] - 0s 1ms/step - loss: 0.4341 - accuracy: 0.7958\n",
      "Epoch 4/100\n",
      "288/288 [==============================] - 0s 1ms/step - loss: 0.4316 - accuracy: 0.7958\n",
      "Epoch 5/100\n",
      "288/288 [==============================] - 0s 1ms/step - loss: 0.4297 - accuracy: 0.7958\n",
      "Epoch 6/100\n",
      "288/288 [==============================] - 0s 1ms/step - loss: 0.4277 - accuracy: 0.7958\n",
      "Epoch 7/100\n",
      "288/288 [==============================] - 0s 1ms/step - loss: 0.4251 - accuracy: 0.7958\n",
      "Epoch 8/100\n",
      "288/288 [==============================] - 0s 1ms/step - loss: 0.4229 - accuracy: 0.8140\n",
      "Epoch 9/100\n",
      "288/288 [==============================] - 0s 2ms/step - loss: 0.4207 - accuracy: 0.8207\n",
      "Epoch 10/100\n",
      "288/288 [==============================] - 0s 2ms/step - loss: 0.4190 - accuracy: 0.8232\n",
      "Epoch 11/100\n",
      "288/288 [==============================] - 0s 1ms/step - loss: 0.4181 - accuracy: 0.8264\n",
      "Epoch 12/100\n",
      "288/288 [==============================] - 0s 1ms/step - loss: 0.4167 - accuracy: 0.8285\n",
      "Epoch 13/100\n",
      "288/288 [==============================] - 0s 1ms/step - loss: 0.4159 - accuracy: 0.8282\n",
      "Epoch 14/100\n",
      "288/288 [==============================] - 0s 1ms/step - loss: 0.4152 - accuracy: 0.8281\n",
      "Epoch 15/100\n",
      "288/288 [==============================] - 0s 1ms/step - loss: 0.4142 - accuracy: 0.8296\n",
      "Epoch 16/100\n",
      "288/288 [==============================] - 0s 1ms/step - loss: 0.4137 - accuracy: 0.8294\n",
      "Epoch 17/100\n",
      "288/288 [==============================] - 0s 1ms/step - loss: 0.4130 - accuracy: 0.8310\n",
      "Epoch 18/100\n",
      "288/288 [==============================] - 0s 1ms/step - loss: 0.4125 - accuracy: 0.8304\n",
      "Epoch 19/100\n",
      "288/288 [==============================] - 0s 1ms/step - loss: 0.4120 - accuracy: 0.8314\n",
      "Epoch 20/100\n",
      "288/288 [==============================] - 0s 1ms/step - loss: 0.4113 - accuracy: 0.8326\n",
      "Epoch 21/100\n"
     ]
    },
    {
     "name": "stdout",
     "output_type": "stream",
     "text": [
      "288/288 [==============================] - 0s 1ms/step - loss: 0.4107 - accuracy: 0.8317\n",
      "Epoch 22/100\n",
      "288/288 [==============================] - 0s 1ms/step - loss: 0.4102 - accuracy: 0.8313\n",
      "Epoch 23/100\n",
      "288/288 [==============================] - 0s 1ms/step - loss: 0.4098 - accuracy: 0.8308\n",
      "Epoch 24/100\n",
      "288/288 [==============================] - 0s 1ms/step - loss: 0.4094 - accuracy: 0.8315\n",
      "Epoch 25/100\n",
      "288/288 [==============================] - 0s 1ms/step - loss: 0.4086 - accuracy: 0.8310\n",
      "Epoch 26/100\n",
      "288/288 [==============================] - 0s 1ms/step - loss: 0.4084 - accuracy: 0.8325\n",
      "Epoch 27/100\n",
      "288/288 [==============================] - 0s 1ms/step - loss: 0.4081 - accuracy: 0.8314\n",
      "Epoch 28/100\n",
      "288/288 [==============================] - 0s 1ms/step - loss: 0.4077 - accuracy: 0.8325\n",
      "Epoch 29/100\n",
      "288/288 [==============================] - 0s 1ms/step - loss: 0.4077 - accuracy: 0.8329\n",
      "Epoch 30/100\n",
      "288/288 [==============================] - 0s 1ms/step - loss: 0.4072 - accuracy: 0.8333\n",
      "Epoch 31/100\n",
      "112/288 [==========>...................] - ETA: 0s - loss: 0.4031 - accuracy: 0.8361"
     ]
    },
    {
     "ename": "KeyboardInterrupt",
     "evalue": "",
     "output_type": "error",
     "traceback": [
      "\u001b[1;31m---------------------------------------------------------------------------\u001b[0m",
      "\u001b[1;31mKeyboardInterrupt\u001b[0m                         Traceback (most recent call last)",
      "Input \u001b[1;32mIn [23]\u001b[0m, in \u001b[0;36m<cell line: 18>\u001b[1;34m()\u001b[0m\n\u001b[0;32m     16\u001b[0m parameters \u001b[38;5;241m=\u001b[39m {\u001b[38;5;124m'\u001b[39m\u001b[38;5;124mbatch_size\u001b[39m\u001b[38;5;124m'\u001b[39m: [\u001b[38;5;241m25\u001b[39m, \u001b[38;5;241m32\u001b[39m], \u001b[38;5;124m'\u001b[39m\u001b[38;5;124mepochs\u001b[39m\u001b[38;5;124m'\u001b[39m: [\u001b[38;5;241m100\u001b[39m, \u001b[38;5;241m500\u001b[39m], \u001b[38;5;124m'\u001b[39m\u001b[38;5;124moptimizer\u001b[39m\u001b[38;5;124m'\u001b[39m: [\u001b[38;5;124m'\u001b[39m\u001b[38;5;124madam\u001b[39m\u001b[38;5;124m'\u001b[39m, \u001b[38;5;124m'\u001b[39m\u001b[38;5;124mrmsprop\u001b[39m\u001b[38;5;124m'\u001b[39m]} \u001b[38;5;66;03m# create dictionary for parameters to optimize\u001b[39;00m\n\u001b[0;32m     17\u001b[0m grid_search \u001b[38;5;241m=\u001b[39m GridSearchCV(estimator \u001b[38;5;241m=\u001b[39m classifier, param_grid \u001b[38;5;241m=\u001b[39m parameters, scoring \u001b[38;5;241m=\u001b[39m \u001b[38;5;124m'\u001b[39m\u001b[38;5;124maccuracy\u001b[39m\u001b[38;5;124m'\u001b[39m, cv \u001b[38;5;241m=\u001b[39m \u001b[38;5;241m10\u001b[39m)\n\u001b[1;32m---> 18\u001b[0m grid_search \u001b[38;5;241m=\u001b[39m \u001b[43mgrid_search\u001b[49m\u001b[38;5;241;43m.\u001b[39;49m\u001b[43mfit\u001b[49m\u001b[43m(\u001b[49m\u001b[43mX_train\u001b[49m\u001b[43m,\u001b[49m\u001b[43m \u001b[49m\u001b[43my_train\u001b[49m\u001b[43m)\u001b[49m\n\u001b[0;32m     19\u001b[0m best_parameters \u001b[38;5;241m=\u001b[39m grid_search\u001b[38;5;241m.\u001b[39mbest_params_\n\u001b[0;32m     20\u001b[0m best_accuracy \u001b[38;5;241m=\u001b[39m grid_search\u001b[38;5;241m.\u001b[39mbest_score_\n",
      "File \u001b[1;32m~\\anaconda3\\lib\\site-packages\\sklearn\\model_selection\\_search.py:891\u001b[0m, in \u001b[0;36mBaseSearchCV.fit\u001b[1;34m(self, X, y, groups, **fit_params)\u001b[0m\n\u001b[0;32m    885\u001b[0m     results \u001b[38;5;241m=\u001b[39m \u001b[38;5;28mself\u001b[39m\u001b[38;5;241m.\u001b[39m_format_results(\n\u001b[0;32m    886\u001b[0m         all_candidate_params, n_splits, all_out, all_more_results\n\u001b[0;32m    887\u001b[0m     )\n\u001b[0;32m    889\u001b[0m     \u001b[38;5;28;01mreturn\u001b[39;00m results\n\u001b[1;32m--> 891\u001b[0m \u001b[38;5;28;43mself\u001b[39;49m\u001b[38;5;241;43m.\u001b[39;49m\u001b[43m_run_search\u001b[49m\u001b[43m(\u001b[49m\u001b[43mevaluate_candidates\u001b[49m\u001b[43m)\u001b[49m\n\u001b[0;32m    893\u001b[0m \u001b[38;5;66;03m# multimetric is determined here because in the case of a callable\u001b[39;00m\n\u001b[0;32m    894\u001b[0m \u001b[38;5;66;03m# self.scoring the return type is only known after calling\u001b[39;00m\n\u001b[0;32m    895\u001b[0m first_test_score \u001b[38;5;241m=\u001b[39m all_out[\u001b[38;5;241m0\u001b[39m][\u001b[38;5;124m\"\u001b[39m\u001b[38;5;124mtest_scores\u001b[39m\u001b[38;5;124m\"\u001b[39m]\n",
      "File \u001b[1;32m~\\anaconda3\\lib\\site-packages\\sklearn\\model_selection\\_search.py:1392\u001b[0m, in \u001b[0;36mGridSearchCV._run_search\u001b[1;34m(self, evaluate_candidates)\u001b[0m\n\u001b[0;32m   1390\u001b[0m \u001b[38;5;28;01mdef\u001b[39;00m \u001b[38;5;21m_run_search\u001b[39m(\u001b[38;5;28mself\u001b[39m, evaluate_candidates):\n\u001b[0;32m   1391\u001b[0m     \u001b[38;5;124;03m\"\"\"Search all candidates in param_grid\"\"\"\u001b[39;00m\n\u001b[1;32m-> 1392\u001b[0m     \u001b[43mevaluate_candidates\u001b[49m\u001b[43m(\u001b[49m\u001b[43mParameterGrid\u001b[49m\u001b[43m(\u001b[49m\u001b[38;5;28;43mself\u001b[39;49m\u001b[38;5;241;43m.\u001b[39;49m\u001b[43mparam_grid\u001b[49m\u001b[43m)\u001b[49m\u001b[43m)\u001b[49m\n",
      "File \u001b[1;32m~\\anaconda3\\lib\\site-packages\\sklearn\\model_selection\\_search.py:838\u001b[0m, in \u001b[0;36mBaseSearchCV.fit.<locals>.evaluate_candidates\u001b[1;34m(candidate_params, cv, more_results)\u001b[0m\n\u001b[0;32m    830\u001b[0m \u001b[38;5;28;01mif\u001b[39;00m \u001b[38;5;28mself\u001b[39m\u001b[38;5;241m.\u001b[39mverbose \u001b[38;5;241m>\u001b[39m \u001b[38;5;241m0\u001b[39m:\n\u001b[0;32m    831\u001b[0m     \u001b[38;5;28mprint\u001b[39m(\n\u001b[0;32m    832\u001b[0m         \u001b[38;5;124m\"\u001b[39m\u001b[38;5;124mFitting \u001b[39m\u001b[38;5;132;01m{0}\u001b[39;00m\u001b[38;5;124m folds for each of \u001b[39m\u001b[38;5;132;01m{1}\u001b[39;00m\u001b[38;5;124m candidates,\u001b[39m\u001b[38;5;124m\"\u001b[39m\n\u001b[0;32m    833\u001b[0m         \u001b[38;5;124m\"\u001b[39m\u001b[38;5;124m totalling \u001b[39m\u001b[38;5;132;01m{2}\u001b[39;00m\u001b[38;5;124m fits\u001b[39m\u001b[38;5;124m\"\u001b[39m\u001b[38;5;241m.\u001b[39mformat(\n\u001b[0;32m    834\u001b[0m             n_splits, n_candidates, n_candidates \u001b[38;5;241m*\u001b[39m n_splits\n\u001b[0;32m    835\u001b[0m         )\n\u001b[0;32m    836\u001b[0m     )\n\u001b[1;32m--> 838\u001b[0m out \u001b[38;5;241m=\u001b[39m \u001b[43mparallel\u001b[49m\u001b[43m(\u001b[49m\n\u001b[0;32m    839\u001b[0m \u001b[43m    \u001b[49m\u001b[43mdelayed\u001b[49m\u001b[43m(\u001b[49m\u001b[43m_fit_and_score\u001b[49m\u001b[43m)\u001b[49m\u001b[43m(\u001b[49m\n\u001b[0;32m    840\u001b[0m \u001b[43m        \u001b[49m\u001b[43mclone\u001b[49m\u001b[43m(\u001b[49m\u001b[43mbase_estimator\u001b[49m\u001b[43m)\u001b[49m\u001b[43m,\u001b[49m\n\u001b[0;32m    841\u001b[0m \u001b[43m        \u001b[49m\u001b[43mX\u001b[49m\u001b[43m,\u001b[49m\n\u001b[0;32m    842\u001b[0m \u001b[43m        \u001b[49m\u001b[43my\u001b[49m\u001b[43m,\u001b[49m\n\u001b[0;32m    843\u001b[0m \u001b[43m        \u001b[49m\u001b[43mtrain\u001b[49m\u001b[38;5;241;43m=\u001b[39;49m\u001b[43mtrain\u001b[49m\u001b[43m,\u001b[49m\n\u001b[0;32m    844\u001b[0m \u001b[43m        \u001b[49m\u001b[43mtest\u001b[49m\u001b[38;5;241;43m=\u001b[39;49m\u001b[43mtest\u001b[49m\u001b[43m,\u001b[49m\n\u001b[0;32m    845\u001b[0m \u001b[43m        \u001b[49m\u001b[43mparameters\u001b[49m\u001b[38;5;241;43m=\u001b[39;49m\u001b[43mparameters\u001b[49m\u001b[43m,\u001b[49m\n\u001b[0;32m    846\u001b[0m \u001b[43m        \u001b[49m\u001b[43msplit_progress\u001b[49m\u001b[38;5;241;43m=\u001b[39;49m\u001b[43m(\u001b[49m\u001b[43msplit_idx\u001b[49m\u001b[43m,\u001b[49m\u001b[43m \u001b[49m\u001b[43mn_splits\u001b[49m\u001b[43m)\u001b[49m\u001b[43m,\u001b[49m\n\u001b[0;32m    847\u001b[0m \u001b[43m        \u001b[49m\u001b[43mcandidate_progress\u001b[49m\u001b[38;5;241;43m=\u001b[39;49m\u001b[43m(\u001b[49m\u001b[43mcand_idx\u001b[49m\u001b[43m,\u001b[49m\u001b[43m \u001b[49m\u001b[43mn_candidates\u001b[49m\u001b[43m)\u001b[49m\u001b[43m,\u001b[49m\n\u001b[0;32m    848\u001b[0m \u001b[43m        \u001b[49m\u001b[38;5;241;43m*\u001b[39;49m\u001b[38;5;241;43m*\u001b[39;49m\u001b[43mfit_and_score_kwargs\u001b[49m\u001b[43m,\u001b[49m\n\u001b[0;32m    849\u001b[0m \u001b[43m    \u001b[49m\u001b[43m)\u001b[49m\n\u001b[0;32m    850\u001b[0m \u001b[43m    \u001b[49m\u001b[38;5;28;43;01mfor\u001b[39;49;00m\u001b[43m \u001b[49m\u001b[43m(\u001b[49m\u001b[43mcand_idx\u001b[49m\u001b[43m,\u001b[49m\u001b[43m \u001b[49m\u001b[43mparameters\u001b[49m\u001b[43m)\u001b[49m\u001b[43m,\u001b[49m\u001b[43m \u001b[49m\u001b[43m(\u001b[49m\u001b[43msplit_idx\u001b[49m\u001b[43m,\u001b[49m\u001b[43m \u001b[49m\u001b[43m(\u001b[49m\u001b[43mtrain\u001b[49m\u001b[43m,\u001b[49m\u001b[43m \u001b[49m\u001b[43mtest\u001b[49m\u001b[43m)\u001b[49m\u001b[43m)\u001b[49m\u001b[43m \u001b[49m\u001b[38;5;129;43;01min\u001b[39;49;00m\u001b[43m \u001b[49m\u001b[43mproduct\u001b[49m\u001b[43m(\u001b[49m\n\u001b[0;32m    851\u001b[0m \u001b[43m        \u001b[49m\u001b[38;5;28;43menumerate\u001b[39;49m\u001b[43m(\u001b[49m\u001b[43mcandidate_params\u001b[49m\u001b[43m)\u001b[49m\u001b[43m,\u001b[49m\u001b[43m \u001b[49m\u001b[38;5;28;43menumerate\u001b[39;49m\u001b[43m(\u001b[49m\u001b[43mcv\u001b[49m\u001b[38;5;241;43m.\u001b[39;49m\u001b[43msplit\u001b[49m\u001b[43m(\u001b[49m\u001b[43mX\u001b[49m\u001b[43m,\u001b[49m\u001b[43m \u001b[49m\u001b[43my\u001b[49m\u001b[43m,\u001b[49m\u001b[43m \u001b[49m\u001b[43mgroups\u001b[49m\u001b[43m)\u001b[49m\u001b[43m)\u001b[49m\n\u001b[0;32m    852\u001b[0m \u001b[43m    \u001b[49m\u001b[43m)\u001b[49m\n\u001b[0;32m    853\u001b[0m \u001b[43m\u001b[49m\u001b[43m)\u001b[49m\n\u001b[0;32m    855\u001b[0m \u001b[38;5;28;01mif\u001b[39;00m \u001b[38;5;28mlen\u001b[39m(out) \u001b[38;5;241m<\u001b[39m \u001b[38;5;241m1\u001b[39m:\n\u001b[0;32m    856\u001b[0m     \u001b[38;5;28;01mraise\u001b[39;00m \u001b[38;5;167;01mValueError\u001b[39;00m(\n\u001b[0;32m    857\u001b[0m         \u001b[38;5;124m\"\u001b[39m\u001b[38;5;124mNo fits were performed. \u001b[39m\u001b[38;5;124m\"\u001b[39m\n\u001b[0;32m    858\u001b[0m         \u001b[38;5;124m\"\u001b[39m\u001b[38;5;124mWas the CV iterator empty? \u001b[39m\u001b[38;5;124m\"\u001b[39m\n\u001b[0;32m    859\u001b[0m         \u001b[38;5;124m\"\u001b[39m\u001b[38;5;124mWere there no candidates?\u001b[39m\u001b[38;5;124m\"\u001b[39m\n\u001b[0;32m    860\u001b[0m     )\n",
      "File \u001b[1;32m~\\anaconda3\\lib\\site-packages\\joblib\\parallel.py:1046\u001b[0m, in \u001b[0;36mParallel.__call__\u001b[1;34m(self, iterable)\u001b[0m\n\u001b[0;32m   1043\u001b[0m \u001b[38;5;28;01mif\u001b[39;00m \u001b[38;5;28mself\u001b[39m\u001b[38;5;241m.\u001b[39mdispatch_one_batch(iterator):\n\u001b[0;32m   1044\u001b[0m     \u001b[38;5;28mself\u001b[39m\u001b[38;5;241m.\u001b[39m_iterating \u001b[38;5;241m=\u001b[39m \u001b[38;5;28mself\u001b[39m\u001b[38;5;241m.\u001b[39m_original_iterator \u001b[38;5;129;01mis\u001b[39;00m \u001b[38;5;129;01mnot\u001b[39;00m \u001b[38;5;28;01mNone\u001b[39;00m\n\u001b[1;32m-> 1046\u001b[0m \u001b[38;5;28;01mwhile\u001b[39;00m \u001b[38;5;28;43mself\u001b[39;49m\u001b[38;5;241;43m.\u001b[39;49m\u001b[43mdispatch_one_batch\u001b[49m\u001b[43m(\u001b[49m\u001b[43miterator\u001b[49m\u001b[43m)\u001b[49m:\n\u001b[0;32m   1047\u001b[0m     \u001b[38;5;28;01mpass\u001b[39;00m\n\u001b[0;32m   1049\u001b[0m \u001b[38;5;28;01mif\u001b[39;00m pre_dispatch \u001b[38;5;241m==\u001b[39m \u001b[38;5;124m\"\u001b[39m\u001b[38;5;124mall\u001b[39m\u001b[38;5;124m\"\u001b[39m \u001b[38;5;129;01mor\u001b[39;00m n_jobs \u001b[38;5;241m==\u001b[39m \u001b[38;5;241m1\u001b[39m:\n\u001b[0;32m   1050\u001b[0m     \u001b[38;5;66;03m# The iterable was consumed all at once by the above for loop.\u001b[39;00m\n\u001b[0;32m   1051\u001b[0m     \u001b[38;5;66;03m# No need to wait for async callbacks to trigger to\u001b[39;00m\n\u001b[0;32m   1052\u001b[0m     \u001b[38;5;66;03m# consumption.\u001b[39;00m\n",
      "File \u001b[1;32m~\\anaconda3\\lib\\site-packages\\joblib\\parallel.py:861\u001b[0m, in \u001b[0;36mParallel.dispatch_one_batch\u001b[1;34m(self, iterator)\u001b[0m\n\u001b[0;32m    859\u001b[0m     \u001b[38;5;28;01mreturn\u001b[39;00m \u001b[38;5;28;01mFalse\u001b[39;00m\n\u001b[0;32m    860\u001b[0m \u001b[38;5;28;01melse\u001b[39;00m:\n\u001b[1;32m--> 861\u001b[0m     \u001b[38;5;28;43mself\u001b[39;49m\u001b[38;5;241;43m.\u001b[39;49m\u001b[43m_dispatch\u001b[49m\u001b[43m(\u001b[49m\u001b[43mtasks\u001b[49m\u001b[43m)\u001b[49m\n\u001b[0;32m    862\u001b[0m     \u001b[38;5;28;01mreturn\u001b[39;00m \u001b[38;5;28;01mTrue\u001b[39;00m\n",
      "File \u001b[1;32m~\\anaconda3\\lib\\site-packages\\joblib\\parallel.py:779\u001b[0m, in \u001b[0;36mParallel._dispatch\u001b[1;34m(self, batch)\u001b[0m\n\u001b[0;32m    777\u001b[0m \u001b[38;5;28;01mwith\u001b[39;00m \u001b[38;5;28mself\u001b[39m\u001b[38;5;241m.\u001b[39m_lock:\n\u001b[0;32m    778\u001b[0m     job_idx \u001b[38;5;241m=\u001b[39m \u001b[38;5;28mlen\u001b[39m(\u001b[38;5;28mself\u001b[39m\u001b[38;5;241m.\u001b[39m_jobs)\n\u001b[1;32m--> 779\u001b[0m     job \u001b[38;5;241m=\u001b[39m \u001b[38;5;28;43mself\u001b[39;49m\u001b[38;5;241;43m.\u001b[39;49m\u001b[43m_backend\u001b[49m\u001b[38;5;241;43m.\u001b[39;49m\u001b[43mapply_async\u001b[49m\u001b[43m(\u001b[49m\u001b[43mbatch\u001b[49m\u001b[43m,\u001b[49m\u001b[43m \u001b[49m\u001b[43mcallback\u001b[49m\u001b[38;5;241;43m=\u001b[39;49m\u001b[43mcb\u001b[49m\u001b[43m)\u001b[49m\n\u001b[0;32m    780\u001b[0m     \u001b[38;5;66;03m# A job can complete so quickly than its callback is\u001b[39;00m\n\u001b[0;32m    781\u001b[0m     \u001b[38;5;66;03m# called before we get here, causing self._jobs to\u001b[39;00m\n\u001b[0;32m    782\u001b[0m     \u001b[38;5;66;03m# grow. To ensure correct results ordering, .insert is\u001b[39;00m\n\u001b[0;32m    783\u001b[0m     \u001b[38;5;66;03m# used (rather than .append) in the following line\u001b[39;00m\n\u001b[0;32m    784\u001b[0m     \u001b[38;5;28mself\u001b[39m\u001b[38;5;241m.\u001b[39m_jobs\u001b[38;5;241m.\u001b[39minsert(job_idx, job)\n",
      "File \u001b[1;32m~\\anaconda3\\lib\\site-packages\\joblib\\_parallel_backends.py:208\u001b[0m, in \u001b[0;36mSequentialBackend.apply_async\u001b[1;34m(self, func, callback)\u001b[0m\n\u001b[0;32m    206\u001b[0m \u001b[38;5;28;01mdef\u001b[39;00m \u001b[38;5;21mapply_async\u001b[39m(\u001b[38;5;28mself\u001b[39m, func, callback\u001b[38;5;241m=\u001b[39m\u001b[38;5;28;01mNone\u001b[39;00m):\n\u001b[0;32m    207\u001b[0m     \u001b[38;5;124;03m\"\"\"Schedule a func to be run\"\"\"\u001b[39;00m\n\u001b[1;32m--> 208\u001b[0m     result \u001b[38;5;241m=\u001b[39m \u001b[43mImmediateResult\u001b[49m\u001b[43m(\u001b[49m\u001b[43mfunc\u001b[49m\u001b[43m)\u001b[49m\n\u001b[0;32m    209\u001b[0m     \u001b[38;5;28;01mif\u001b[39;00m callback:\n\u001b[0;32m    210\u001b[0m         callback(result)\n",
      "File \u001b[1;32m~\\anaconda3\\lib\\site-packages\\joblib\\_parallel_backends.py:572\u001b[0m, in \u001b[0;36mImmediateResult.__init__\u001b[1;34m(self, batch)\u001b[0m\n\u001b[0;32m    569\u001b[0m \u001b[38;5;28;01mdef\u001b[39;00m \u001b[38;5;21m__init__\u001b[39m(\u001b[38;5;28mself\u001b[39m, batch):\n\u001b[0;32m    570\u001b[0m     \u001b[38;5;66;03m# Don't delay the application, to avoid keeping the input\u001b[39;00m\n\u001b[0;32m    571\u001b[0m     \u001b[38;5;66;03m# arguments in memory\u001b[39;00m\n\u001b[1;32m--> 572\u001b[0m     \u001b[38;5;28mself\u001b[39m\u001b[38;5;241m.\u001b[39mresults \u001b[38;5;241m=\u001b[39m \u001b[43mbatch\u001b[49m\u001b[43m(\u001b[49m\u001b[43m)\u001b[49m\n",
      "File \u001b[1;32m~\\anaconda3\\lib\\site-packages\\joblib\\parallel.py:262\u001b[0m, in \u001b[0;36mBatchedCalls.__call__\u001b[1;34m(self)\u001b[0m\n\u001b[0;32m    258\u001b[0m \u001b[38;5;28;01mdef\u001b[39;00m \u001b[38;5;21m__call__\u001b[39m(\u001b[38;5;28mself\u001b[39m):\n\u001b[0;32m    259\u001b[0m     \u001b[38;5;66;03m# Set the default nested backend to self._backend but do not set the\u001b[39;00m\n\u001b[0;32m    260\u001b[0m     \u001b[38;5;66;03m# change the default number of processes to -1\u001b[39;00m\n\u001b[0;32m    261\u001b[0m     \u001b[38;5;28;01mwith\u001b[39;00m parallel_backend(\u001b[38;5;28mself\u001b[39m\u001b[38;5;241m.\u001b[39m_backend, n_jobs\u001b[38;5;241m=\u001b[39m\u001b[38;5;28mself\u001b[39m\u001b[38;5;241m.\u001b[39m_n_jobs):\n\u001b[1;32m--> 262\u001b[0m         \u001b[38;5;28;01mreturn\u001b[39;00m [func(\u001b[38;5;241m*\u001b[39margs, \u001b[38;5;241m*\u001b[39m\u001b[38;5;241m*\u001b[39mkwargs)\n\u001b[0;32m    263\u001b[0m                 \u001b[38;5;28;01mfor\u001b[39;00m func, args, kwargs \u001b[38;5;129;01min\u001b[39;00m \u001b[38;5;28mself\u001b[39m\u001b[38;5;241m.\u001b[39mitems]\n",
      "File \u001b[1;32m~\\anaconda3\\lib\\site-packages\\joblib\\parallel.py:262\u001b[0m, in \u001b[0;36m<listcomp>\u001b[1;34m(.0)\u001b[0m\n\u001b[0;32m    258\u001b[0m \u001b[38;5;28;01mdef\u001b[39;00m \u001b[38;5;21m__call__\u001b[39m(\u001b[38;5;28mself\u001b[39m):\n\u001b[0;32m    259\u001b[0m     \u001b[38;5;66;03m# Set the default nested backend to self._backend but do not set the\u001b[39;00m\n\u001b[0;32m    260\u001b[0m     \u001b[38;5;66;03m# change the default number of processes to -1\u001b[39;00m\n\u001b[0;32m    261\u001b[0m     \u001b[38;5;28;01mwith\u001b[39;00m parallel_backend(\u001b[38;5;28mself\u001b[39m\u001b[38;5;241m.\u001b[39m_backend, n_jobs\u001b[38;5;241m=\u001b[39m\u001b[38;5;28mself\u001b[39m\u001b[38;5;241m.\u001b[39m_n_jobs):\n\u001b[1;32m--> 262\u001b[0m         \u001b[38;5;28;01mreturn\u001b[39;00m [func(\u001b[38;5;241m*\u001b[39margs, \u001b[38;5;241m*\u001b[39m\u001b[38;5;241m*\u001b[39mkwargs)\n\u001b[0;32m    263\u001b[0m                 \u001b[38;5;28;01mfor\u001b[39;00m func, args, kwargs \u001b[38;5;129;01min\u001b[39;00m \u001b[38;5;28mself\u001b[39m\u001b[38;5;241m.\u001b[39mitems]\n",
      "File \u001b[1;32m~\\anaconda3\\lib\\site-packages\\sklearn\\utils\\fixes.py:216\u001b[0m, in \u001b[0;36m_FuncWrapper.__call__\u001b[1;34m(self, *args, **kwargs)\u001b[0m\n\u001b[0;32m    214\u001b[0m \u001b[38;5;28;01mdef\u001b[39;00m \u001b[38;5;21m__call__\u001b[39m(\u001b[38;5;28mself\u001b[39m, \u001b[38;5;241m*\u001b[39margs, \u001b[38;5;241m*\u001b[39m\u001b[38;5;241m*\u001b[39mkwargs):\n\u001b[0;32m    215\u001b[0m     \u001b[38;5;28;01mwith\u001b[39;00m config_context(\u001b[38;5;241m*\u001b[39m\u001b[38;5;241m*\u001b[39m\u001b[38;5;28mself\u001b[39m\u001b[38;5;241m.\u001b[39mconfig):\n\u001b[1;32m--> 216\u001b[0m         \u001b[38;5;28;01mreturn\u001b[39;00m \u001b[38;5;28mself\u001b[39m\u001b[38;5;241m.\u001b[39mfunction(\u001b[38;5;241m*\u001b[39margs, \u001b[38;5;241m*\u001b[39m\u001b[38;5;241m*\u001b[39mkwargs)\n",
      "File \u001b[1;32m~\\anaconda3\\lib\\site-packages\\sklearn\\model_selection\\_validation.py:680\u001b[0m, in \u001b[0;36m_fit_and_score\u001b[1;34m(estimator, X, y, scorer, train, test, verbose, parameters, fit_params, return_train_score, return_parameters, return_n_test_samples, return_times, return_estimator, split_progress, candidate_progress, error_score)\u001b[0m\n\u001b[0;32m    678\u001b[0m         estimator\u001b[38;5;241m.\u001b[39mfit(X_train, \u001b[38;5;241m*\u001b[39m\u001b[38;5;241m*\u001b[39mfit_params)\n\u001b[0;32m    679\u001b[0m     \u001b[38;5;28;01melse\u001b[39;00m:\n\u001b[1;32m--> 680\u001b[0m         estimator\u001b[38;5;241m.\u001b[39mfit(X_train, y_train, \u001b[38;5;241m*\u001b[39m\u001b[38;5;241m*\u001b[39mfit_params)\n\u001b[0;32m    682\u001b[0m \u001b[38;5;28;01mexcept\u001b[39;00m \u001b[38;5;167;01mException\u001b[39;00m:\n\u001b[0;32m    683\u001b[0m     \u001b[38;5;66;03m# Note fit time as time until error\u001b[39;00m\n\u001b[0;32m    684\u001b[0m     fit_time \u001b[38;5;241m=\u001b[39m time\u001b[38;5;241m.\u001b[39mtime() \u001b[38;5;241m-\u001b[39m start_time\n",
      "File \u001b[1;32m~\\anaconda3\\lib\\site-packages\\keras\\wrappers\\scikit_learn.py:248\u001b[0m, in \u001b[0;36mKerasClassifier.fit\u001b[1;34m(self, x, y, **kwargs)\u001b[0m\n\u001b[0;32m    246\u001b[0m     \u001b[38;5;28;01mraise\u001b[39;00m \u001b[38;5;167;01mValueError\u001b[39;00m(\u001b[38;5;124m\"\u001b[39m\u001b[38;5;124mInvalid shape for y: \u001b[39m\u001b[38;5;124m\"\u001b[39m \u001b[38;5;241m+\u001b[39m \u001b[38;5;28mstr\u001b[39m(y\u001b[38;5;241m.\u001b[39mshape))\n\u001b[0;32m    247\u001b[0m \u001b[38;5;28mself\u001b[39m\u001b[38;5;241m.\u001b[39mn_classes_ \u001b[38;5;241m=\u001b[39m \u001b[38;5;28mlen\u001b[39m(\u001b[38;5;28mself\u001b[39m\u001b[38;5;241m.\u001b[39mclasses_)\n\u001b[1;32m--> 248\u001b[0m \u001b[38;5;28;01mreturn\u001b[39;00m \u001b[38;5;28msuper\u001b[39m()\u001b[38;5;241m.\u001b[39mfit(x, y, \u001b[38;5;241m*\u001b[39m\u001b[38;5;241m*\u001b[39mkwargs)\n",
      "File \u001b[1;32m~\\anaconda3\\lib\\site-packages\\keras\\wrappers\\scikit_learn.py:175\u001b[0m, in \u001b[0;36mBaseWrapper.fit\u001b[1;34m(self, x, y, **kwargs)\u001b[0m\n\u001b[0;32m    172\u001b[0m fit_args \u001b[38;5;241m=\u001b[39m copy\u001b[38;5;241m.\u001b[39mdeepcopy(\u001b[38;5;28mself\u001b[39m\u001b[38;5;241m.\u001b[39mfilter_sk_params(Sequential\u001b[38;5;241m.\u001b[39mfit))\n\u001b[0;32m    173\u001b[0m fit_args\u001b[38;5;241m.\u001b[39mupdate(kwargs)\n\u001b[1;32m--> 175\u001b[0m history \u001b[38;5;241m=\u001b[39m \u001b[38;5;28mself\u001b[39m\u001b[38;5;241m.\u001b[39mmodel\u001b[38;5;241m.\u001b[39mfit(x, y, \u001b[38;5;241m*\u001b[39m\u001b[38;5;241m*\u001b[39mfit_args)\n\u001b[0;32m    177\u001b[0m \u001b[38;5;28;01mreturn\u001b[39;00m history\n",
      "File \u001b[1;32m~\\anaconda3\\lib\\site-packages\\keras\\utils\\traceback_utils.py:65\u001b[0m, in \u001b[0;36mfilter_traceback.<locals>.error_handler\u001b[1;34m(*args, **kwargs)\u001b[0m\n\u001b[0;32m     63\u001b[0m filtered_tb \u001b[38;5;241m=\u001b[39m \u001b[38;5;28;01mNone\u001b[39;00m\n\u001b[0;32m     64\u001b[0m \u001b[38;5;28;01mtry\u001b[39;00m:\n\u001b[1;32m---> 65\u001b[0m     \u001b[38;5;28;01mreturn\u001b[39;00m fn(\u001b[38;5;241m*\u001b[39margs, \u001b[38;5;241m*\u001b[39m\u001b[38;5;241m*\u001b[39mkwargs)\n\u001b[0;32m     66\u001b[0m \u001b[38;5;28;01mexcept\u001b[39;00m \u001b[38;5;167;01mException\u001b[39;00m \u001b[38;5;28;01mas\u001b[39;00m e:\n\u001b[0;32m     67\u001b[0m     filtered_tb \u001b[38;5;241m=\u001b[39m _process_traceback_frames(e\u001b[38;5;241m.\u001b[39m__traceback__)\n",
      "File \u001b[1;32m~\\anaconda3\\lib\\site-packages\\keras\\engine\\training.py:1641\u001b[0m, in \u001b[0;36mModel.fit\u001b[1;34m(self, x, y, batch_size, epochs, verbose, callbacks, validation_split, validation_data, shuffle, class_weight, sample_weight, initial_epoch, steps_per_epoch, validation_steps, validation_batch_size, validation_freq, max_queue_size, workers, use_multiprocessing)\u001b[0m\n\u001b[0;32m   1639\u001b[0m callbacks\u001b[38;5;241m.\u001b[39mon_epoch_begin(epoch)\n\u001b[0;32m   1640\u001b[0m \u001b[38;5;28;01mwith\u001b[39;00m data_handler\u001b[38;5;241m.\u001b[39mcatch_stop_iteration():\n\u001b[1;32m-> 1641\u001b[0m     \u001b[38;5;28;01mfor\u001b[39;00m step \u001b[38;5;129;01min\u001b[39;00m data_handler\u001b[38;5;241m.\u001b[39msteps():\n\u001b[0;32m   1642\u001b[0m         \u001b[38;5;28;01mwith\u001b[39;00m tf\u001b[38;5;241m.\u001b[39mprofiler\u001b[38;5;241m.\u001b[39mexperimental\u001b[38;5;241m.\u001b[39mTrace(\n\u001b[0;32m   1643\u001b[0m             \u001b[38;5;124m\"\u001b[39m\u001b[38;5;124mtrain\u001b[39m\u001b[38;5;124m\"\u001b[39m,\n\u001b[0;32m   1644\u001b[0m             epoch_num\u001b[38;5;241m=\u001b[39mepoch,\n\u001b[1;32m   (...)\u001b[0m\n\u001b[0;32m   1647\u001b[0m             _r\u001b[38;5;241m=\u001b[39m\u001b[38;5;241m1\u001b[39m,\n\u001b[0;32m   1648\u001b[0m         ):\n\u001b[0;32m   1649\u001b[0m             callbacks\u001b[38;5;241m.\u001b[39mon_train_batch_begin(step)\n",
      "File \u001b[1;32m~\\anaconda3\\lib\\site-packages\\keras\\engine\\data_adapter.py:1371\u001b[0m, in \u001b[0;36mDataHandler.steps\u001b[1;34m(self)\u001b[0m\n\u001b[0;32m   1369\u001b[0m \u001b[38;5;28;01mif\u001b[39;00m \u001b[38;5;28mself\u001b[39m\u001b[38;5;241m.\u001b[39m_insufficient_data:  \u001b[38;5;66;03m# Set by `catch_stop_iteration`.\u001b[39;00m\n\u001b[0;32m   1370\u001b[0m     \u001b[38;5;28;01mbreak\u001b[39;00m\n\u001b[1;32m-> 1371\u001b[0m original_spe \u001b[38;5;241m=\u001b[39m \u001b[38;5;28;43mself\u001b[39;49m\u001b[38;5;241;43m.\u001b[39;49m\u001b[43m_steps_per_execution\u001b[49m\u001b[38;5;241;43m.\u001b[39;49m\u001b[43mnumpy\u001b[49m\u001b[43m(\u001b[49m\u001b[43m)\u001b[49m\u001b[38;5;241m.\u001b[39mitem()\n\u001b[0;32m   1372\u001b[0m can_run_full_execution \u001b[38;5;241m=\u001b[39m (\n\u001b[0;32m   1373\u001b[0m     original_spe \u001b[38;5;241m==\u001b[39m \u001b[38;5;241m1\u001b[39m\n\u001b[0;32m   1374\u001b[0m     \u001b[38;5;129;01mor\u001b[39;00m \u001b[38;5;28mself\u001b[39m\u001b[38;5;241m.\u001b[39m_inferred_steps \u001b[38;5;129;01mis\u001b[39;00m \u001b[38;5;28;01mNone\u001b[39;00m\n\u001b[0;32m   1375\u001b[0m     \u001b[38;5;129;01mor\u001b[39;00m \u001b[38;5;28mself\u001b[39m\u001b[38;5;241m.\u001b[39m_inferred_steps \u001b[38;5;241m-\u001b[39m \u001b[38;5;28mself\u001b[39m\u001b[38;5;241m.\u001b[39m_current_step \u001b[38;5;241m>\u001b[39m\u001b[38;5;241m=\u001b[39m original_spe\n\u001b[0;32m   1376\u001b[0m )\n\u001b[0;32m   1378\u001b[0m \u001b[38;5;28;01mif\u001b[39;00m can_run_full_execution:\n",
      "File \u001b[1;32m~\\anaconda3\\lib\\site-packages\\tensorflow\\python\\ops\\resource_variable_ops.py:639\u001b[0m, in \u001b[0;36mBaseResourceVariable.numpy\u001b[1;34m(self)\u001b[0m\n\u001b[0;32m    637\u001b[0m \u001b[38;5;28;01mdef\u001b[39;00m \u001b[38;5;21mnumpy\u001b[39m(\u001b[38;5;28mself\u001b[39m):\n\u001b[0;32m    638\u001b[0m   \u001b[38;5;28;01mif\u001b[39;00m context\u001b[38;5;241m.\u001b[39mexecuting_eagerly():\n\u001b[1;32m--> 639\u001b[0m     \u001b[38;5;28;01mreturn\u001b[39;00m \u001b[38;5;28;43mself\u001b[39;49m\u001b[38;5;241;43m.\u001b[39;49m\u001b[43mread_value\u001b[49m\u001b[43m(\u001b[49m\u001b[43m)\u001b[49m\u001b[38;5;241m.\u001b[39mnumpy()\n\u001b[0;32m    640\u001b[0m   \u001b[38;5;28;01mraise\u001b[39;00m \u001b[38;5;167;01mNotImplementedError\u001b[39;00m(\n\u001b[0;32m    641\u001b[0m       \u001b[38;5;124m\"\u001b[39m\u001b[38;5;124mnumpy() is only available when eager execution is enabled.\u001b[39m\u001b[38;5;124m\"\u001b[39m)\n",
      "File \u001b[1;32m~\\anaconda3\\lib\\site-packages\\tensorflow\\python\\ops\\resource_variable_ops.py:730\u001b[0m, in \u001b[0;36mBaseResourceVariable.read_value\u001b[1;34m(self)\u001b[0m\n\u001b[0;32m    727\u001b[0m   value \u001b[38;5;241m=\u001b[39m \u001b[38;5;28mself\u001b[39m\u001b[38;5;241m.\u001b[39m_read_variable_op()\n\u001b[0;32m    728\u001b[0m \u001b[38;5;66;03m# Return an identity so it can get placed on whatever device the context\u001b[39;00m\n\u001b[0;32m    729\u001b[0m \u001b[38;5;66;03m# specifies instead of the device where the variable is.\u001b[39;00m\n\u001b[1;32m--> 730\u001b[0m \u001b[38;5;28;01mreturn\u001b[39;00m \u001b[43marray_ops\u001b[49m\u001b[38;5;241;43m.\u001b[39;49m\u001b[43midentity\u001b[49m\u001b[43m(\u001b[49m\u001b[43mvalue\u001b[49m\u001b[43m)\u001b[49m\n",
      "File \u001b[1;32m~\\anaconda3\\lib\\site-packages\\tensorflow\\python\\util\\traceback_utils.py:150\u001b[0m, in \u001b[0;36mfilter_traceback.<locals>.error_handler\u001b[1;34m(*args, **kwargs)\u001b[0m\n\u001b[0;32m    148\u001b[0m filtered_tb \u001b[38;5;241m=\u001b[39m \u001b[38;5;28;01mNone\u001b[39;00m\n\u001b[0;32m    149\u001b[0m \u001b[38;5;28;01mtry\u001b[39;00m:\n\u001b[1;32m--> 150\u001b[0m   \u001b[38;5;28;01mreturn\u001b[39;00m fn(\u001b[38;5;241m*\u001b[39margs, \u001b[38;5;241m*\u001b[39m\u001b[38;5;241m*\u001b[39mkwargs)\n\u001b[0;32m    151\u001b[0m \u001b[38;5;28;01mexcept\u001b[39;00m \u001b[38;5;167;01mException\u001b[39;00m \u001b[38;5;28;01mas\u001b[39;00m e:\n\u001b[0;32m    152\u001b[0m   filtered_tb \u001b[38;5;241m=\u001b[39m _process_traceback_frames(e\u001b[38;5;241m.\u001b[39m__traceback__)\n",
      "File \u001b[1;32m~\\anaconda3\\lib\\site-packages\\tensorflow\\python\\util\\dispatch.py:1176\u001b[0m, in \u001b[0;36madd_dispatch_support.<locals>.decorator.<locals>.op_dispatch_handler\u001b[1;34m(*args, **kwargs)\u001b[0m\n\u001b[0;32m   1174\u001b[0m \u001b[38;5;66;03m# Fallback dispatch system (dispatch v1):\u001b[39;00m\n\u001b[0;32m   1175\u001b[0m \u001b[38;5;28;01mtry\u001b[39;00m:\n\u001b[1;32m-> 1176\u001b[0m   \u001b[38;5;28;01mreturn\u001b[39;00m dispatch_target(\u001b[38;5;241m*\u001b[39margs, \u001b[38;5;241m*\u001b[39m\u001b[38;5;241m*\u001b[39mkwargs)\n\u001b[0;32m   1177\u001b[0m \u001b[38;5;28;01mexcept\u001b[39;00m (\u001b[38;5;167;01mTypeError\u001b[39;00m, \u001b[38;5;167;01mValueError\u001b[39;00m):\n\u001b[0;32m   1178\u001b[0m   \u001b[38;5;66;03m# Note: convert_to_eager_tensor currently raises a ValueError, not a\u001b[39;00m\n\u001b[0;32m   1179\u001b[0m   \u001b[38;5;66;03m# TypeError, when given unexpected types.  So we need to catch both.\u001b[39;00m\n\u001b[0;32m   1180\u001b[0m   result \u001b[38;5;241m=\u001b[39m dispatch(op_dispatch_handler, args, kwargs)\n",
      "File \u001b[1;32m~\\anaconda3\\lib\\site-packages\\tensorflow\\python\\ops\\array_ops.py:294\u001b[0m, in \u001b[0;36midentity\u001b[1;34m(input, name)\u001b[0m\n\u001b[0;32m    290\u001b[0m \u001b[38;5;28;01mif\u001b[39;00m context\u001b[38;5;241m.\u001b[39mexecuting_eagerly() \u001b[38;5;129;01mand\u001b[39;00m \u001b[38;5;129;01mnot\u001b[39;00m \u001b[38;5;28mhasattr\u001b[39m(\u001b[38;5;28minput\u001b[39m, \u001b[38;5;124m\"\u001b[39m\u001b[38;5;124mgraph\u001b[39m\u001b[38;5;124m\"\u001b[39m):\n\u001b[0;32m    291\u001b[0m   \u001b[38;5;66;03m# Make sure we get an input with handle data attached from resource\u001b[39;00m\n\u001b[0;32m    292\u001b[0m   \u001b[38;5;66;03m# variables. Variables have correct handle data when graph building.\u001b[39;00m\n\u001b[0;32m    293\u001b[0m   \u001b[38;5;28minput\u001b[39m \u001b[38;5;241m=\u001b[39m ops\u001b[38;5;241m.\u001b[39mconvert_to_tensor(\u001b[38;5;28minput\u001b[39m)\n\u001b[1;32m--> 294\u001b[0m ret \u001b[38;5;241m=\u001b[39m \u001b[43mgen_array_ops\u001b[49m\u001b[38;5;241;43m.\u001b[39;49m\u001b[43midentity\u001b[49m\u001b[43m(\u001b[49m\u001b[38;5;28;43minput\u001b[39;49m\u001b[43m,\u001b[49m\u001b[43m \u001b[49m\u001b[43mname\u001b[49m\u001b[38;5;241;43m=\u001b[39;49m\u001b[43mname\u001b[49m\u001b[43m)\u001b[49m\n\u001b[0;32m    295\u001b[0m \u001b[38;5;66;03m# Propagate handle data for happier shape inference for resource variables.\u001b[39;00m\n\u001b[0;32m    296\u001b[0m \u001b[38;5;28;01mif\u001b[39;00m \u001b[38;5;28mhasattr\u001b[39m(\u001b[38;5;28minput\u001b[39m, \u001b[38;5;124m\"\u001b[39m\u001b[38;5;124m_handle_data\u001b[39m\u001b[38;5;124m\"\u001b[39m):\n",
      "File \u001b[1;32m~\\anaconda3\\lib\\site-packages\\tensorflow\\python\\ops\\gen_array_ops.py:4835\u001b[0m, in \u001b[0;36midentity\u001b[1;34m(input, name)\u001b[0m\n\u001b[0;32m   4833\u001b[0m \u001b[38;5;28;01mif\u001b[39;00m tld\u001b[38;5;241m.\u001b[39mis_eager:\n\u001b[0;32m   4834\u001b[0m   \u001b[38;5;28;01mtry\u001b[39;00m:\n\u001b[1;32m-> 4835\u001b[0m     _result \u001b[38;5;241m=\u001b[39m \u001b[43mpywrap_tfe\u001b[49m\u001b[38;5;241;43m.\u001b[39;49m\u001b[43mTFE_Py_FastPathExecute\u001b[49m\u001b[43m(\u001b[49m\n\u001b[0;32m   4836\u001b[0m \u001b[43m      \u001b[49m\u001b[43m_ctx\u001b[49m\u001b[43m,\u001b[49m\u001b[43m \u001b[49m\u001b[38;5;124;43m\"\u001b[39;49m\u001b[38;5;124;43mIdentity\u001b[39;49m\u001b[38;5;124;43m\"\u001b[39;49m\u001b[43m,\u001b[49m\u001b[43m \u001b[49m\u001b[43mname\u001b[49m\u001b[43m,\u001b[49m\u001b[43m \u001b[49m\u001b[38;5;28;43minput\u001b[39;49m\u001b[43m)\u001b[49m\n\u001b[0;32m   4837\u001b[0m     \u001b[38;5;28;01mreturn\u001b[39;00m _result\n\u001b[0;32m   4838\u001b[0m   \u001b[38;5;28;01mexcept\u001b[39;00m _core\u001b[38;5;241m.\u001b[39m_NotOkStatusException \u001b[38;5;28;01mas\u001b[39;00m e:\n",
      "\u001b[1;31mKeyboardInterrupt\u001b[0m: "
     ]
    }
   ],
   "source": [
    "\n",
    "# # Dropout regularization to reduce overfitting if needed (in part 2 above)\n",
    "\n",
    "# # Tuning the ANN\n",
    "# from keras.wrappers.scikit_learn import KerasClassifier\n",
    "# from sklearn.model_selection import GridSearchCV\n",
    "# from keras.models import Sequential\n",
    "# from keras.layers import Dense\n",
    "# def build_classifier(optimizer):\n",
    "#     classifier = Sequential()\n",
    "#     classifier.add(Dense(units = 6, kernel_initializer = 'uniform', activation = 'relu', input_dim = 11))\n",
    "#     classifier.add(Dense(units = 6, kernel_initializer = 'uniform', activation = 'relu'))\n",
    "#     classifier.add(Dense(units = 1, kernel_initializer = 'uniform', activation = 'sigmoid'))\n",
    "#     classifier.compile(optimizer = optimizer, loss = 'binary_crossentropy', metrics = ['accuracy'])\n",
    "#     return classifier\n",
    "# classifier = KerasClassifier(build_fn = build_classifier)\n",
    "# parameters = {'batch_size': [25, 32], 'epochs': [100, 500], 'optimizer': ['adam', 'rmsprop']} # create dictionary for parameters to optimize\n",
    "# grid_search = GridSearchCV(estimator = classifier, param_grid = parameters, scoring = 'accuracy', cv = 10)\n",
    "# grid_search = grid_search.fit(X_train, y_train)\n",
    "# best_parameters = grid_search.best_params_\n",
    "# best_accuracy = grid_search.best_score_"
   ]
  },
  {
   "cell_type": "code",
   "execution_count": 44,
   "metadata": {
    "colab": {},
    "colab_type": "code",
    "executionInfo": {
     "elapsed": 25288,
     "status": "aborted",
     "timestamp": 1595673360276,
     "user": {
      "displayName": "Narimane GASSA",
      "photoUrl": "",
      "userId": "05982712181181285061"
     },
     "user_tz": -60
    },
    "id": "69fSpdECitPi"
   },
   "outputs": [
    {
     "name": "stdout",
     "output_type": "stream",
     "text": [
      "           documents  width\n",
      "0         First item      3\n",
      "1    second one here      4\n",
      "2  Is this the last?      5\n"
     ]
    }
   ],
   "source": [
    "from sklearn.feature_extraction import FeatureHasher\n",
    ">>> from sklearn.preprocessing import MinMaxScaler\n",
    ">>> import pandas as pd   \n",
    ">>> Xz = pd.DataFrame({\n",
    "...     \"documents\": [\"First item\", \"second one here\", \"Is this the last?\"],\n",
    "...     \"width\": [3, 4, 5],\n",
    "... }) \n",
    "print(Xz)\n",
    "\n",
    ">>> # \"documents\" is a string which configures ColumnTransformer to\n",
    ">>> # pass the documents column as a 1d array to the FeatureHasher\n",
    ">>> ct = ColumnTransformer( transformers = \n",
    "...     [(\"text_preprocess\", FeatureHasher(input_type=\"string\"), \"documents\"),\n",
    "...      (\"num_preprocess\", MinMaxScaler(), [\"width\"])])\n",
    ">>> X_trans = ct.fit_transform(Xz) "
   ]
  },
  {
   "cell_type": "code",
   "execution_count": 45,
   "metadata": {},
   "outputs": [
    {
     "name": "stdout",
     "output_type": "stream",
     "text": [
      "  (0, 226289)\t1.0\n",
      "  (0, 276572)\t1.0\n",
      "  (0, 301976)\t1.0\n",
      "  (0, 323322)\t-1.0\n",
      "  (0, 341263)\t-1.0\n",
      "  (0, 364501)\t-2.0\n",
      "  (0, 532659)\t-2.0\n",
      "  (0, 803687)\t1.0\n",
      "  (1, 226289)\t1.0\n",
      "  (1, 296051)\t2.0\n",
      "  (1, 301976)\t2.0\n",
      "  (1, 341263)\t-1.0\n",
      "  (1, 595059)\t1.0\n",
      "  (1, 803687)\t4.0\n",
      "  (1, 862625)\t-1.0\n",
      "  (1, 871725)\t-1.0\n",
      "  (1, 927572)\t-2.0\n",
      "  (1, 1048576)\t0.5\n",
      "  (2, 122826)\t1.0\n",
      "  (2, 301976)\t3.0\n",
      "  (2, 341263)\t-3.0\n",
      "  (2, 354738)\t1.0\n",
      "  (2, 364501)\t-1.0\n",
      "  (2, 532659)\t-3.0\n",
      "  (2, 803687)\t1.0\n",
      "  (2, 871725)\t-2.0\n",
      "  (2, 879148)\t1.0\n",
      "  (2, 960506)\t-1.0\n",
      "  (2, 1048576)\t1.0\n"
     ]
    }
   ],
   "source": [
    "print(X_trans)"
   ]
  },
  {
   "cell_type": "code",
   "execution_count": null,
   "metadata": {},
   "outputs": [],
   "source": []
  }
 ],
 "metadata": {
  "colab": {
   "name": "Bank Customer Artificial Neural Network.ipynb",
   "provenance": [],
   "toc_visible": true
  },
  "kernelspec": {
   "display_name": "Python 3 (ipykernel)",
   "language": "python",
   "name": "python3"
  },
  "language_info": {
   "codemirror_mode": {
    "name": "ipython",
    "version": 3
   },
   "file_extension": ".py",
   "mimetype": "text/x-python",
   "name": "python",
   "nbconvert_exporter": "python",
   "pygments_lexer": "ipython3",
   "version": "3.9.12"
  }
 },
 "nbformat": 4,
 "nbformat_minor": 1
}

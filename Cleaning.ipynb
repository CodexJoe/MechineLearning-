{
  "nbformat": 4,
  "nbformat_minor": 0,
  "metadata": {
    "colab": {
      "provenance": []
    },
    "kernelspec": {
      "name": "python3",
      "display_name": "Python 3"
    },
    "language_info": {
      "name": "python"
    }
  },
  "cells": [
    {
      "cell_type": "markdown",
      "source": [
        "**Objective In this checkpoint, we take back the previous dictionary to create our dataset and apply what we learned in data cleaning and data transformation parts.\n",
        "\n",
        "exam_data = {'name': ['Anastasia', 'Dima', 'Katherine', 'James', 'Emily', 'Michael', 'Matthew', 'Laura', 'Kevin', 'Jonas', \"Elias\", 'Myriam'],\n",
        "\n",
        "'score': [12.5, 9, 16.5, np.nan, 9, 20, 14.5, np.nan , 8, 19, 20, 16],\n",
        "\n",
        "'attempts': [1, 3, 2, 3, 2, 3, 1, 1, np.nan ,1, 3, 2],\n",
        "\n",
        "'qualify': ['yes', 'no', 'yes', 'no', 'no', 'yes', 'yes', 'no',np.nan , 'yes', 'yes', 'yes']}\n",
        "\n",
        "labels = ['a', 'b', 'c', 'd', 'e', 'f', 'g', 'h', 'i', 'j', 'k', 'l']\n",
        "\n",
        "Instructions Create a dataframe from the exam_data dictionary indexed by labels list. Check if you have missing values by calculating the sum of NaN values. Replace missing values by the appropriate data. Now, once you cleaned your data, transform the values of the qualify variable into numerical(using the two methods of transformation)**"
      ],
      "metadata": {
        "id": "fQPPeyLVRpF5"
      }
    },
    {
      "cell_type": "markdown",
      "source": [
        "*** Q1. Create a dataframe from the exam_data dictionary indexed by labels list.***"
      ],
      "metadata": {
        "id": "z4h4THxcSBnK"
      }
    },
    {
      "cell_type": "code",
      "execution_count": null,
      "metadata": {
        "colab": {
          "base_uri": "https://localhost:8080/"
        },
        "id": "7rg2bszoNktr",
        "outputId": "6c6c1cf7-4cd9-4d7b-cd38-975ad7ac2e4c"
      },
      "outputs": [
        {
          "output_type": "stream",
          "name": "stdout",
          "text": [
            "        name  score  attempts qualify\n",
            "a  Anastasia   12.5       1.0     yes\n",
            "b       Dima    9.0       3.0      no\n",
            "c  Katherine   16.5       2.0     yes\n",
            "d      James    NaN       3.0      no\n",
            "e      Emily    9.0       2.0      no\n",
            "f    Michael   20.0       3.0     yes\n",
            "g    Matthew   14.5       1.0     yes\n",
            "h      Laura    NaN       1.0      no\n",
            "i      Kevin    8.0       NaN     NaN\n",
            "j      Jonas   19.0       1.0     yes\n",
            "k      Elias   20.0       3.0     yes\n",
            "l     Myriam   16.0       2.0     yes\n"
          ]
        }
      ],
      "source": [
        "import pandas as pd, numpy as np\n",
        "\n",
        "exam_data = {'name': ['Anastasia', 'Dima', 'Katherine', 'James', 'Emily', 'Michael', 'Matthew', 'Laura', 'Kevin', 'Jonas', \"Elias\", 'Myriam'],\n",
        "\n",
        "'score': [12.5, 9, 16.5, np.nan, 9, 20, 14.5, np.nan , 8, 19, 20, 16],\n",
        "\n",
        "'attempts': [1, 3, 2, 3, 2, 3, 1, 1, np.nan ,1, 3, 2],\n",
        "\n",
        "'qualify': ['yes', 'no', 'yes', 'no', 'no', 'yes', 'yes', 'no',np.nan , 'yes', 'yes', 'yes']}\n",
        "\n",
        "labels = ['a', 'b', 'c', 'd', 'e', 'f', 'g', 'h', 'i', 'j', 'k', 'l']\n",
        "exam_data_pd = pd.DataFrame(exam_data)\n",
        "exam_data_pd.index = labels\n",
        "print(exam_data_pd)"
      ]
    },
    {
      "cell_type": "markdown",
      "source": [
        "***Q2. Check if you have missing values by calculating the sum of NaN values***"
      ],
      "metadata": {
        "id": "Q8uipYv4SPS-"
      }
    },
    {
      "cell_type": "code",
      "source": [
        "print(exam_data_pd.isna().sum())"
      ],
      "metadata": {
        "colab": {
          "base_uri": "https://localhost:8080/"
        },
        "id": "PlqOagOYNrdV",
        "outputId": "ec688ee0-9abf-4d97-c4cb-43bf5039d7fc"
      },
      "execution_count": null,
      "outputs": [
        {
          "output_type": "stream",
          "name": "stdout",
          "text": [
            "name        0\n",
            "score       2\n",
            "attempts    1\n",
            "qualify     1\n",
            "dtype: int64\n"
          ]
        }
      ]
    },
    {
      "cell_type": "markdown",
      "source": [
        "***Q3(a). Replace missing values by the appropriate data***"
      ],
      "metadata": {
        "id": "MAZbZsa6SZ0P"
      }
    },
    {
      "cell_type": "code",
      "source": [
        "exam_data_pd['score'].fillna(2, inplace = True)\n",
        "print(exam_data_pd)"
      ],
      "metadata": {
        "colab": {
          "base_uri": "https://localhost:8080/"
        },
        "id": "gxtQ7vUaNvvf",
        "outputId": "18c113f6-8112-49b3-b07e-42e512530384"
      },
      "execution_count": null,
      "outputs": [
        {
          "output_type": "stream",
          "name": "stdout",
          "text": [
            "        name  score  attempts qualify\n",
            "a  Anastasia   12.5       1.0     yes\n",
            "b       Dima    9.0       3.0      no\n",
            "c  Katherine   16.5       2.0     yes\n",
            "d      James    2.0       3.0      no\n",
            "e      Emily    9.0       2.0      no\n",
            "f    Michael   20.0       3.0     yes\n",
            "g    Matthew   14.5       1.0     yes\n",
            "h      Laura    2.0       1.0      no\n",
            "i      Kevin    8.0       NaN     NaN\n",
            "j      Jonas   19.0       1.0     yes\n",
            "k      Elias   20.0       3.0     yes\n",
            "l     Myriam   16.0       2.0     yes\n"
          ]
        }
      ]
    },
    {
      "cell_type": "markdown",
      "source": [
        "***Q3(b). Replace missing values by the appropriate data***"
      ],
      "metadata": {
        "id": "hMIPM1awSiCq"
      }
    },
    {
      "cell_type": "code",
      "source": [
        "exam_data_pd['attempts'].fillna(1, inplace = True)\n",
        "print(exam_data_pd)"
      ],
      "metadata": {
        "colab": {
          "base_uri": "https://localhost:8080/"
        },
        "id": "XQBrJdIdN7qr",
        "outputId": "1e7ce8cd-5e20-4177-9bff-5eb069bb1ebb"
      },
      "execution_count": null,
      "outputs": [
        {
          "output_type": "stream",
          "name": "stdout",
          "text": [
            "        name  score  attempts qualify\n",
            "a  Anastasia   12.5       1.0     yes\n",
            "b       Dima    9.0       3.0      no\n",
            "c  Katherine   16.5       2.0     yes\n",
            "d      James    2.0       3.0      no\n",
            "e      Emily    9.0       2.0      no\n",
            "f    Michael   20.0       3.0     yes\n",
            "g    Matthew   14.5       1.0     yes\n",
            "h      Laura    2.0       1.0      no\n",
            "i      Kevin    8.0       1.0     NaN\n",
            "j      Jonas   19.0       1.0     yes\n",
            "k      Elias   20.0       3.0     yes\n",
            "l     Myriam   16.0       2.0     yes\n"
          ]
        }
      ]
    },
    {
      "cell_type": "markdown",
      "source": [
        "***Q3(c). Replace missing values by the appropriate data***"
      ],
      "metadata": {
        "id": "QtUw-8m6TKs3"
      }
    },
    {
      "cell_type": "code",
      "source": [
        "exam_data_pd['qualify'].fillna('no', inplace = True)\n",
        "print(exam_data_pd)"
      ],
      "metadata": {
        "colab": {
          "base_uri": "https://localhost:8080/"
        },
        "id": "-_wFQeyKOB_Z",
        "outputId": "be1503f8-bd34-4298-c3a3-857a6cd7594c"
      },
      "execution_count": null,
      "outputs": [
        {
          "output_type": "stream",
          "name": "stdout",
          "text": [
            "        name  score  attempts qualify\n",
            "a  Anastasia   12.5       1.0     yes\n",
            "b       Dima    9.0       3.0      no\n",
            "c  Katherine   16.5       2.0     yes\n",
            "d      James    2.0       3.0      no\n",
            "e      Emily    9.0       2.0      no\n",
            "f    Michael   20.0       3.0     yes\n",
            "g    Matthew   14.5       1.0     yes\n",
            "h      Laura    2.0       1.0      no\n",
            "i      Kevin    8.0       1.0      no\n",
            "j      Jonas   19.0       1.0     yes\n",
            "k      Elias   20.0       3.0     yes\n",
            "l     Myriam   16.0       2.0     yes\n"
          ]
        }
      ]
    },
    {
      "cell_type": "markdown",
      "source": [
        "***Q4(a). Transform the values of the qualify variable into numerical using label encoder method***"
      ],
      "metadata": {
        "id": "XGwKOaNISyZY"
      }
    },
    {
      "cell_type": "code",
      "source": [
        "import sklearn.preprocessing as sk\n",
        "encoder = sk.LabelEncoder()\n",
        "exam_data_pd['qualify_LE'] = encoder.fit_transform(exam_data_pd['qualify'])\n",
        "print(exam_data_pd)"
      ],
      "metadata": {
        "colab": {
          "base_uri": "https://localhost:8080/"
        },
        "id": "IYWgD4JXOkHr",
        "outputId": "d69bd49b-53f7-49fc-c096-053ee0168349"
      },
      "execution_count": null,
      "outputs": [
        {
          "output_type": "stream",
          "name": "stdout",
          "text": [
            "        name  score  attempts qualify  qualify_LE\n",
            "a  Anastasia   12.5       1.0     yes           1\n",
            "b       Dima    9.0       3.0      no           0\n",
            "c  Katherine   16.5       2.0     yes           1\n",
            "d      James    2.0       3.0      no           0\n",
            "e      Emily    9.0       2.0      no           0\n",
            "f    Michael   20.0       3.0     yes           1\n",
            "g    Matthew   14.5       1.0     yes           1\n",
            "h      Laura    2.0       1.0      no           0\n",
            "i      Kevin    8.0       1.0      no           0\n",
            "j      Jonas   19.0       1.0     yes           1\n",
            "k      Elias   20.0       3.0     yes           1\n",
            "l     Myriam   16.0       2.0     yes           1\n"
          ]
        }
      ]
    },
    {
      "cell_type": "markdown",
      "source": [
        "***Q4(b). Transform the values of the qualify variable into numerical using One-hot encoder method***"
      ],
      "metadata": {
        "id": "5o3JWk9iTT5_"
      }
    },
    {
      "cell_type": "code",
      "source": [
        "qualify_one_hot = pd.get_dummies(exam_data_pd['qualify'])\n",
        "exam_data_pd = exam_data_pd.drop('qualify', axis = 1)\n",
        "exam_data_pd = exam_data_pd.join(qualify_one_hot)\n",
        "print(exam_data_pd)"
      ],
      "metadata": {
        "colab": {
          "base_uri": "https://localhost:8080/"
        },
        "id": "g8uTnaAyQOig",
        "outputId": "d85f46aa-8bc6-4ca9-af5c-749393ead8bb"
      },
      "execution_count": null,
      "outputs": [
        {
          "output_type": "stream",
          "name": "stdout",
          "text": [
            "        name  score  attempts  qualify_LE  no  yes\n",
            "a  Anastasia   12.5       1.0           1   0    1\n",
            "b       Dima    9.0       3.0           0   1    0\n",
            "c  Katherine   16.5       2.0           1   0    1\n",
            "d      James    2.0       3.0           0   1    0\n",
            "e      Emily    9.0       2.0           0   1    0\n",
            "f    Michael   20.0       3.0           1   0    1\n",
            "g    Matthew   14.5       1.0           1   0    1\n",
            "h      Laura    2.0       1.0           0   1    0\n",
            "i      Kevin    8.0       1.0           0   1    0\n",
            "j      Jonas   19.0       1.0           1   0    1\n",
            "k      Elias   20.0       3.0           1   0    1\n",
            "l     Myriam   16.0       2.0           1   0    1\n"
          ]
        }
      ]
    }
  ]
}